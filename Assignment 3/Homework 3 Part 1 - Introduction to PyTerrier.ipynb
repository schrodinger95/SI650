{
 "cells": [
  {
   "cell_type": "markdown",
   "metadata": {
    "id": "6UxEkLc6yz6J"
   },
   "source": [
    "# SI 650 / EECS 549: Homework 3 Part 1\n",
    "## Introduction to PyTerrier \n",
    "\n",
    "This homework is intended to expose you to other types of information retrieval and demonstrates the use of another state of the art IR library, [PyTerrier](https://github.com/terrier-org/pyterrier). \n",
    "\n",
    "The overall learning goals of the assignment across all three parts are\n",
    "  - Learn how to use PyTerrier\n",
    "  - Understand how to train and use a Learning to Rank model\n",
    "  - Understand how to train and use a dense vector retrieval (using deep learning)\n",
    "  - Understand how to use document augmentation\n",
    "  - Gain additional programming and debugging skills when working with modern IR libraries\n",
    "  - Learn how to use the [Great Lakes cluster](https://arc.umich.edu/greatlakes/)\n",
    "  \n",
    "  \n",
    "The Great Lakes cluster is a collection of high performance computers at the University of Michigan. The big advantage for this course is the ability to use its GPUs for doing deep learning. You will have access to this cluster for Homework 3 _and_ for your course project, which can expand the type of methods you can try. When launching jobs for this course, be sure to have your job use the `si650f21_class` account.\n",
    "\n",
    "For this assignment, we'll be using the [CORD19 test collection](https://www.kaggle.com/allen-institute-for-ai/CORD-19-research-challenge), which is a collection of documents about Covid-19 produced by AI2. In places, we've pretrained models and precomputed indices for you (which can take large amounts of time), but we'll ask you to try out the commands on a small scale so you'll know how to run them.\n",
    "\n",
    "Homework 3 Part 1 will have you working on the following tasks to get you started:\n",
    "  - PyTerrier installation & configuration\n",
    "  - indexing a collection\n",
    "  - accessing an index\n",
    "  - using the `BatchRetrieve` transformer for searching an index\n",
    "  - conducting an `Experiment` \n",
    "\n",
    "For all parts of the homework, you can run them on your local computer with enough time. However, for Part 3, you will see *significant* speed up running these as notebooks on Great Lakes with a GPU. The three parts are designed to be completed in order, as they build on each other conceptually.\n",
    "\n",
    "For each notebook, all the tasks that you will need to complete are marked with **Task** in a cell title comment.\n",
    "\n",
    "Note that just like Pyserini, PyTerrier also uses a Java-based  library underneath, [Terrier information retrieval toolkit](http://terrier.org), so you will need to set `JAVA_HOME` accordingly. underlying for many indexing and retrieval operations. PyTerrier is relatively new in 2020, but Terrier has a long history dating back to 2001 and  makes it easy to perform IR experiments in Python, which could come in handy for you when doing your course project.\n",
    "\n",
    "See the [PyTerrier documentation](https://pyterrier.readthedocs.io/en/latest/) for many more details."
   ]
  },
  {
   "cell_type": "markdown",
   "metadata": {
    "id": "7u2hD-zBzfpR"
   },
   "source": [
    "PyTerrier is a Python framework, but uses the underlying [Terrier information retrieval toolkit](http://terrier.org) for many indexing and retrieval operations. While PyTerrier was new in 2020, Terrier is written in Java and has a long history dating back to 2001. PyTerrier makes it easy to perform IR experiments in Python, but using the mature Terrier platform for the expensive indexing and retrieval operations. \n",
    "\n",
    "In the following, we introduce everything you need to know about PyTerrier, and also provide appropriate links to relevant parts of the [PyTerrier documentation](https://pyterrier.readthedocs.io/en/latest/).\n"
   ]
  },
  {
   "cell_type": "markdown",
   "metadata": {},
   "source": [
    "### Imports"
   ]
  },
  {
   "cell_type": "code",
   "execution_count": 1,
   "metadata": {},
   "outputs": [],
   "source": [
    "import pandas as pd\n",
    "# Helpful for showing indexing information\n",
    "pd.set_option('display.max_colwidth', 150)\n",
    "\n",
    "import pyterrier as pt\n",
    "import os"
   ]
  },
  {
   "cell_type": "markdown",
   "metadata": {
    "id": "iH0Ds2370V0G"
   },
   "source": [
    "### Starting PyTerrier\n",
    "\n",
    "The first step is to initialize PyTerrier using PyTerrier's `init()` method. The `init()` method will download Terrier's jar file (if it's not already) and then start the Java Virtual Machine. To avoid downstream complications, we check `started()` prior to calling `init()` to prevent multiple Terrier instances from running concurrently."
   ]
  },
  {
   "cell_type": "code",
   "execution_count": 2,
   "metadata": {
    "colab": {
     "base_uri": "https://localhost:8080/"
    },
    "executionInfo": {
     "elapsed": 17656,
     "status": "ok",
     "timestamp": 1615971633689,
     "user": {
      "displayName": "Nicola Tonellotto",
      "photoUrl": "https://lh3.googleusercontent.com/a-/AOh14Gga8BaxLsPFWvzzBzSximki7T2Jsnf0EEARTd_h=s64",
      "userId": "17533833776178224794"
     },
     "user_tz": -60
    },
    "id": "Z4qALBa90-7g",
    "outputId": "378c8773-686c-4abc-d1b5-af80d18cfed0"
   },
   "outputs": [
    {
     "name": "stdout",
     "output_type": "stream",
     "text": [
      "terrier-assemblies 5.6 jar-with-dependencies not found, downloading to /Users/xuruge/.pyterrier...\n",
      "Done\n",
      "terrier-python-helper 0.0.6 jar not found, downloading to /Users/xuruge/.pyterrier...\n",
      "Done\n",
      "PyTerrier 0.7.1 has loaded Terrier 5.6 (built by craigmacdonald on 2021-09-17 13:27)\n"
     ]
    }
   ],
   "source": [
    "if not pt.started():\n",
    "    pt.init()"
   ]
  },
  {
   "cell_type": "markdown",
   "metadata": {
    "id": "-qqjVSu-5_FX"
   },
   "source": [
    "### Documents, Indexing and Indexes"
   ]
  },
  {
   "cell_type": "markdown",
   "metadata": {
    "id": "3soS1IIy5B83"
   },
   "source": [
    "PyTerrier typically works with Pandas dataframes for inputs. Let's create a toy set of documents in a dataframe to test. Note that the column name of `docno` is a special PyTerrier name that is the unique identifier for each document."
   ]
  },
  {
   "cell_type": "code",
   "execution_count": 3,
   "metadata": {
    "colab": {
     "base_uri": "https://localhost:8080/",
     "height": 142
    },
    "executionInfo": {
     "elapsed": 14933,
     "status": "ok",
     "timestamp": 1615971633692,
     "user": {
      "displayName": "Nicola Tonellotto",
      "photoUrl": "https://lh3.googleusercontent.com/a-/AOh14Gga8BaxLsPFWvzzBzSximki7T2Jsnf0EEARTd_h=s64",
      "userId": "17533833776178224794"
     },
     "user_tz": -60
    },
    "id": "gSEiEuTE5uyL",
    "outputId": "8ef282f5-94df-403f-c501-6147f62d2de8"
   },
   "outputs": [
    {
     "data": {
      "text/html": [
       "<div>\n",
       "<style scoped>\n",
       "    .dataframe tbody tr th:only-of-type {\n",
       "        vertical-align: middle;\n",
       "    }\n",
       "\n",
       "    .dataframe tbody tr th {\n",
       "        vertical-align: top;\n",
       "    }\n",
       "\n",
       "    .dataframe thead th {\n",
       "        text-align: right;\n",
       "    }\n",
       "</style>\n",
       "<table border=\"1\" class=\"dataframe\">\n",
       "  <thead>\n",
       "    <tr style=\"text-align: right;\">\n",
       "      <th></th>\n",
       "      <th>docno</th>\n",
       "      <th>text</th>\n",
       "    </tr>\n",
       "  </thead>\n",
       "  <tbody>\n",
       "    <tr>\n",
       "      <th>0</th>\n",
       "      <td>d1</td>\n",
       "      <td>this is the first document of many documents</td>\n",
       "    </tr>\n",
       "    <tr>\n",
       "      <th>1</th>\n",
       "      <td>d2</td>\n",
       "      <td>this is another document</td>\n",
       "    </tr>\n",
       "    <tr>\n",
       "      <th>2</th>\n",
       "      <td>d3</td>\n",
       "      <td>the topic of this document is unknown</td>\n",
       "    </tr>\n",
       "  </tbody>\n",
       "</table>\n",
       "</div>"
      ],
      "text/plain": [
       "  docno                                          text\n",
       "0    d1  this is the first document of many documents\n",
       "1    d2                      this is another document\n",
       "2    d3         the topic of this document is unknown"
      ]
     },
     "execution_count": 3,
     "metadata": {},
     "output_type": "execute_result"
    }
   ],
   "source": [
    "docs_df = pd.DataFrame([\n",
    "        [\"d1\", \"this is the first document of many documents\"],\n",
    "        [\"d2\", \"this is another document\"],\n",
    "        [\"d3\", \"the topic of this document is unknown\"]\n",
    "    ], columns=[\"docno\", \"text\"])\n",
    "\n",
    "docs_df"
   ]
  },
  {
   "cell_type": "markdown",
   "metadata": {
    "id": "2RCtCCTU6GAj"
   },
   "source": [
    "Before any search engine can estimate which documents are most likely to be relevant for a given query, it must index the documents. \n",
    "\n",
    "In the following cell, we index the dataframe's documents. The index, with all its data structures, is written into a directory called `toydocs_index`. "
   ]
  },
  {
   "cell_type": "code",
   "execution_count": 4,
   "metadata": {
    "colab": {
     "base_uri": "https://localhost:8080/",
     "height": 37
    },
    "executionInfo": {
     "elapsed": 2312,
     "status": "ok",
     "timestamp": 1615971681350,
     "user": {
      "displayName": "Nicola Tonellotto",
      "photoUrl": "https://lh3.googleusercontent.com/a-/AOh14Gga8BaxLsPFWvzzBzSximki7T2Jsnf0EEARTd_h=s64",
      "userId": "17533833776178224794"
     },
     "user_tz": -60
    },
    "id": "1YvLhEOS6V8w",
    "outputId": "ebe4070d-7160-42ba-bbfe-e5ccc2f3165b"
   },
   "outputs": [
    {
     "data": {
      "text/plain": [
       "'./toydocs_index/data.properties'"
      ]
     },
     "execution_count": 4,
     "metadata": {},
     "output_type": "execute_result"
    }
   ],
   "source": [
    "index_dir = './toydocs_index'\n",
    "indexer = pt.DFIndexer(index_dir, overwrite=True)\n",
    "index_ref = indexer.index(docs_df[\"text\"], docs_df[\"docno\"])\n",
    "index_ref.toString()"
   ]
  },
  {
   "cell_type": "markdown",
   "metadata": {
    "id": "TUm6r6_625gW"
   },
   "source": [
    "PyTerrier will generate a index in the `toydocs_index` directory and and we can list the files to see what kind of internal structure and files it made"
   ]
  },
  {
   "cell_type": "code",
   "execution_count": 5,
   "metadata": {
    "colab": {
     "base_uri": "https://localhost:8080/"
    },
    "executionInfo": {
     "elapsed": 581,
     "status": "ok",
     "timestamp": 1615971697027,
     "user": {
      "displayName": "Nicola Tonellotto",
      "photoUrl": "https://lh3.googleusercontent.com/a-/AOh14Gga8BaxLsPFWvzzBzSximki7T2Jsnf0EEARTd_h=s64",
      "userId": "17533833776178224794"
     },
     "user_tz": -60
    },
    "id": "TF45pl5O8p7R",
    "outputId": "c039d811-aebe-4e4d-f1d4-18b2b989d4c5"
   },
   "outputs": [
    {
     "data": {
      "text/plain": [
       "['data.inverted.bf',\n",
       " 'data.direct.bf',\n",
       " 'data.lexicon.fsomaphash',\n",
       " 'data.lexicon.fsomapfile',\n",
       " 'data.properties',\n",
       " 'data.document.fsarrayfile',\n",
       " 'data.meta-0.fsomapfile',\n",
       " 'data.meta.zdata',\n",
       " 'data.meta.idx']"
      ]
     },
     "execution_count": 5,
     "metadata": {},
     "output_type": "execute_result"
    }
   ],
   "source": [
    "os.listdir(index_dir)"
   ]
  },
  {
   "cell_type": "markdown",
   "metadata": {
    "id": "B2b8isFP3Kv6"
   },
   "source": [
    "Once we've generated the files associated with `index_ref`, we can load the information into an actual PyTerrier index using the method `pt.IndexFactory.of()`. "
   ]
  },
  {
   "cell_type": "code",
   "execution_count": 6,
   "metadata": {
    "colab": {
     "base_uri": "https://localhost:8080/"
    },
    "executionInfo": {
     "elapsed": 587,
     "status": "ok",
     "timestamp": 1615971763026,
     "user": {
      "displayName": "Nicola Tonellotto",
      "photoUrl": "https://lh3.googleusercontent.com/a-/AOh14Gga8BaxLsPFWvzzBzSximki7T2Jsnf0EEARTd_h=s64",
      "userId": "17533833776178224794"
     },
     "user_tz": -60
    },
    "id": "TTM17szD6pNy",
    "outputId": "0d00514e-b30f-4b0c-a991-d618d24bb756"
   },
   "outputs": [],
   "source": [
    "index = pt.IndexFactory.of(index_ref)"
   ]
  },
  {
   "cell_type": "markdown",
   "metadata": {
    "id": "mZe3HD5i7G3v"
   },
   "source": [
    "See Terrier's [`Index`](http://terrier.org/docs/current/javadoc/org/terrier/structures/Index.html) object for documentation, which is written in Java's Javadoc format. We can call these methods on our index object as well. Important methods to note are:\n",
    " - `getCollectionStatistics()`\n",
    " - `getInvertedIndex()`\n",
    " - `getLexicon()`\n",
    "\n",
    "Let's see what is returned by the `CollectionStatistics()` method:"
   ]
  },
  {
   "cell_type": "code",
   "execution_count": 7,
   "metadata": {
    "colab": {
     "base_uri": "https://localhost:8080/"
    },
    "executionInfo": {
     "elapsed": 629,
     "status": "ok",
     "timestamp": 1615972787602,
     "user": {
      "displayName": "Nicola Tonellotto",
      "photoUrl": "https://lh3.googleusercontent.com/a-/AOh14Gga8BaxLsPFWvzzBzSximki7T2Jsnf0EEARTd_h=s64",
      "userId": "17533833776178224794"
     },
     "user_tz": -60
    },
    "id": "6-gXEDSX65bx",
    "outputId": "5491223b-5b50-48c2-8232-d75970e2c2ae"
   },
   "outputs": [
    {
     "name": "stdout",
     "output_type": "stream",
     "text": [
      "Number of documents: 3\n",
      "Number of terms: 4\n",
      "Number of postings: 6\n",
      "Number of fields: 0\n",
      "Number of tokens: 7\n",
      "Field names: []\n",
      "Positions:   false\n",
      "\n"
     ]
    }
   ],
   "source": [
    "print(index.getCollectionStatistics().toString())"
   ]
  },
  {
   "cell_type": "markdown",
   "metadata": {
    "id": "i6HrR4lc7i10"
   },
   "source": [
    "Let's unpack the statistics a bit more. We have 3 documents but why do we have only 4 unique terms? We can look at which terms we have by getting the [`Lexicon`](http://terrier.org/docs/current/javadoc/org/terrier/structures/Lexicon.html) object, which contains our vocabulary. We can iterate over the `Lexicon` from Python like a dictionary to see which terms are present and what information there is about each term after indexing."
   ]
  },
  {
   "cell_type": "code",
   "execution_count": 8,
   "metadata": {
    "colab": {
     "base_uri": "https://localhost:8080/"
    },
    "executionInfo": {
     "elapsed": 585,
     "status": "ok",
     "timestamp": 1615971875714,
     "user": {
      "displayName": "Nicola Tonellotto",
      "photoUrl": "https://lh3.googleusercontent.com/a-/AOh14Gga8BaxLsPFWvzzBzSximki7T2Jsnf0EEARTd_h=s64",
      "userId": "17533833776178224794"
     },
     "user_tz": -60
    },
    "id": "us2mAzTW7Bny",
    "outputId": "e10d37e2-84a4-448d-9ed9-3d72a5ad5ab7"
   },
   "outputs": [
    {
     "name": "stdout",
     "output_type": "stream",
     "text": [
      "document (<class 'str'>) -> term0 Nt=3 TF=4 maxTF=2 @{0 0 0} (<class 'jnius.reflect.org.terrier.structures.LexiconEntry'>)\n",
      "first (<class 'str'>) -> term1 Nt=1 TF=1 maxTF=1 @{0 0 7} (<class 'jnius.reflect.org.terrier.structures.LexiconEntry'>)\n",
      "topic (<class 'str'>) -> term2 Nt=1 TF=1 maxTF=1 @{0 1 1} (<class 'jnius.reflect.org.terrier.structures.LexiconEntry'>)\n",
      "unknown (<class 'str'>) -> term3 Nt=1 TF=1 maxTF=1 @{0 1 5} (<class 'jnius.reflect.org.terrier.structures.LexiconEntry'>)\n"
     ]
    }
   ],
   "source": [
    "for kv in index.getLexicon():\n",
    "    # Let's all print the type information of each to get a sense of what we're working with\n",
    "    print(\"%s (%s) -> %s (%s)\" % (kv.getKey(), type(kv.getKey()), kv.getValue().toString(), type(kv.getValue()) ) )"
   ]
  },
  {
   "cell_type": "markdown",
   "metadata": {
    "id": "fwbp94gh86pw"
   },
   "source": [
    "Iterating over the `Lexicon` shows that we're mapping a `String ` term to a [`LexiconEntry`](http://terrier.org/docs/current/javadoc/org/terrier/structures/LexiconEntry.html) object, which itself is an [`EntryStatistics`](http://terrier.org/docs/current/javadoc/org/terrier/structures/EntryStatistics.html). The `LexiconEntry` contains information including the statistics of that term.\n",
    "\n",
    "Looking at what we indexed reveals that PyTerrier is removing stopwords for us, much like Pyserini did. PyTerrier is also doing some token normalization as well so that we only have \"document\" in our index, even though document `d1` has the token \"documents\"! By default, Terrier removes standard stopwords and applies Porter's stemmer (which we talked about in class), though these behaviors can be configured.\n",
    "\n",
    "The `EntryStatistics` also provides a few other fields that offer insights:\n",
    " - `Nt` is the number of unique documents that each term occurs in – this is useful for calculating IDF.\n",
    " - `TF` is the total number of occurrences – some weighting models use this instead of Nt.\n",
    " - The numbers in the `@{}` are a pointer – they tell Terrier where the postings are for that term in the inverted index data structure."
   ]
  },
  {
   "cell_type": "markdown",
   "metadata": {},
   "source": [
    "PyTerrier also supports directly looking up a word using the `[]` operator, much like we would if we were looking up a key's value in a dictionary. Let's look up the value for the word \"document\":"
   ]
  },
  {
   "cell_type": "code",
   "execution_count": 9,
   "metadata": {
    "colab": {
     "base_uri": "https://localhost:8080/",
     "height": 37
    },
    "executionInfo": {
     "elapsed": 591,
     "status": "ok",
     "timestamp": 1615972070133,
     "user": {
      "displayName": "Nicola Tonellotto",
      "photoUrl": "https://lh3.googleusercontent.com/a-/AOh14Gga8BaxLsPFWvzzBzSximki7T2Jsnf0EEARTd_h=s64",
      "userId": "17533833776178224794"
     },
     "user_tz": -60
    },
    "id": "SZmi9498-Ijw",
    "outputId": "1dccc860-2f99-4e62-b1cc-da4918003b11"
   },
   "outputs": [
    {
     "name": "stdout",
     "output_type": "stream",
     "text": [
      "term0 Nt=3 TF=4 maxTF=2 @{0 0 0}\n"
     ]
    }
   ],
   "source": [
    "print(index.getLexicon()[\"document\"])"
   ]
  },
  {
   "cell_type": "markdown",
   "metadata": {
    "id": "vaKaU59l-kzg"
   },
   "source": [
    "We can use the information in the `Lexicon` to also look up documents as well. Remember from class that an inverted index is a mapping from a term to which *documents* each term occurs in. The `LexiconEntry` for a word contains the pointer to where to find the documents for that word in the inverted index. \n",
    "\n",
    "The object retrieved from using the `[]` operator with a `Lexicon` is a pointer that we can use with the inverted index."
   ]
  },
  {
   "cell_type": "code",
   "execution_count": 10,
   "metadata": {
    "colab": {
     "base_uri": "https://localhost:8080/"
    },
    "executionInfo": {
     "elapsed": 640,
     "status": "ok",
     "timestamp": 1615972108524,
     "user": {
      "displayName": "Nicola Tonellotto",
      "photoUrl": "https://lh3.googleusercontent.com/a-/AOh14Gga8BaxLsPFWvzzBzSximki7T2Jsnf0EEARTd_h=s64",
      "userId": "17533833776178224794"
     },
     "user_tz": -60
    },
    "id": "XQki_Pds8ut2",
    "outputId": "f7824c65-33d9-499f-f9dc-97d8d7e652c5"
   },
   "outputs": [
    {
     "name": "stdout",
     "output_type": "stream",
     "text": [
      "ID(0) TF(2) doclen=3\n",
      "ID(1) TF(1) doclen=1\n",
      "ID(2) TF(1) doclen=3\n"
     ]
    }
   ],
   "source": [
    "pointer = index.getLexicon()[\"document\"]\n",
    "for posting in index.getInvertedIndex().getPostings(pointer):\n",
    "    print(str(posting) + \" doclen=%d\" % posting.getDocumentLength())"
   ]
  },
  {
   "cell_type": "markdown",
   "metadata": {
    "id": "l7EaoIIO_DPx"
   },
   "source": [
    "From this output, we can see that the term \"document\" occurs in all three documents, as well as how long those documents are. Note that PyTerrier starts counting indexed documents with `int` values starting from 0 (called *docids*). These *docids* are then mapped back to *docnos*, which are the unique string identifiers for a document, e.g., the \"`d1`\", \"`d2`\" we used. This mapping is stored in a separate data structure called the *metaindex*, though you likely won't need to use that."
   ]
  },
  {
   "cell_type": "markdown",
   "metadata": {
    "id": "zOSdVAr-CGRf"
   },
   "source": [
    "## Searching an Index\n",
    "\n",
    "Our way into search in PyTerrier is called `BatchRetrieve`. BatchRetrieve is configured by specifying an index and a weighting model. Here', we'll use the `Tf` weighting, which is just term frequency; there are multiple possible weighting schemes, as we'll see later. Using a `BatchRetrieve` object, we will search for a single-word query, `\"document\"`."
   ]
  },
  {
   "cell_type": "code",
   "execution_count": 12,
   "metadata": {
    "colab": {
     "base_uri": "https://localhost:8080/",
     "height": 142
    },
    "executionInfo": {
     "elapsed": 1097,
     "status": "ok",
     "timestamp": 1615972796605,
     "user": {
      "displayName": "Nicola Tonellotto",
      "photoUrl": "https://lh3.googleusercontent.com/a-/AOh14Gga8BaxLsPFWvzzBzSximki7T2Jsnf0EEARTd_h=s64",
      "userId": "17533833776178224794"
     },
     "user_tz": -60
    },
    "id": "XtK93nwXCF5C",
    "outputId": "f10dccb8-7d91-44ba-8afa-b21b32022999"
   },
   "outputs": [
    {
     "data": {
      "text/html": [
       "<div>\n",
       "<style scoped>\n",
       "    .dataframe tbody tr th:only-of-type {\n",
       "        vertical-align: middle;\n",
       "    }\n",
       "\n",
       "    .dataframe tbody tr th {\n",
       "        vertical-align: top;\n",
       "    }\n",
       "\n",
       "    .dataframe thead th {\n",
       "        text-align: right;\n",
       "    }\n",
       "</style>\n",
       "<table border=\"1\" class=\"dataframe\">\n",
       "  <thead>\n",
       "    <tr style=\"text-align: right;\">\n",
       "      <th></th>\n",
       "      <th>qid</th>\n",
       "      <th>docid</th>\n",
       "      <th>docno</th>\n",
       "      <th>rank</th>\n",
       "      <th>score</th>\n",
       "      <th>query</th>\n",
       "    </tr>\n",
       "  </thead>\n",
       "  <tbody>\n",
       "    <tr>\n",
       "      <th>0</th>\n",
       "      <td>1</td>\n",
       "      <td>0</td>\n",
       "      <td>d1</td>\n",
       "      <td>0</td>\n",
       "      <td>2.0</td>\n",
       "      <td>document</td>\n",
       "    </tr>\n",
       "    <tr>\n",
       "      <th>1</th>\n",
       "      <td>1</td>\n",
       "      <td>1</td>\n",
       "      <td>d2</td>\n",
       "      <td>1</td>\n",
       "      <td>1.0</td>\n",
       "      <td>document</td>\n",
       "    </tr>\n",
       "    <tr>\n",
       "      <th>2</th>\n",
       "      <td>1</td>\n",
       "      <td>2</td>\n",
       "      <td>d3</td>\n",
       "      <td>2</td>\n",
       "      <td>1.0</td>\n",
       "      <td>document</td>\n",
       "    </tr>\n",
       "  </tbody>\n",
       "</table>\n",
       "</div>"
      ],
      "text/plain": [
       "  qid  docid docno  rank  score     query\n",
       "0   1      0    d1     0    2.0  document\n",
       "1   1      1    d2     1    1.0  document\n",
       "2   1      2    d3     2    1.0  document"
      ]
     },
     "execution_count": 12,
     "metadata": {},
     "output_type": "execute_result"
    }
   ],
   "source": [
    "br = pt.BatchRetrieve(index, wmodel=\"Tf\")\n",
    "br.search(\"document\")"
   ]
  },
  {
   "cell_type": "markdown",
   "metadata": {
    "id": "BHqSfTCtDM2T"
   },
   "source": [
    "The `search()` method returns a Pandas dataframe with columns:\n",
    " - `qid`: this is the query id, which is by default \"1\", since we issued only one query\n",
    " - `docid`: Terrier' internal integer for each document\n",
    " - `docno`: the external (string) unique identifier for each document\n",
    " - `score`: since we use the `Tf` weighting model, this score corresponds to the total frequency of the query (terms) in each document\n",
    " - `rank`: A handy attribute showing the descending order by score\n",
    " - `query`: the input query\n",
    "\n",
    "As expected, the `Tf` weighting model used here only counts the frequencies of the query terms in each document, i.e.:\n",
    "$$\n",
    "score(d,q) = \\sum_{t \\in q} tf_{t,d}\n",
    "$$\n",
    "\n",
    "Hence, it's clear that document `d1` should be the highest scored document with two occurrences (c.f. `'document'` and `'documents'`).  "
   ]
  },
  {
   "cell_type": "markdown",
   "metadata": {
    "id": "BJBXquPOD6q7"
   },
   "source": [
    "### Searching with multiple queries\n",
    "\n",
    "We can search for more than one query at a time using the  `transform()` method rather than the `search()` method. PyTerrier uses the notion of transformers, which we'll describe much more in Part 2, but for now, you can think of this function as transforming some input to some output. In our case, we'll create a Pandas DataFrame with our queries, which we'll provide as input to the `BatchRetrieve` object, to \"transform\" into results.\n",
    "\n",
    "Note that we not only need to provide queries, but also query identifiers in the `qid` column. These `qid` values will let us distinguish which results go to which query."
   ]
  },
  {
   "cell_type": "code",
   "execution_count": 13,
   "metadata": {},
   "outputs": [
    {
     "data": {
      "text/html": [
       "<div>\n",
       "<style scoped>\n",
       "    .dataframe tbody tr th:only-of-type {\n",
       "        vertical-align: middle;\n",
       "    }\n",
       "\n",
       "    .dataframe tbody tr th {\n",
       "        vertical-align: top;\n",
       "    }\n",
       "\n",
       "    .dataframe thead th {\n",
       "        text-align: right;\n",
       "    }\n",
       "</style>\n",
       "<table border=\"1\" class=\"dataframe\">\n",
       "  <thead>\n",
       "    <tr style=\"text-align: right;\">\n",
       "      <th></th>\n",
       "      <th>qid</th>\n",
       "      <th>query</th>\n",
       "    </tr>\n",
       "  </thead>\n",
       "  <tbody>\n",
       "    <tr>\n",
       "      <th>0</th>\n",
       "      <td>q1</td>\n",
       "      <td>document</td>\n",
       "    </tr>\n",
       "    <tr>\n",
       "      <th>1</th>\n",
       "      <td>q2</td>\n",
       "      <td>first document</td>\n",
       "    </tr>\n",
       "  </tbody>\n",
       "</table>\n",
       "</div>"
      ],
      "text/plain": [
       "  qid           query\n",
       "0  q1        document\n",
       "1  q2  first document"
      ]
     },
     "execution_count": 13,
     "metadata": {},
     "output_type": "execute_result"
    }
   ],
   "source": [
    "queries = pd.DataFrame([[\"q1\", \"document\"], [\"q2\", \"first document\"]], columns=[\"qid\", \"query\"])\n",
    "queries"
   ]
  },
  {
   "cell_type": "markdown",
   "metadata": {},
   "source": [
    "Now we can pass this queries data frame into `transform()` to get the results"
   ]
  },
  {
   "cell_type": "code",
   "execution_count": 14,
   "metadata": {
    "colab": {
     "base_uri": "https://localhost:8080/",
     "height": 235
    },
    "executionInfo": {
     "elapsed": 566,
     "status": "ok",
     "timestamp": 1615972799893,
     "user": {
      "displayName": "Nicola Tonellotto",
      "photoUrl": "https://lh3.googleusercontent.com/a-/AOh14Gga8BaxLsPFWvzzBzSximki7T2Jsnf0EEARTd_h=s64",
      "userId": "17533833776178224794"
     },
     "user_tz": -60
    },
    "id": "TPBmPOETBKWk",
    "outputId": "69bf68d3-5e95-403d-f5f8-76bbd7cdaba9"
   },
   "outputs": [
    {
     "data": {
      "text/html": [
       "<div>\n",
       "<style scoped>\n",
       "    .dataframe tbody tr th:only-of-type {\n",
       "        vertical-align: middle;\n",
       "    }\n",
       "\n",
       "    .dataframe tbody tr th {\n",
       "        vertical-align: top;\n",
       "    }\n",
       "\n",
       "    .dataframe thead th {\n",
       "        text-align: right;\n",
       "    }\n",
       "</style>\n",
       "<table border=\"1\" class=\"dataframe\">\n",
       "  <thead>\n",
       "    <tr style=\"text-align: right;\">\n",
       "      <th></th>\n",
       "      <th>qid</th>\n",
       "      <th>docid</th>\n",
       "      <th>docno</th>\n",
       "      <th>rank</th>\n",
       "      <th>score</th>\n",
       "      <th>query</th>\n",
       "    </tr>\n",
       "  </thead>\n",
       "  <tbody>\n",
       "    <tr>\n",
       "      <th>0</th>\n",
       "      <td>q1</td>\n",
       "      <td>0</td>\n",
       "      <td>d1</td>\n",
       "      <td>0</td>\n",
       "      <td>2.0</td>\n",
       "      <td>document</td>\n",
       "    </tr>\n",
       "    <tr>\n",
       "      <th>1</th>\n",
       "      <td>q1</td>\n",
       "      <td>1</td>\n",
       "      <td>d2</td>\n",
       "      <td>1</td>\n",
       "      <td>1.0</td>\n",
       "      <td>document</td>\n",
       "    </tr>\n",
       "    <tr>\n",
       "      <th>2</th>\n",
       "      <td>q1</td>\n",
       "      <td>2</td>\n",
       "      <td>d3</td>\n",
       "      <td>2</td>\n",
       "      <td>1.0</td>\n",
       "      <td>document</td>\n",
       "    </tr>\n",
       "    <tr>\n",
       "      <th>3</th>\n",
       "      <td>q2</td>\n",
       "      <td>0</td>\n",
       "      <td>d1</td>\n",
       "      <td>0</td>\n",
       "      <td>3.0</td>\n",
       "      <td>first document</td>\n",
       "    </tr>\n",
       "    <tr>\n",
       "      <th>4</th>\n",
       "      <td>q2</td>\n",
       "      <td>1</td>\n",
       "      <td>d2</td>\n",
       "      <td>1</td>\n",
       "      <td>1.0</td>\n",
       "      <td>first document</td>\n",
       "    </tr>\n",
       "    <tr>\n",
       "      <th>5</th>\n",
       "      <td>q2</td>\n",
       "      <td>2</td>\n",
       "      <td>d3</td>\n",
       "      <td>2</td>\n",
       "      <td>1.0</td>\n",
       "      <td>first document</td>\n",
       "    </tr>\n",
       "  </tbody>\n",
       "</table>\n",
       "</div>"
      ],
      "text/plain": [
       "  qid  docid docno  rank  score           query\n",
       "0  q1      0    d1     0    2.0        document\n",
       "1  q1      1    d2     1    1.0        document\n",
       "2  q1      2    d3     2    1.0        document\n",
       "3  q2      0    d1     0    3.0  first document\n",
       "4  q2      1    d2     1    1.0  first document\n",
       "5  q2      2    d3     2    1.0  first document"
      ]
     },
     "execution_count": 14,
     "metadata": {},
     "output_type": "execute_result"
    }
   ],
   "source": [
    "br.transform(queries)"
   ]
  },
  {
   "cell_type": "markdown",
   "metadata": {
    "id": "tcgDzFLBEWAI"
   },
   "source": [
    "Most common operations in PyTerrier have to be overloaded so that you can call them using python syntax (called _operator overloading_). We'll discuss this more in Part 2, but for now, know that you can call `br.transform(queries)` using just `br(queries)`. Here. the `()` operator has been overloaded so that it calls `transform()` for us! You will see this usage very frequently in examples and documentation so it's worth noting and remembering the two are equivalent. As an example:"
   ]
  },
  {
   "cell_type": "code",
   "execution_count": 15,
   "metadata": {
    "colab": {
     "base_uri": "https://localhost:8080/",
     "height": 235
    },
    "executionInfo": {
     "elapsed": 655,
     "status": "ok",
     "timestamp": 1615972806683,
     "user": {
      "displayName": "Nicola Tonellotto",
      "photoUrl": "https://lh3.googleusercontent.com/a-/AOh14Gga8BaxLsPFWvzzBzSximki7T2Jsnf0EEARTd_h=s64",
      "userId": "17533833776178224794"
     },
     "user_tz": -60
    },
    "id": "YCwxb3HhEOp_",
    "outputId": "b0cfe94b-c1d7-4ac8-811d-befc9771ce32"
   },
   "outputs": [
    {
     "data": {
      "text/html": [
       "<div>\n",
       "<style scoped>\n",
       "    .dataframe tbody tr th:only-of-type {\n",
       "        vertical-align: middle;\n",
       "    }\n",
       "\n",
       "    .dataframe tbody tr th {\n",
       "        vertical-align: top;\n",
       "    }\n",
       "\n",
       "    .dataframe thead th {\n",
       "        text-align: right;\n",
       "    }\n",
       "</style>\n",
       "<table border=\"1\" class=\"dataframe\">\n",
       "  <thead>\n",
       "    <tr style=\"text-align: right;\">\n",
       "      <th></th>\n",
       "      <th>qid</th>\n",
       "      <th>docid</th>\n",
       "      <th>docno</th>\n",
       "      <th>rank</th>\n",
       "      <th>score</th>\n",
       "      <th>query</th>\n",
       "    </tr>\n",
       "  </thead>\n",
       "  <tbody>\n",
       "    <tr>\n",
       "      <th>0</th>\n",
       "      <td>q1</td>\n",
       "      <td>0</td>\n",
       "      <td>d1</td>\n",
       "      <td>0</td>\n",
       "      <td>2.0</td>\n",
       "      <td>document</td>\n",
       "    </tr>\n",
       "    <tr>\n",
       "      <th>1</th>\n",
       "      <td>q1</td>\n",
       "      <td>1</td>\n",
       "      <td>d2</td>\n",
       "      <td>1</td>\n",
       "      <td>1.0</td>\n",
       "      <td>document</td>\n",
       "    </tr>\n",
       "    <tr>\n",
       "      <th>2</th>\n",
       "      <td>q1</td>\n",
       "      <td>2</td>\n",
       "      <td>d3</td>\n",
       "      <td>2</td>\n",
       "      <td>1.0</td>\n",
       "      <td>document</td>\n",
       "    </tr>\n",
       "    <tr>\n",
       "      <th>3</th>\n",
       "      <td>q2</td>\n",
       "      <td>0</td>\n",
       "      <td>d1</td>\n",
       "      <td>0</td>\n",
       "      <td>3.0</td>\n",
       "      <td>first document</td>\n",
       "    </tr>\n",
       "    <tr>\n",
       "      <th>4</th>\n",
       "      <td>q2</td>\n",
       "      <td>1</td>\n",
       "      <td>d2</td>\n",
       "      <td>1</td>\n",
       "      <td>1.0</td>\n",
       "      <td>first document</td>\n",
       "    </tr>\n",
       "    <tr>\n",
       "      <th>5</th>\n",
       "      <td>q2</td>\n",
       "      <td>2</td>\n",
       "      <td>d3</td>\n",
       "      <td>2</td>\n",
       "      <td>1.0</td>\n",
       "      <td>first document</td>\n",
       "    </tr>\n",
       "  </tbody>\n",
       "</table>\n",
       "</div>"
      ],
      "text/plain": [
       "  qid  docid docno  rank  score           query\n",
       "0  q1      0    d1     0    2.0        document\n",
       "1  q1      1    d2     1    1.0        document\n",
       "2  q1      2    d3     2    1.0        document\n",
       "3  q2      0    d1     0    3.0  first document\n",
       "4  q2      1    d2     1    1.0  first document\n",
       "5  q2      2    d3     2    1.0  first document"
      ]
     },
     "execution_count": 15,
     "metadata": {},
     "output_type": "execute_result"
    }
   ],
   "source": [
    "br(queries)"
   ]
  },
  {
   "cell_type": "markdown",
   "metadata": {
    "id": "ldY8VV8wQ60Z"
   },
   "source": [
    "## Scaling up to Covid-19 Data\n",
    "\n",
    "Let's move on to our full dataset, CORD19, which is easily accessible online. We'll use PyTerrier's `get_dataset()` function to download this corpus automatically and then to index it.\n",
    "\n",
    "### Task 1: Indexing data (5 points)\n",
    "\n",
    "You first task will be to write three lines of code that create the index using an indexer or, if the index was already created, loads the created index from file. "
   ]
  },
  {
   "cell_type": "code",
   "execution_count": 18,
   "metadata": {
    "colab": {
     "base_uri": "https://localhost:8080/"
    },
    "executionInfo": {
     "elapsed": 120273,
     "status": "ok",
     "timestamp": 1615972928650,
     "user": {
      "displayName": "Nicola Tonellotto",
      "photoUrl": "https://lh3.googleusercontent.com/a-/AOh14Gga8BaxLsPFWvzzBzSximki7T2Jsnf0EEARTd_h=s64",
      "userId": "17533833776178224794"
     },
     "user_tz": -60
    },
    "id": "L2lJsK-vEcQx",
    "outputId": "bcdfe9c5-7950-4974-a97d-ab3764995115"
   },
   "outputs": [
    {
     "name": "stderr",
     "output_type": "stream",
     "text": [
      "\n",
      "cord19/trec-covid documents:   0%|          | 0/192509 [00:00<?, ?it/s]\u001b[A\n",
      "cord19/trec-covid documents:   0%|          | 1/192509 [00:00<13:00:03,  4.11it/s]\u001b[A\n",
      "cord19/trec-covid documents:   0%|          | 14/192509 [00:00<9:34:14,  5.59it/s]\u001b[A"
     ]
    },
    {
     "name": "stdout",
     "output_type": "stream",
     "text": [
      "22:35:37.335 [ForkJoinPool-1-worker-3] WARN org.terrier.structures.indexing.Indexer - Adding an empty document to the index (6iu1dtyl) - further warnings are suppressed\n"
     ]
    },
    {
     "name": "stderr",
     "output_type": "stream",
     "text": [
      "\n",
      "cord19/trec-covid documents:   0%|          | 32/192509 [00:00<6:47:53,  7.86it/s]\u001b[A\n",
      "cord19/trec-covid documents:   0%|          | 64/192509 [00:00<4:48:39, 11.11it/s]\u001b[A\n",
      "cord19/trec-covid documents:   0%|          | 92/192509 [00:00<3:25:51, 15.58it/s]\u001b[A\n",
      "cord19/trec-covid documents:   0%|          | 114/192509 [00:01<2:28:54, 21.53it/s]\u001b[A\n",
      "cord19/trec-covid documents:   0%|          | 132/192509 [00:01<1:51:48, 28.68it/s]\u001b[A\n",
      "cord19/trec-covid documents:   0%|          | 149/192509 [00:01<1:28:55, 36.06it/s]\u001b[A\n",
      "cord19/trec-covid documents:   0%|          | 189/192509 [00:01<1:04:52, 49.41it/s]\u001b[A\n",
      "cord19/trec-covid documents:   0%|          | 250/192509 [00:01<47:02, 68.11it/s]  \u001b[A\n",
      "cord19/trec-covid documents:   0%|          | 299/192509 [00:01<34:55, 91.72it/s]\u001b[A\n",
      "cord19/trec-covid documents:   0%|          | 336/192509 [00:01<27:12, 117.74it/s]\u001b[A\n",
      "cord19/trec-covid documents:   0%|          | 391/192509 [00:01<20:49, 153.70it/s]\u001b[A\n",
      "cord19/trec-covid documents:   0%|          | 448/192509 [00:02<16:16, 196.60it/s]\u001b[A\n",
      "cord19/trec-covid documents:   0%|          | 494/192509 [00:02<13:37, 234.98it/s]\u001b[A\n",
      "cord19/trec-covid documents:   0%|          | 540/192509 [00:02<13:03, 245.14it/s]\u001b[A\n",
      "cord19/trec-covid documents:   0%|          | 580/192509 [00:02<12:37, 253.21it/s]\u001b[A\n",
      "cord19/trec-covid documents:   0%|          | 629/192509 [00:02<10:56, 292.11it/s]\u001b[A\n",
      "cord19/trec-covid documents:   0%|          | 697/192509 [00:02<09:06, 350.67it/s]\u001b[A\n",
      "cord19/trec-covid documents:   0%|          | 758/192509 [00:02<08:03, 396.94it/s]\u001b[A\n",
      "cord19/trec-covid documents:   0%|          | 822/192509 [00:02<07:09, 446.39it/s]\u001b[A\n",
      "cord19/trec-covid documents:   0%|          | 929/192509 [00:02<05:55, 539.55it/s]\u001b[A\n",
      "cord19/trec-covid documents:   1%|          | 999/192509 [00:03<06:08, 520.13it/s]\u001b[A\n",
      "cord19/trec-covid documents:   1%|          | 1062/192509 [00:03<06:19, 504.69it/s]\u001b[A\n",
      "cord19/trec-covid documents:   1%|          | 1121/192509 [00:03<06:49, 467.25it/s]\u001b[A\n",
      "cord19/trec-covid documents:   1%|          | 1174/192509 [00:03<07:23, 431.58it/s]\u001b[A\n",
      "cord19/trec-covid documents:   1%|          | 1222/192509 [00:03<07:22, 432.38it/s]\u001b[A\n",
      "cord19/trec-covid documents:   1%|          | 1286/192509 [00:03<07:27, 427.50it/s]\u001b[A\n",
      "cord19/trec-covid documents:   1%|          | 1332/192509 [00:04<09:36, 331.67it/s]\u001b[A\n",
      "cord19/trec-covid documents:   1%|          | 1430/192509 [00:04<07:41, 413.72it/s]\u001b[A\n",
      "cord19/trec-covid documents:   1%|          | 1487/192509 [00:04<07:33, 421.42it/s]\u001b[A\n",
      "cord19/trec-covid documents:   1%|          | 1540/192509 [00:04<08:09, 389.82it/s]\u001b[A\n",
      "cord19/trec-covid documents:   1%|          | 1587/192509 [00:04<08:26, 376.59it/s]\u001b[A\n",
      "cord19/trec-covid documents:   1%|          | 1633/192509 [00:04<07:59, 397.82it/s]\u001b[A\n",
      "cord19/trec-covid documents:   1%|          | 1697/192509 [00:04<07:17, 436.53it/s]\u001b[A\n",
      "cord19/trec-covid documents:   1%|          | 1748/192509 [00:04<07:03, 449.92it/s]\u001b[A\n",
      "cord19/trec-covid documents:   1%|          | 1836/192509 [00:04<06:02, 525.87it/s]\u001b[A\n",
      "cord19/trec-covid documents:   1%|          | 1924/192509 [00:05<05:20, 594.97it/s]\u001b[A\n",
      "cord19/trec-covid documents:   1%|          | 2036/192509 [00:05<04:36, 688.29it/s]\u001b[A\n",
      "cord19/trec-covid documents:   1%|          | 2215/192509 [00:05<03:46, 840.28it/s]\u001b[A\n",
      "cord19/trec-covid documents:   1%|          | 2341/192509 [00:05<03:23, 933.41it/s]\u001b[A\n",
      "cord19/trec-covid documents:   1%|▏         | 2455/192509 [00:05<04:42, 673.24it/s]\u001b[A\n",
      "cord19/trec-covid documents:   1%|▏         | 2547/192509 [00:05<06:23, 495.14it/s]\u001b[A\n",
      "cord19/trec-covid documents:   1%|▏         | 2621/192509 [00:06<06:48, 465.07it/s]\u001b[A\n",
      "cord19/trec-covid documents:   1%|▏         | 2685/192509 [00:06<06:20, 499.32it/s]\u001b[A\n",
      "cord19/trec-covid documents:   1%|▏         | 2748/192509 [00:06<06:17, 502.37it/s]\u001b[A\n",
      "cord19/trec-covid documents:   1%|▏         | 2808/192509 [00:06<06:19, 499.47it/s]\u001b[A\n",
      "cord19/trec-covid documents:   2%|▏         | 2905/192509 [00:06<05:52, 538.64it/s]\u001b[A\n",
      "cord19/trec-covid documents:   2%|▏         | 2981/192509 [00:06<05:25, 582.27it/s]\u001b[A\n",
      "cord19/trec-covid documents:   2%|▏         | 3044/192509 [00:06<06:20, 497.61it/s]\u001b[A\n",
      "cord19/trec-covid documents:   2%|▏         | 3100/192509 [00:07<06:33, 480.80it/s]\u001b[A\n",
      "cord19/trec-covid documents:   2%|▏         | 3219/192509 [00:07<05:37, 561.14it/s]\u001b[A\n",
      "cord19/trec-covid documents:   2%|▏         | 3297/192509 [00:07<05:29, 574.09it/s]\u001b[A\n",
      "cord19/trec-covid documents:   2%|▏         | 3379/192509 [00:07<05:00, 628.38it/s]\u001b[A\n",
      "cord19/trec-covid documents:   2%|▏         | 3455/192509 [00:07<04:53, 645.14it/s]\u001b[A\n",
      "cord19/trec-covid documents:   2%|▏         | 3535/192509 [00:07<04:44, 665.39it/s]\u001b[A\n",
      "cord19/trec-covid documents:   2%|▏         | 3691/192509 [00:07<04:07, 763.81it/s]\u001b[A\n",
      "cord19/trec-covid documents:   2%|▏         | 3779/192509 [00:07<04:04, 770.91it/s]\u001b[A\n",
      "cord19/trec-covid documents:   2%|▏         | 3862/192509 [00:08<05:23, 583.80it/s]\u001b[A\n",
      "cord19/trec-covid documents:   2%|▏         | 4013/192509 [00:08<04:29, 699.56it/s]\u001b[A\n",
      "cord19/trec-covid documents:   2%|▏         | 4165/192509 [00:08<03:49, 821.54it/s]\u001b[A\n",
      "cord19/trec-covid documents:   2%|▏         | 4311/192509 [00:08<03:25, 917.93it/s]\u001b[A\n",
      "cord19/trec-covid documents:   2%|▏         | 4462/192509 [00:08<03:19, 940.41it/s]\u001b[A\n",
      "cord19/trec-covid documents:   2%|▏         | 4676/192509 [00:08<03:01, 1035.87it/s]\u001b[A\n",
      "cord19/trec-covid documents:   3%|▎         | 4868/192509 [00:08<02:43, 1144.21it/s]\u001b[A\n",
      "cord19/trec-covid documents:   3%|▎         | 4995/192509 [00:08<02:54, 1072.89it/s]\u001b[A\n",
      "cord19/trec-covid documents:   3%|▎         | 5112/192509 [00:09<02:56, 1059.48it/s]\u001b[A\n",
      "cord19/trec-covid documents:   3%|▎         | 5225/192509 [00:09<02:56, 1063.24it/s]\u001b[A\n",
      "cord19/trec-covid documents:   3%|▎         | 5337/192509 [00:09<03:35, 867.27it/s] \u001b[A\n",
      "cord19/trec-covid documents:   3%|▎         | 5559/192509 [00:09<03:04, 1012.32it/s]\u001b[A\n",
      "cord19/trec-covid documents:   3%|▎         | 5776/192509 [00:09<02:40, 1165.13it/s]\u001b[A\n",
      "cord19/trec-covid documents:   3%|▎         | 6032/192509 [00:09<02:26, 1275.82it/s]\u001b[A\n",
      "cord19/trec-covid documents:   3%|▎         | 6177/192509 [00:09<02:50, 1094.29it/s]\u001b[A\n",
      "cord19/trec-covid documents:   3%|▎         | 6330/192509 [00:10<03:07, 994.31it/s] \u001b[A\n",
      "cord19/trec-covid documents:   3%|▎         | 6468/192509 [00:10<02:55, 1059.23it/s]\u001b[A\n",
      "cord19/trec-covid documents:   3%|▎         | 6585/192509 [00:10<02:57, 1048.99it/s]\u001b[A\n",
      "cord19/trec-covid documents:   3%|▎         | 6698/192509 [00:10<03:08, 987.81it/s] \u001b[A\n",
      "cord19/trec-covid documents:   4%|▎         | 6803/192509 [00:10<03:13, 957.68it/s]\u001b[A\n",
      "cord19/trec-covid documents:   4%|▎         | 6916/192509 [00:10<03:51, 800.31it/s]\u001b[A\n",
      "cord19/trec-covid documents:   4%|▎         | 7013/192509 [00:10<03:50, 803.16it/s]\u001b[A\n",
      "cord19/trec-covid documents:   4%|▎         | 7199/192509 [00:11<03:11, 966.54it/s]\u001b[A\n",
      "cord19/trec-covid documents:   4%|▍         | 7384/192509 [00:11<02:48, 1101.92it/s]\u001b[A\n",
      "cord19/trec-covid documents:   4%|▍         | 7607/192509 [00:11<02:22, 1297.66it/s]\u001b[A\n",
      "cord19/trec-covid documents:   4%|▍         | 7765/192509 [00:11<03:03, 1006.07it/s]\u001b[A\n",
      "cord19/trec-covid documents:   4%|▍         | 7895/192509 [00:11<03:07, 983.59it/s] \u001b[A\n",
      "cord19/trec-covid documents:   4%|▍         | 8087/192509 [00:11<02:54, 1057.21it/s]\u001b[A\n",
      "cord19/trec-covid documents:   4%|▍         | 8503/192509 [00:11<02:15, 1361.93it/s]\u001b[A\n",
      "cord19/trec-covid documents:   5%|▍         | 8713/192509 [00:12<02:31, 1212.73it/s]\u001b[A\n",
      "cord19/trec-covid documents:   5%|▍         | 8889/192509 [00:12<02:29, 1231.68it/s]\u001b[A\n",
      "cord19/trec-covid documents:   5%|▍         | 9311/192509 [00:12<01:57, 1558.06it/s]\u001b[A\n",
      "cord19/trec-covid documents:   5%|▍         | 9564/192509 [00:12<02:00, 1513.08it/s]\u001b[A\n",
      "cord19/trec-covid documents:   5%|▌         | 9772/192509 [00:12<01:57, 1556.12it/s]\u001b[A\n",
      "cord19/trec-covid documents:   5%|▌         | 9983/192509 [00:12<02:19, 1311.02it/s]\u001b[A\n",
      "cord19/trec-covid documents:   5%|▌         | 10167/192509 [00:13<02:28, 1230.40it/s]\u001b[A\n",
      "cord19/trec-covid documents:   5%|▌         | 10316/192509 [00:13<02:30, 1214.42it/s]\u001b[A\n",
      "cord19/trec-covid documents:   5%|▌         | 10455/192509 [00:13<02:55, 1035.68it/s]\u001b[A\n",
      "cord19/trec-covid documents:   6%|▌         | 10695/192509 [00:13<02:36, 1161.89it/s]\u001b[A\n",
      "cord19/trec-covid documents:   6%|▌         | 10905/192509 [00:13<02:17, 1317.49it/s]\u001b[A\n",
      "cord19/trec-covid documents:   6%|▌         | 11056/192509 [00:13<02:13, 1359.44it/s]\u001b[A\n",
      "cord19/trec-covid documents:   6%|▌         | 11206/192509 [00:13<02:12, 1367.24it/s]\u001b[A\n",
      "cord19/trec-covid documents:   6%|▌         | 11353/192509 [00:14<02:45, 1095.52it/s]\u001b[A\n",
      "cord19/trec-covid documents:   6%|▌         | 11510/192509 [00:14<02:45, 1092.49it/s]\u001b[A\n",
      "cord19/trec-covid documents:   6%|▌         | 11663/192509 [00:14<02:32, 1184.29it/s]\u001b[A\n",
      "cord19/trec-covid documents:   6%|▌         | 11946/192509 [00:14<02:12, 1363.17it/s]\u001b[A\n",
      "cord19/trec-covid documents:   6%|▋         | 12410/192509 [00:14<01:52, 1598.73it/s]\u001b[A\n",
      "cord19/trec-covid documents:   7%|▋         | 12598/192509 [00:14<01:59, 1510.45it/s]\u001b[A\n",
      "cord19/trec-covid documents:   7%|▋         | 12827/192509 [00:14<01:56, 1546.72it/s]\u001b[A\n",
      "cord19/trec-covid documents:   7%|▋         | 13255/192509 [00:15<01:43, 1736.84it/s]\u001b[A\n",
      "cord19/trec-covid documents:   7%|▋         | 13447/192509 [00:15<01:43, 1722.07it/s]\u001b[A\n",
      "cord19/trec-covid documents:   7%|▋         | 13697/192509 [00:15<01:34, 1899.38it/s]\u001b[A\n",
      "cord19/trec-covid documents:   7%|▋         | 13995/192509 [00:15<01:23, 2131.19it/s]\u001b[A\n",
      "cord19/trec-covid documents:   7%|▋         | 14313/192509 [00:15<01:19, 2234.42it/s]\u001b[A\n",
      "cord19/trec-covid documents:   8%|▊         | 14557/192509 [00:15<01:20, 2215.61it/s]\u001b[A\n",
      "cord19/trec-covid documents:   8%|▊         | 14809/192509 [00:15<01:19, 2237.18it/s]\u001b[A\n",
      "cord19/trec-covid documents:   8%|▊         | 15199/192509 [00:15<01:12, 2446.90it/s]\u001b[A\n",
      "cord19/trec-covid documents:   8%|▊         | 15474/192509 [00:15<01:09, 2530.01it/s]\u001b[A\n",
      "cord19/trec-covid documents:   8%|▊         | 15736/192509 [00:16<01:10, 2491.76it/s]\u001b[A\n",
      "cord19/trec-covid documents:   8%|▊         | 16042/192509 [00:16<01:08, 2557.58it/s]\u001b[A\n",
      "cord19/trec-covid documents:   9%|▊         | 16399/192509 [00:16<01:03, 2761.81it/s]\u001b[A\n",
      "cord19/trec-covid documents:   9%|▊         | 16757/192509 [00:16<01:01, 2848.96it/s]\u001b[A\n",
      "cord19/trec-covid documents:   9%|▉         | 17195/192509 [00:16<00:55, 3182.63it/s]\u001b[A\n",
      "cord19/trec-covid documents:   9%|▉         | 18014/192509 [00:16<00:46, 3717.94it/s]\u001b[A\n",
      "cord19/trec-covid documents:  10%|▉         | 18529/192509 [00:16<00:45, 3789.41it/s]\u001b[A\n",
      "cord19/trec-covid documents:  10%|▉         | 19092/192509 [00:16<00:43, 3993.57it/s]\u001b[A\n",
      "cord19/trec-covid documents:  10%|█         | 19953/192509 [00:17<00:41, 4149.11it/s]\u001b[A\n",
      "cord19/trec-covid documents:  11%|█         | 20388/192509 [00:17<00:51, 3362.68it/s]\u001b[A\n",
      "cord19/trec-covid documents:  11%|█         | 20763/192509 [00:17<00:51, 3334.31it/s]\u001b[A\n",
      "cord19/trec-covid documents:  11%|█         | 21124/192509 [00:17<00:53, 3178.64it/s]\u001b[A\n",
      "cord19/trec-covid documents:  11%|█         | 21463/192509 [00:17<00:58, 2933.39it/s]\u001b[A\n",
      "cord19/trec-covid documents:  11%|█▏        | 21775/192509 [00:17<00:58, 2920.34it/s]\u001b[A\n",
      "cord19/trec-covid documents:  11%|█▏        | 22080/192509 [00:17<01:04, 2659.74it/s]\u001b[A\n",
      "cord19/trec-covid documents:  12%|█▏        | 22360/192509 [00:17<01:08, 2482.69it/s]\u001b[A\n",
      "cord19/trec-covid documents:  12%|█▏        | 22620/192509 [00:18<01:17, 2204.77it/s]\u001b[A\n",
      "cord19/trec-covid documents:  12%|█▏        | 22855/192509 [00:18<01:21, 2074.28it/s]\u001b[A\n",
      "cord19/trec-covid documents:  12%|█▏        | 23135/192509 [00:18<01:20, 2101.43it/s]\u001b[A\n",
      "cord19/trec-covid documents:  12%|█▏        | 23583/192509 [00:18<01:08, 2470.09it/s]\u001b[A\n",
      "cord19/trec-covid documents:  13%|█▎        | 24075/192509 [00:18<01:00, 2782.91it/s]\u001b[A\n",
      "cord19/trec-covid documents:  13%|█▎        | 24436/192509 [00:18<00:59, 2844.84it/s]\u001b[A\n",
      "cord19/trec-covid documents:  13%|█▎        | 24754/192509 [00:18<01:00, 2774.87it/s]\u001b[A\n",
      "cord19/trec-covid documents:  13%|█▎        | 25050/192509 [00:19<01:07, 2492.71it/s]\u001b[A\n",
      "cord19/trec-covid documents:  13%|█▎        | 25318/192509 [00:19<01:12, 2318.99it/s]\u001b[A\n",
      "cord19/trec-covid documents:  13%|█▎        | 25565/192509 [00:19<01:14, 2227.94it/s]\u001b[A\n",
      "cord19/trec-covid documents:  14%|█▎        | 26040/192509 [00:19<01:02, 2650.00it/s]\u001b[A\n",
      "cord19/trec-covid documents:  14%|█▎        | 26347/192509 [00:19<01:00, 2750.54it/s]\u001b[A\n",
      "cord19/trec-covid documents:  14%|█▍        | 26663/192509 [00:19<01:01, 2685.65it/s]\u001b[A\n",
      "cord19/trec-covid documents:  14%|█▍        | 27052/192509 [00:19<00:55, 2958.90it/s]\u001b[A\n",
      "cord19/trec-covid documents:  14%|█▍        | 27372/192509 [00:19<01:00, 2731.84it/s]\u001b[A\n",
      "cord19/trec-covid documents:  14%|█▍        | 27665/192509 [00:19<01:02, 2650.99it/s]\u001b[A\n",
      "cord19/trec-covid documents:  15%|█▍        | 27945/192509 [00:20<01:04, 2537.26it/s]\u001b[A\n",
      "cord19/trec-covid documents:  15%|█▍        | 28210/192509 [00:20<01:07, 2426.36it/s]\u001b[A\n",
      "cord19/trec-covid documents:  15%|█▍        | 28554/192509 [00:20<01:05, 2497.84it/s]\u001b[A\n",
      "cord19/trec-covid documents:  15%|█▍        | 28823/192509 [00:20<01:06, 2456.06it/s]\u001b[A\n",
      "cord19/trec-covid documents:  15%|█▌        | 29092/192509 [00:20<01:05, 2503.88it/s]\u001b[A\n",
      "cord19/trec-covid documents:  15%|█▌        | 29347/192509 [00:20<01:06, 2441.41it/s]\u001b[A\n",
      "cord19/trec-covid documents:  15%|█▌        | 29595/192509 [00:20<01:13, 2204.72it/s]\u001b[A\n",
      "cord19/trec-covid documents:  16%|█▌        | 29841/192509 [00:20<01:11, 2264.92it/s]\u001b[A\n",
      "cord19/trec-covid documents:  16%|█▌        | 30111/192509 [00:20<01:11, 2278.16it/s]\u001b[A\n",
      "cord19/trec-covid documents:  16%|█▌        | 30383/192509 [00:21<01:08, 2359.81it/s]\u001b[A\n",
      "cord19/trec-covid documents:  16%|█▌        | 30660/192509 [00:21<01:07, 2407.46it/s]\u001b[A\n",
      "cord19/trec-covid documents:  16%|█▌        | 30904/192509 [00:21<01:07, 2411.79it/s]\u001b[A\n",
      "cord19/trec-covid documents:  16%|█▌        | 31147/192509 [00:21<01:08, 2354.44it/s]\u001b[A\n",
      "cord19/trec-covid documents:  16%|█▋        | 31393/192509 [00:21<01:09, 2319.21it/s]\u001b[A\n",
      "cord19/trec-covid documents:  17%|█▋        | 31785/192509 [00:21<01:03, 2520.34it/s]\u001b[A\n",
      "cord19/trec-covid documents:  17%|█▋        | 32110/192509 [00:21<00:59, 2702.20it/s]\u001b[A\n",
      "cord19/trec-covid documents:  17%|█▋        | 32389/192509 [00:21<01:08, 2341.80it/s]\u001b[A\n",
      "cord19/trec-covid documents:  17%|█▋        | 32638/192509 [00:22<01:14, 2142.57it/s]\u001b[A\n",
      "cord19/trec-covid documents:  17%|█▋        | 32876/192509 [00:22<01:13, 2169.99it/s]\u001b[A\n",
      "cord19/trec-covid documents:  17%|█▋        | 33103/192509 [00:22<01:17, 2050.97it/s]\u001b[A\n",
      "cord19/trec-covid documents:  17%|█▋        | 33404/192509 [00:22<01:12, 2188.91it/s]\u001b[A\n",
      "cord19/trec-covid documents:  17%|█▋        | 33684/192509 [00:22<01:11, 2235.74it/s]\u001b[A\n",
      "cord19/trec-covid documents:  18%|█▊        | 33956/192509 [00:22<01:13, 2155.20it/s]\u001b[A\n",
      "cord19/trec-covid documents:  18%|█▊        | 34177/192509 [00:22<01:18, 2015.93it/s]\u001b[A\n",
      "cord19/trec-covid documents:  18%|█▊        | 34418/192509 [00:22<01:15, 2102.90it/s]\u001b[A\n",
      "cord19/trec-covid documents:  18%|█▊        | 34793/192509 [00:23<01:07, 2336.56it/s]\u001b[A\n",
      "cord19/trec-covid documents:  18%|█▊        | 35167/192509 [00:23<01:01, 2551.48it/s]\u001b[A\n",
      "cord19/trec-covid documents:  18%|█▊        | 35444/192509 [00:23<01:02, 2516.90it/s]\u001b[A\n",
      "cord19/trec-covid documents:  19%|█▊        | 35795/192509 [00:23<00:59, 2648.94it/s]\u001b[A\n",
      "cord19/trec-covid documents:  19%|█▊        | 36069/192509 [00:23<01:02, 2504.48it/s]\u001b[A\n",
      "cord19/trec-covid documents:  19%|█▉        | 36328/192509 [00:23<01:03, 2456.21it/s]\u001b[A\n",
      "cord19/trec-covid documents:  19%|█▉        | 36644/192509 [00:23<01:00, 2555.41it/s]\u001b[A\n",
      "cord19/trec-covid documents:  19%|█▉        | 36915/192509 [00:23<01:01, 2516.07it/s]\u001b[A\n",
      "cord19/trec-covid documents:  19%|█▉        | 37192/192509 [00:23<01:01, 2526.21it/s]\u001b[A\n",
      "cord19/trec-covid documents:  20%|█▉        | 37571/192509 [00:24<00:57, 2710.98it/s]\u001b[A\n",
      "cord19/trec-covid documents:  20%|█▉        | 37932/192509 [00:24<00:54, 2852.37it/s]\u001b[A\n",
      "cord19/trec-covid documents:  20%|█▉        | 38310/192509 [00:24<00:53, 2887.30it/s]\u001b[A\n",
      "cord19/trec-covid documents:  20%|██        | 38671/192509 [00:24<00:51, 2994.60it/s]\u001b[A\n",
      "cord19/trec-covid documents:  20%|██        | 39021/192509 [00:24<00:50, 3057.51it/s]\u001b[A\n"
     ]
    },
    {
     "name": "stderr",
     "output_type": "stream",
     "text": [
      "cord19/trec-covid documents:  20%|██        | 39391/192509 [00:24<00:48, 3174.51it/s]\u001b[A\n",
      "cord19/trec-covid documents:  21%|██        | 39760/192509 [00:24<00:46, 3261.86it/s]\u001b[A\n",
      "cord19/trec-covid documents:  21%|██        | 40090/192509 [00:24<01:00, 2518.09it/s]\u001b[A\n",
      "cord19/trec-covid documents:  21%|██        | 40404/192509 [00:25<00:59, 2568.01it/s]\u001b[A\n",
      "cord19/trec-covid documents:  21%|██        | 40763/192509 [00:25<00:54, 2768.39it/s]\u001b[A\n",
      "cord19/trec-covid documents:  21%|██▏       | 41128/192509 [00:25<00:51, 2929.90it/s]\u001b[A\n",
      "cord19/trec-covid documents:  22%|██▏       | 41446/192509 [00:25<00:50, 3000.26it/s]\u001b[A\n",
      "cord19/trec-covid documents:  22%|██▏       | 41778/192509 [00:25<00:50, 2999.82it/s]\u001b[A\n",
      "cord19/trec-covid documents:  22%|██▏       | 42136/192509 [00:25<00:48, 3117.19it/s]\u001b[A\n",
      "cord19/trec-covid documents:  22%|██▏       | 42513/192509 [00:25<00:46, 3196.19it/s]\u001b[A\n",
      "cord19/trec-covid documents:  22%|██▏       | 42873/192509 [00:25<00:47, 3130.52it/s]\u001b[A\n",
      "cord19/trec-covid documents:  22%|██▏       | 43251/192509 [00:25<00:46, 3206.26it/s]\u001b[A\n",
      "cord19/trec-covid documents:  23%|██▎       | 43601/192509 [00:25<00:45, 3250.95it/s]\u001b[A\n",
      "cord19/trec-covid documents:  23%|██▎       | 43979/192509 [00:26<00:44, 3342.76it/s]\u001b[A\n",
      "cord19/trec-covid documents:  23%|██▎       | 44344/192509 [00:26<00:44, 3360.11it/s]\u001b[A\n",
      "cord19/trec-covid documents:  23%|██▎       | 44682/192509 [00:26<00:46, 3187.16it/s]\u001b[A\n",
      "cord19/trec-covid documents:  23%|██▎       | 45004/192509 [00:26<00:46, 3164.96it/s]\u001b[A\n",
      "cord19/trec-covid documents:  24%|██▎       | 45326/192509 [00:26<00:46, 3136.04it/s]\u001b[A\n",
      "cord19/trec-covid documents:  24%|██▎       | 45678/192509 [00:26<00:46, 3188.35it/s]\u001b[A\n",
      "cord19/trec-covid documents:  24%|██▍       | 46034/192509 [00:26<00:44, 3291.02it/s]\u001b[A\n",
      "cord19/trec-covid documents:  24%|██▍       | 46365/192509 [00:26<00:44, 3269.71it/s]\u001b[A\n",
      "cord19/trec-covid documents:  24%|██▍       | 46694/192509 [00:26<00:44, 3240.98it/s]\u001b[A\n",
      "cord19/trec-covid documents:  24%|██▍       | 47034/192509 [00:27<00:44, 3250.94it/s]\u001b[A\n",
      "cord19/trec-covid documents:  25%|██▍       | 47409/192509 [00:27<00:43, 3329.39it/s]\u001b[A\n",
      "cord19/trec-covid documents:  25%|██▍       | 47743/192509 [00:27<00:43, 3294.04it/s]\u001b[A\n",
      "cord19/trec-covid documents:  25%|██▍       | 48074/192509 [00:27<00:44, 3234.11it/s]\u001b[A\n",
      "cord19/trec-covid documents:  25%|██▌       | 48435/192509 [00:27<00:43, 3290.31it/s]\u001b[A\n",
      "cord19/trec-covid documents:  25%|██▌       | 48799/192509 [00:27<00:43, 3331.61it/s]\u001b[A\n",
      "cord19/trec-covid documents:  26%|██▌       | 49133/192509 [00:27<00:43, 3331.51it/s]\u001b[A\n",
      "cord19/trec-covid documents:  26%|██▌       | 49467/192509 [00:27<00:43, 3269.68it/s]\u001b[A\n",
      "cord19/trec-covid documents:  26%|██▌       | 49795/192509 [00:27<00:45, 3138.34it/s]\u001b[A\n",
      "cord19/trec-covid documents:  26%|██▌       | 50169/192509 [00:28<00:43, 3241.29it/s]\u001b[A\n",
      "cord19/trec-covid documents:  26%|██▌       | 50532/192509 [00:28<00:45, 3154.39it/s]\u001b[A\n",
      "cord19/trec-covid documents:  26%|██▋       | 50882/192509 [00:28<00:44, 3216.28it/s]\u001b[A\n",
      "cord19/trec-covid documents:  27%|██▋       | 51246/192509 [00:28<00:43, 3279.02it/s]\u001b[A\n",
      "cord19/trec-covid documents:  27%|██▋       | 51616/192509 [00:28<00:42, 3336.44it/s]\u001b[A\n",
      "cord19/trec-covid documents:  27%|██▋       | 51960/192509 [00:28<00:42, 3323.89it/s]\u001b[A\n",
      "cord19/trec-covid documents:  27%|██▋       | 52320/192509 [00:28<00:43, 3224.64it/s]\u001b[A\n",
      "cord19/trec-covid documents:  27%|██▋       | 52689/192509 [00:28<00:42, 3306.15it/s]\u001b[A\n",
      "cord19/trec-covid documents:  28%|██▊       | 53051/192509 [00:28<00:41, 3348.14it/s]\u001b[A\n",
      "cord19/trec-covid documents:  28%|██▊       | 53419/192509 [00:28<00:41, 3368.66it/s]\u001b[A\n",
      "cord19/trec-covid documents:  28%|██▊       | 53768/192509 [00:29<00:42, 3228.29it/s]\u001b[A\n",
      "cord19/trec-covid documents:  28%|██▊       | 54117/192509 [00:29<00:43, 3190.49it/s]\u001b[A\n",
      "cord19/trec-covid documents:  28%|██▊       | 54485/192509 [00:29<00:43, 3155.50it/s]\u001b[A\n",
      "cord19/trec-covid documents:  28%|██▊       | 54844/192509 [00:29<00:43, 3198.43it/s]\u001b[A\n",
      "cord19/trec-covid documents:  29%|██▊       | 55165/192509 [00:29<00:44, 3080.85it/s]\u001b[A\n",
      "cord19/trec-covid documents:  29%|██▉       | 55475/192509 [00:29<00:45, 3043.83it/s]\u001b[A\n",
      "cord19/trec-covid documents:  29%|██▉       | 55781/192509 [00:29<00:45, 2993.51it/s]\u001b[A\n",
      "cord19/trec-covid documents:  29%|██▉       | 56129/192509 [00:29<00:46, 2959.29it/s]\u001b[A\n",
      "cord19/trec-covid documents:  29%|██▉       | 56434/192509 [00:29<00:45, 2985.80it/s]\u001b[A\n",
      "cord19/trec-covid documents:  29%|██▉       | 56734/192509 [00:30<00:47, 2858.88it/s]\u001b[A\n",
      "cord19/trec-covid documents:  30%|██▉       | 57022/192509 [00:30<01:06, 2045.86it/s]\u001b[A\n",
      "cord19/trec-covid documents:  30%|██▉       | 57261/192509 [00:30<01:07, 2000.38it/s]\u001b[A\n",
      "cord19/trec-covid documents:  30%|██▉       | 57489/192509 [00:30<01:08, 1979.23it/s]\u001b[A\n",
      "cord19/trec-covid documents:  30%|██▉       | 57744/192509 [00:30<01:03, 2121.63it/s]\u001b[A\n",
      "cord19/trec-covid documents:  30%|███       | 57971/192509 [00:30<01:03, 2119.04it/s]\u001b[A\n",
      "cord19/trec-covid documents:  30%|███       | 58201/192509 [00:30<01:07, 1991.19it/s]\u001b[A\n",
      "cord19/trec-covid documents:  30%|███       | 58563/192509 [00:31<00:59, 2265.06it/s]\u001b[A\n",
      "cord19/trec-covid documents:  31%|███       | 58932/192509 [00:31<00:52, 2520.51it/s]\u001b[A\n",
      "cord19/trec-covid documents:  31%|███       | 59284/192509 [00:31<00:49, 2710.52it/s]\u001b[A\n",
      "cord19/trec-covid documents:  31%|███       | 59655/192509 [00:31<00:46, 2847.61it/s]\u001b[A\n",
      "cord19/trec-covid documents:  31%|███       | 59956/192509 [00:31<00:46, 2861.54it/s]\u001b[A\n",
      "cord19/trec-covid documents:  31%|███▏      | 60254/192509 [00:31<00:56, 2352.65it/s]\u001b[A\n",
      "cord19/trec-covid documents:  31%|███▏      | 60557/192509 [00:31<00:54, 2440.79it/s]\u001b[A\n",
      "cord19/trec-covid documents:  32%|███▏      | 60898/192509 [00:31<00:49, 2668.15it/s]\u001b[A\n",
      "cord19/trec-covid documents:  32%|███▏      | 61218/192509 [00:31<00:48, 2724.07it/s]\u001b[A\n",
      "cord19/trec-covid documents:  32%|███▏      | 61504/192509 [00:32<00:47, 2739.24it/s]\u001b[A\n",
      "cord19/trec-covid documents:  32%|███▏      | 61873/192509 [00:32<00:45, 2875.25it/s]\u001b[A\n",
      "cord19/trec-covid documents:  32%|███▏      | 62251/192509 [00:32<00:43, 3027.13it/s]\u001b[A\n",
      "cord19/trec-covid documents:  32%|███▏      | 62562/192509 [00:32<00:44, 2928.55it/s]\u001b[A\n",
      "cord19/trec-covid documents:  33%|███▎      | 62869/192509 [00:32<00:46, 2798.69it/s]\u001b[A\n",
      "cord19/trec-covid documents:  33%|███▎      | 63237/192509 [00:32<00:43, 2964.22it/s]\u001b[A\n",
      "cord19/trec-covid documents:  33%|███▎      | 63594/192509 [00:32<00:42, 3020.21it/s]\u001b[A\n",
      "cord19/trec-covid documents:  33%|███▎      | 63964/192509 [00:32<00:41, 3125.21it/s]\u001b[A\n",
      "cord19/trec-covid documents:  33%|███▎      | 64336/192509 [00:32<00:40, 3143.28it/s]\u001b[A\n",
      "cord19/trec-covid documents:  34%|███▎      | 64654/192509 [00:33<00:41, 3085.94it/s]\u001b[A\n",
      "cord19/trec-covid documents:  34%|███▍      | 64978/192509 [00:33<00:41, 3044.45it/s]\u001b[A\n",
      "cord19/trec-covid documents:  34%|███▍      | 65330/192509 [00:33<00:41, 3040.30it/s]\u001b[A\n",
      "cord19/trec-covid documents:  34%|███▍      | 65713/192509 [00:33<00:40, 3093.72it/s]\u001b[A\n",
      "cord19/trec-covid documents:  34%|███▍      | 66024/192509 [00:33<00:48, 2633.92it/s]\u001b[A\n",
      "cord19/trec-covid documents:  34%|███▍      | 66301/192509 [00:33<00:54, 2333.45it/s]\u001b[A\n",
      "cord19/trec-covid documents:  35%|███▍      | 66550/192509 [00:33<01:00, 2076.15it/s]\u001b[A\n",
      "cord19/trec-covid documents:  35%|███▍      | 66775/192509 [00:33<00:59, 2125.41it/s]\u001b[A\n",
      "cord19/trec-covid documents:  35%|███▍      | 66999/192509 [00:34<01:06, 1900.70it/s]\u001b[A\n",
      "cord19/trec-covid documents:  35%|███▍      | 67202/192509 [00:34<01:10, 1777.18it/s]\u001b[A\n",
      "cord19/trec-covid documents:  35%|███▌      | 67443/192509 [00:34<01:09, 1807.42it/s]\u001b[A\n",
      "cord19/trec-covid documents:  35%|███▌      | 67714/192509 [00:34<01:02, 2003.88it/s]\u001b[A\n",
      "cord19/trec-covid documents:  35%|███▌      | 67982/192509 [00:34<00:59, 2085.04it/s]\u001b[A\n",
      "cord19/trec-covid documents:  35%|███▌      | 68258/192509 [00:34<00:57, 2168.69it/s]\u001b[A\n",
      "cord19/trec-covid documents:  36%|███▌      | 68526/192509 [00:34<00:56, 2203.46it/s]\u001b[A\n",
      "cord19/trec-covid documents:  36%|███▌      | 68796/192509 [00:34<00:53, 2303.39it/s]\u001b[A\n",
      "cord19/trec-covid documents:  36%|███▌      | 69059/192509 [00:35<00:53, 2303.81it/s]\u001b[A\n",
      "cord19/trec-covid documents:  36%|███▌      | 69405/192509 [00:35<00:49, 2495.12it/s]\u001b[A\n",
      "cord19/trec-covid documents:  36%|███▌      | 69674/192509 [00:35<00:50, 2427.30it/s]\u001b[A\n",
      "cord19/trec-covid documents:  36%|███▋      | 70010/192509 [00:35<00:48, 2522.33it/s]\u001b[A\n",
      "cord19/trec-covid documents:  37%|███▋      | 70277/192509 [00:35<00:48, 2496.16it/s]\u001b[A\n",
      "cord19/trec-covid documents:  37%|███▋      | 70539/192509 [00:35<00:50, 2418.15it/s]\u001b[A\n",
      "cord19/trec-covid documents:  37%|███▋      | 70902/192509 [00:35<00:47, 2562.92it/s]\u001b[A\n",
      "cord19/trec-covid documents:  37%|███▋      | 71249/192509 [00:35<00:46, 2627.40it/s]\u001b[A\n",
      "cord19/trec-covid documents:  37%|███▋      | 71516/192509 [00:36<00:48, 2484.60it/s]\u001b[A\n",
      "cord19/trec-covid documents:  37%|███▋      | 71769/192509 [00:36<00:54, 2222.57it/s]\u001b[A\n",
      "cord19/trec-covid documents:  37%|███▋      | 72000/192509 [00:36<00:59, 2022.08it/s]\u001b[A\n",
      "cord19/trec-covid documents:  38%|███▊      | 72212/192509 [00:36<01:08, 1759.15it/s]\u001b[A\n",
      "cord19/trec-covid documents:  38%|███▊      | 72401/192509 [00:36<01:10, 1701.40it/s]\u001b[A\n",
      "cord19/trec-covid documents:  38%|███▊      | 72581/192509 [00:36<01:13, 1628.94it/s]\u001b[A\n",
      "cord19/trec-covid documents:  38%|███▊      | 72751/192509 [00:36<01:13, 1638.01it/s]\u001b[A\n",
      "cord19/trec-covid documents:  38%|███▊      | 72920/192509 [00:36<01:13, 1632.48it/s]\u001b[A\n",
      "cord19/trec-covid documents:  38%|███▊      | 73087/192509 [00:36<01:13, 1622.26it/s]\u001b[A\n",
      "cord19/trec-covid documents:  38%|███▊      | 73329/192509 [00:37<01:09, 1718.18it/s]\u001b[A\n",
      "cord19/trec-covid documents:  38%|███▊      | 73580/192509 [00:37<01:04, 1848.03it/s]\u001b[A\n",
      "cord19/trec-covid documents:  38%|███▊      | 73832/192509 [00:37<00:59, 1989.33it/s]\u001b[A\n",
      "cord19/trec-covid documents:  38%|███▊      | 74092/192509 [00:37<00:55, 2139.82it/s]\u001b[A\n",
      "cord19/trec-covid documents:  39%|███▊      | 74314/192509 [00:37<00:56, 2085.46it/s]\u001b[A\n",
      "cord19/trec-covid documents:  39%|███▊      | 74559/192509 [00:37<00:56, 2090.29it/s]\u001b[A\n",
      "cord19/trec-covid documents:  39%|███▉      | 74773/192509 [00:37<00:56, 2095.23it/s]\u001b[A\n",
      "cord19/trec-covid documents:  39%|███▉      | 75001/192509 [00:37<00:59, 1970.82it/s]\u001b[A\n",
      "cord19/trec-covid documents:  39%|███▉      | 75202/192509 [00:38<01:01, 1909.19it/s]\u001b[A\n",
      "cord19/trec-covid documents:  39%|███▉      | 75434/192509 [00:38<01:00, 1933.16it/s]\u001b[A\n",
      "cord19/trec-covid documents:  39%|███▉      | 75709/192509 [00:38<00:57, 2038.23it/s]\u001b[A\n",
      "cord19/trec-covid documents:  39%|███▉      | 75970/192509 [00:38<00:57, 2035.49it/s]\u001b[A\n",
      "cord19/trec-covid documents:  40%|███▉      | 76245/192509 [00:38<00:53, 2163.41it/s]\u001b[A\n",
      "cord19/trec-covid documents:  40%|███▉      | 76523/192509 [00:38<00:54, 2145.70it/s]\u001b[A\n",
      "cord19/trec-covid documents:  40%|███▉      | 76747/192509 [00:38<00:53, 2172.93it/s]\u001b[A\n",
      "cord19/trec-covid documents:  40%|███▉      | 76967/192509 [00:38<00:55, 2091.32it/s]\u001b[A\n",
      "cord19/trec-covid documents:  40%|████      | 77221/192509 [00:38<00:54, 2112.24it/s]\u001b[A\n",
      "cord19/trec-covid documents:  40%|████      | 77498/192509 [00:39<00:51, 2234.37it/s]\u001b[A\n",
      "cord19/trec-covid documents:  40%|████      | 77772/192509 [00:39<00:49, 2306.11it/s]\u001b[A\n",
      "cord19/trec-covid documents:  41%|████      | 78111/192509 [00:39<00:49, 2321.32it/s]\u001b[A\n",
      "cord19/trec-covid documents:  41%|████      | 78372/192509 [00:39<00:47, 2400.73it/s]\u001b[A\n",
      "cord19/trec-covid documents:  41%|████      | 78651/192509 [00:39<00:48, 2346.60it/s]\u001b[A\n",
      "cord19/trec-covid documents:  41%|████      | 78968/192509 [00:39<00:47, 2381.59it/s]\u001b[A\n",
      "cord19/trec-covid documents:  41%|████      | 79282/192509 [00:39<00:47, 2378.51it/s]\u001b[A\n",
      "cord19/trec-covid documents:  41%|████▏     | 79596/192509 [00:39<00:46, 2421.18it/s]\u001b[A\n",
      "cord19/trec-covid documents:  41%|████▏     | 79839/192509 [00:40<00:47, 2350.28it/s]\u001b[A\n",
      "cord19/trec-covid documents:  42%|████▏     | 80130/192509 [00:40<00:47, 2389.42it/s]\u001b[A\n",
      "cord19/trec-covid documents:  42%|████▏     | 80370/192509 [00:40<00:59, 1869.42it/s]\u001b[A\n",
      "cord19/trec-covid documents:  42%|████▏     | 80655/192509 [00:40<00:54, 2057.70it/s]\u001b[A\n",
      "cord19/trec-covid documents:  42%|████▏     | 80933/192509 [00:40<00:50, 2231.40it/s]\u001b[A\n",
      "cord19/trec-covid documents:  42%|████▏     | 81174/192509 [00:40<00:54, 2060.03it/s]\u001b[A\n",
      "cord19/trec-covid documents:  42%|████▏     | 81395/192509 [00:40<00:57, 1935.41it/s]\u001b[A\n",
      "cord19/trec-covid documents:  42%|████▏     | 81613/192509 [00:40<00:55, 2002.15it/s]\u001b[A\n",
      "cord19/trec-covid documents:  43%|████▎     | 81912/192509 [00:41<00:53, 2084.37it/s]\u001b[A\n",
      "cord19/trec-covid documents:  43%|████▎     | 82175/192509 [00:41<00:49, 2221.92it/s]\u001b[A\n",
      "cord19/trec-covid documents:  43%|████▎     | 82448/192509 [00:41<00:49, 2240.31it/s]\u001b[A\n",
      "cord19/trec-covid documents:  43%|████▎     | 82762/192509 [00:41<00:46, 2335.44it/s]\u001b[A\n",
      "cord19/trec-covid documents:  43%|████▎     | 83001/192509 [00:41<00:49, 2224.58it/s]\u001b[A\n",
      "cord19/trec-covid documents:  43%|████▎     | 83279/192509 [00:41<00:46, 2361.90it/s]\u001b[A\n",
      "cord19/trec-covid documents:  43%|████▎     | 83521/192509 [00:41<00:46, 2362.76it/s]\u001b[A\n",
      "cord19/trec-covid documents:  44%|████▎     | 83821/192509 [00:41<00:45, 2408.60it/s]\u001b[A\n",
      "cord19/trec-covid documents:  44%|████▎     | 84146/192509 [00:41<00:43, 2490.02it/s]\u001b[A\n",
      "cord19/trec-covid documents:  44%|████▍     | 84414/192509 [00:42<00:42, 2543.85it/s]\u001b[A\n",
      "cord19/trec-covid documents:  44%|████▍     | 84671/192509 [00:42<00:45, 2391.38it/s]\u001b[A\n",
      "cord19/trec-covid documents:  44%|████▍     | 84914/192509 [00:42<00:49, 2178.85it/s]\u001b[A\n",
      "cord19/trec-covid documents:  44%|████▍     | 85198/192509 [00:42<00:48, 2199.91it/s]\u001b[A\n",
      "cord19/trec-covid documents:  44%|████▍     | 85516/192509 [00:42<00:47, 2264.27it/s]\u001b[A\n",
      "cord19/trec-covid documents:  45%|████▍     | 85746/192509 [00:42<00:48, 2211.26it/s]\u001b[A\n",
      "cord19/trec-covid documents:  45%|████▍     | 86033/192509 [00:42<00:49, 2146.98it/s]\u001b[A\n",
      "cord19/trec-covid documents:  45%|████▍     | 86250/192509 [00:42<00:50, 2103.23it/s]\u001b[A\n",
      "cord19/trec-covid documents:  45%|████▍     | 86463/192509 [00:43<00:51, 2056.38it/s]\u001b[A\n",
      "cord19/trec-covid documents:  45%|████▌     | 86671/192509 [00:43<00:53, 1980.54it/s]\u001b[A\n",
      "cord19/trec-covid documents:  45%|████▌     | 86871/192509 [00:43<00:53, 1978.39it/s]\u001b[A\n",
      "cord19/trec-covid documents:  45%|████▌     | 87070/192509 [00:43<00:56, 1872.30it/s]\u001b[A\n",
      "cord19/trec-covid documents:  45%|████▌     | 87290/192509 [00:43<00:59, 1782.32it/s]\u001b[A\n",
      "cord19/trec-covid documents:  45%|████▌     | 87505/192509 [00:43<00:57, 1838.94it/s]\u001b[A\n",
      "cord19/trec-covid documents:  46%|████▌     | 87723/192509 [00:43<00:59, 1769.78it/s]\u001b[A\n",
      "cord19/trec-covid documents:  46%|████▌     | 87935/192509 [00:43<00:58, 1782.50it/s]\u001b[A\n",
      "cord19/trec-covid documents:  46%|████▌     | 88199/192509 [00:43<00:52, 1974.86it/s]\u001b[A\n",
      "cord19/trec-covid documents:  46%|████▌     | 88404/192509 [00:44<00:52, 1987.24it/s]\u001b[A\n",
      "cord19/trec-covid documents:  46%|████▌     | 88608/192509 [00:44<00:53, 1956.49it/s]\u001b[A\n",
      "cord19/trec-covid documents:  46%|████▌     | 88808/192509 [00:44<00:55, 1859.35it/s]\u001b[A\n",
      "cord19/trec-covid documents:  46%|████▌     | 88998/192509 [00:44<00:57, 1789.33it/s]\u001b[A\n",
      "cord19/trec-covid documents:  46%|████▋     | 89204/192509 [00:44<00:56, 1825.14it/s]\u001b[A\n",
      "cord19/trec-covid documents:  46%|████▋     | 89503/192509 [00:44<00:50, 2057.73it/s]\u001b[A\n",
      "cord19/trec-covid documents:  47%|████▋     | 89821/192509 [00:44<00:45, 2267.66it/s]\u001b[A\n",
      "cord19/trec-covid documents:  47%|████▋     | 90166/192509 [00:44<00:41, 2444.15it/s]\u001b[A\n",
      "cord19/trec-covid documents:  47%|████▋     | 90468/192509 [00:44<00:40, 2536.80it/s]\u001b[A\n",
      "cord19/trec-covid documents:  47%|████▋     | 90733/192509 [00:45<00:40, 2531.00it/s]\u001b[A\n",
      "cord19/trec-covid documents:  47%|████▋     | 90994/192509 [00:45<00:46, 2166.74it/s]\u001b[A\n",
      "cord19/trec-covid documents:  47%|████▋     | 91243/192509 [00:45<00:47, 2119.39it/s]\u001b[A\n",
      "cord19/trec-covid documents:  48%|████▊     | 91559/192509 [00:45<00:43, 2299.08it/s]\u001b[A\n",
      "cord19/trec-covid documents:  48%|████▊     | 91858/192509 [00:45<00:42, 2345.26it/s]\u001b[A\n",
      "cord19/trec-covid documents:  48%|████▊     | 92114/192509 [00:45<00:45, 2192.25it/s]\u001b[A\n",
      "cord19/trec-covid documents:  48%|████▊     | 92370/192509 [00:45<00:43, 2286.65it/s]\u001b[A\n",
      "cord19/trec-covid documents:  48%|████▊     | 92655/192509 [00:45<00:43, 2289.98it/s]\u001b[A\n"
     ]
    },
    {
     "name": "stderr",
     "output_type": "stream",
     "text": [
      "cord19/trec-covid documents:  48%|████▊     | 92934/192509 [00:46<00:41, 2388.68it/s]\u001b[A\n",
      "cord19/trec-covid documents:  48%|████▊     | 93250/192509 [00:46<00:38, 2547.65it/s]\u001b[A\n",
      "cord19/trec-covid documents:  49%|████▊     | 93562/192509 [00:46<00:36, 2692.30it/s]\u001b[A\n",
      "cord19/trec-covid documents:  49%|████▉     | 93990/192509 [00:46<00:32, 3029.18it/s]\u001b[A\n",
      "cord19/trec-covid documents:  49%|████▉     | 94324/192509 [00:46<00:33, 2933.14it/s]\u001b[A\n",
      "cord19/trec-covid documents:  49%|████▉     | 94631/192509 [00:46<00:33, 2921.53it/s]\u001b[A\n",
      "cord19/trec-covid documents:  49%|████▉     | 95057/192509 [00:46<00:32, 3045.37it/s]\u001b[A\n",
      "cord19/trec-covid documents:  50%|████▉     | 95483/192509 [00:46<00:30, 3169.68it/s]\u001b[A\n",
      "cord19/trec-covid documents:  50%|████▉     | 95938/192509 [00:46<00:27, 3486.60it/s]\u001b[A\n",
      "cord19/trec-covid documents:  50%|█████     | 96302/192509 [00:47<00:28, 3414.74it/s]\u001b[A\n",
      "cord19/trec-covid documents:  50%|█████     | 96665/192509 [00:47<00:27, 3432.24it/s]\u001b[A\n",
      "cord19/trec-covid documents:  50%|█████     | 97101/192509 [00:47<00:27, 3477.99it/s]\u001b[A\n",
      "cord19/trec-covid documents:  51%|█████     | 97455/192509 [00:47<00:27, 3450.44it/s]\u001b[A\n",
      "cord19/trec-covid documents:  51%|█████     | 97826/192509 [00:47<00:29, 3207.41it/s]\u001b[A\n",
      "cord19/trec-covid documents:  51%|█████     | 98265/192509 [00:47<00:28, 3352.92it/s]\u001b[A\n",
      "cord19/trec-covid documents:  51%|█████▏    | 98707/192509 [00:47<00:26, 3497.78it/s]\u001b[A\n",
      "cord19/trec-covid documents:  51%|█████▏    | 99142/192509 [00:47<00:26, 3508.42it/s]\u001b[A\n",
      "cord19/trec-covid documents:  52%|█████▏    | 99631/192509 [00:47<00:26, 3529.03it/s]\u001b[A\n",
      "cord19/trec-covid documents:  52%|█████▏    | 100094/192509 [00:48<00:25, 3692.76it/s]\u001b[A\n",
      "cord19/trec-covid documents:  52%|█████▏    | 100468/192509 [00:48<00:32, 2850.76it/s]\u001b[A\n",
      "cord19/trec-covid documents:  52%|█████▏    | 100786/192509 [00:48<00:32, 2849.42it/s]\u001b[A\n",
      "cord19/trec-covid documents:  53%|█████▎    | 101094/192509 [00:48<00:32, 2844.36it/s]\u001b[A\n",
      "cord19/trec-covid documents:  53%|█████▎    | 101395/192509 [00:48<00:32, 2841.78it/s]\u001b[A\n",
      "cord19/trec-covid documents:  53%|█████▎    | 101751/192509 [00:48<00:32, 2802.06it/s]\u001b[A\n",
      "cord19/trec-covid documents:  53%|█████▎    | 102111/192509 [00:48<00:30, 3001.59it/s]\u001b[A\n",
      "cord19/trec-covid documents:  53%|█████▎    | 102488/192509 [00:48<00:28, 3120.29it/s]\u001b[A\n",
      "cord19/trec-covid documents:  53%|█████▎    | 102911/192509 [00:49<00:26, 3363.65it/s]\u001b[A\n",
      "cord19/trec-covid documents:  54%|█████▎    | 103385/192509 [00:49<00:25, 3549.85it/s]\u001b[A\n",
      "cord19/trec-covid documents:  54%|█████▍    | 103878/192509 [00:49<00:24, 3654.77it/s]\u001b[A\n",
      "cord19/trec-covid documents:  54%|█████▍    | 104346/192509 [00:49<00:22, 3911.82it/s]\u001b[A\n",
      "cord19/trec-covid documents:  54%|█████▍    | 104780/192509 [00:49<00:23, 3763.65it/s]\u001b[A\n",
      "cord19/trec-covid documents:  55%|█████▍    | 105228/192509 [00:49<00:22, 3842.11it/s]\u001b[A\n",
      "cord19/trec-covid documents:  55%|█████▍    | 105690/192509 [00:49<00:22, 3941.33it/s]\u001b[A\n",
      "cord19/trec-covid documents:  55%|█████▌    | 106134/192509 [00:49<00:21, 4078.26it/s]\u001b[A\n",
      "cord19/trec-covid documents:  55%|█████▌    | 106588/192509 [00:49<00:21, 4076.37it/s]\u001b[A\n",
      "cord19/trec-covid documents:  56%|█████▌    | 107000/192509 [00:50<00:21, 3948.95it/s]\u001b[A\n",
      "cord19/trec-covid documents:  56%|█████▌    | 107399/192509 [00:50<00:22, 3764.40it/s]\u001b[A\n",
      "cord19/trec-covid documents:  56%|█████▌    | 107780/192509 [00:50<00:22, 3693.82it/s]\u001b[A\n",
      "cord19/trec-covid documents:  56%|█████▌    | 108163/192509 [00:50<00:23, 3566.63it/s]\u001b[A\n",
      "cord19/trec-covid documents:  56%|█████▋    | 108573/192509 [00:50<00:22, 3676.73it/s]\u001b[A\n",
      "cord19/trec-covid documents:  57%|█████▋    | 109037/192509 [00:50<00:21, 3881.69it/s]\u001b[A\n",
      "cord19/trec-covid documents:  57%|█████▋    | 109471/192509 [00:50<00:20, 3964.95it/s]\u001b[A\n",
      "cord19/trec-covid documents:  57%|█████▋    | 109892/192509 [00:50<00:21, 3886.79it/s]\u001b[A\n",
      "cord19/trec-covid documents:  57%|█████▋    | 110385/192509 [00:50<00:20, 4097.04it/s]\u001b[A\n",
      "cord19/trec-covid documents:  58%|█████▊    | 110853/192509 [00:51<00:19, 4185.94it/s]\u001b[A\n",
      "cord19/trec-covid documents:  58%|█████▊    | 111292/192509 [00:51<00:19, 4212.63it/s]\u001b[A\n",
      "cord19/trec-covid documents:  58%|█████▊    | 111769/192509 [00:51<00:19, 4185.18it/s]\u001b[A\n",
      "cord19/trec-covid documents:  58%|█████▊    | 112260/192509 [00:51<00:19, 4154.47it/s]\u001b[A\n",
      "cord19/trec-covid documents:  59%|█████▊    | 112708/192509 [00:51<00:18, 4239.42it/s]\u001b[A\n",
      "cord19/trec-covid documents:  59%|█████▉    | 113189/192509 [00:51<00:18, 4341.70it/s]\u001b[A\n",
      "cord19/trec-covid documents:  59%|█████▉    | 113651/192509 [00:51<00:19, 4141.45it/s]\u001b[A\n",
      "cord19/trec-covid documents:  59%|█████▉    | 114123/192509 [00:51<00:18, 4234.76it/s]\u001b[A\n",
      "cord19/trec-covid documents:  60%|█████▉    | 114637/192509 [00:51<00:17, 4470.88it/s]\u001b[A\n",
      "cord19/trec-covid documents:  60%|█████▉    | 115090/192509 [00:52<00:17, 4416.64it/s]\u001b[A\n",
      "cord19/trec-covid documents:  60%|██████    | 115536/192509 [00:52<00:18, 4226.19it/s]\u001b[A\n",
      "cord19/trec-covid documents:  60%|██████    | 116026/192509 [00:52<00:17, 4408.02it/s]\u001b[A\n",
      "cord19/trec-covid documents:  61%|██████    | 116567/192509 [00:52<00:16, 4667.09it/s]\u001b[A\n",
      "cord19/trec-covid documents:  61%|██████    | 117042/192509 [00:52<00:16, 4627.83it/s]\u001b[A\n",
      "cord19/trec-covid documents:  61%|██████    | 117548/192509 [00:52<00:16, 4480.22it/s]\u001b[A\n",
      "cord19/trec-covid documents:  61%|██████▏   | 118125/192509 [00:52<00:16, 4541.94it/s]\u001b[A\n",
      "cord19/trec-covid documents:  62%|██████▏   | 118606/192509 [00:52<00:16, 4533.77it/s]\u001b[A\n",
      "cord19/trec-covid documents:  62%|██████▏   | 119222/192509 [00:52<00:15, 4653.20it/s]\u001b[A\n",
      "cord19/trec-covid documents:  62%|██████▏   | 119818/192509 [00:53<00:14, 4980.67it/s]\u001b[A\n",
      "cord19/trec-covid documents:  63%|██████▎   | 120325/192509 [00:53<00:18, 3911.83it/s]\u001b[A\n",
      "cord19/trec-covid documents:  63%|██████▎   | 120758/192509 [00:53<00:18, 3963.83it/s]\u001b[A\n",
      "cord19/trec-covid documents:  63%|██████▎   | 121312/192509 [00:53<00:16, 4333.58it/s]\u001b[A\n",
      "cord19/trec-covid documents:  63%|██████▎   | 121777/192509 [00:53<00:16, 4174.64it/s]\u001b[A\n",
      "cord19/trec-covid documents:  64%|██████▎   | 122287/192509 [00:53<00:16, 4180.16it/s]\u001b[A\n",
      "cord19/trec-covid documents:  64%|██████▍   | 122753/192509 [00:53<00:17, 4076.98it/s]\u001b[A\n",
      "cord19/trec-covid documents:  64%|██████▍   | 123349/192509 [00:53<00:15, 4503.68it/s]\u001b[A\n",
      "cord19/trec-covid documents:  64%|██████▍   | 123822/192509 [00:54<00:16, 4216.93it/s]\u001b[A\n",
      "cord19/trec-covid documents:  65%|██████▍   | 124423/192509 [00:54<00:15, 4386.73it/s]\u001b[A\n",
      "cord19/trec-covid documents:  65%|██████▍   | 124909/192509 [00:54<00:15, 4436.44it/s]\u001b[A\n",
      "cord19/trec-covid documents:  65%|██████▌   | 125418/192509 [00:54<00:14, 4607.39it/s]\u001b[A\n",
      "cord19/trec-covid documents:  65%|██████▌   | 125888/192509 [00:54<00:14, 4563.47it/s]\u001b[A\n",
      "cord19/trec-covid documents:  66%|██████▌   | 126355/192509 [00:54<00:14, 4567.98it/s]\u001b[A\n",
      "cord19/trec-covid documents:  66%|██████▌   | 126817/192509 [00:54<00:14, 4547.84it/s]\u001b[A\n",
      "cord19/trec-covid documents:  66%|██████▌   | 127436/192509 [00:54<00:13, 4940.39it/s]\u001b[A\n",
      "cord19/trec-covid documents:  66%|██████▋   | 127943/192509 [00:54<00:14, 4507.84it/s]\u001b[A\n",
      "cord19/trec-covid documents:  67%|██████▋   | 128410/192509 [00:54<00:14, 4504.84it/s]\u001b[A\n",
      "cord19/trec-covid documents:  67%|██████▋   | 128936/192509 [00:55<00:13, 4707.59it/s]\u001b[A\n",
      "cord19/trec-covid documents:  67%|██████▋   | 129417/192509 [00:55<00:13, 4621.47it/s]\u001b[A\n",
      "cord19/trec-covid documents:  67%|██████▋   | 129926/192509 [00:55<00:13, 4492.02it/s]\u001b[A\n",
      "cord19/trec-covid documents:  68%|██████▊   | 130501/192509 [00:55<00:12, 4807.30it/s]\u001b[A\n",
      "cord19/trec-covid documents:  68%|██████▊   | 130993/192509 [00:55<00:13, 4683.25it/s]\u001b[A\n",
      "cord19/trec-covid documents:  68%|██████▊   | 131519/192509 [00:55<00:12, 4842.43it/s]\u001b[A\n",
      "cord19/trec-covid documents:  69%|██████▊   | 132011/192509 [00:55<00:13, 4594.24it/s]\u001b[A\n",
      "cord19/trec-covid documents:  69%|██████▉   | 132491/192509 [00:55<00:12, 4653.94it/s]\u001b[A\n",
      "cord19/trec-covid documents:  69%|██████▉   | 132962/192509 [00:55<00:13, 4350.05it/s]\u001b[A\n",
      "cord19/trec-covid documents:  69%|██████▉   | 133405/192509 [00:56<00:14, 4158.09it/s]\u001b[A\n",
      "cord19/trec-covid documents:  70%|██████▉   | 133829/192509 [00:56<00:14, 4004.89it/s]\u001b[A\n",
      "cord19/trec-covid documents:  70%|██████▉   | 134236/192509 [00:56<00:16, 3537.81it/s]\u001b[A\n",
      "cord19/trec-covid documents:  70%|██████▉   | 134605/192509 [00:56<00:17, 3396.34it/s]\u001b[A\n",
      "cord19/trec-covid documents:  70%|███████   | 134956/192509 [00:56<00:17, 3262.29it/s]\u001b[A\n",
      "cord19/trec-covid documents:  70%|███████   | 135349/192509 [00:56<00:17, 3327.82it/s]\u001b[A\n",
      "cord19/trec-covid documents:  71%|███████   | 135788/192509 [00:56<00:16, 3393.50it/s]\u001b[A\n",
      "cord19/trec-covid documents:  71%|███████   | 136182/192509 [00:56<00:16, 3451.03it/s]\u001b[A\n",
      "cord19/trec-covid documents:  71%|███████   | 136598/192509 [00:57<00:15, 3507.84it/s]\u001b[A\n",
      "cord19/trec-covid documents:  71%|███████   | 137028/192509 [00:57<00:15, 3552.39it/s]\u001b[A\n",
      "cord19/trec-covid documents:  71%|███████▏  | 137386/192509 [00:57<00:15, 3538.30it/s]\u001b[A\n",
      "cord19/trec-covid documents:  72%|███████▏  | 137788/192509 [00:57<00:15, 3535.65it/s]\u001b[A\n",
      "cord19/trec-covid documents:  72%|███████▏  | 138235/192509 [00:57<00:14, 3629.73it/s]\u001b[A\n",
      "cord19/trec-covid documents:  72%|███████▏  | 138672/192509 [00:57<00:14, 3677.71it/s]\u001b[A\n",
      "cord19/trec-covid documents:  72%|███████▏  | 139041/192509 [00:57<00:14, 3667.21it/s]\u001b[A\n",
      "cord19/trec-covid documents:  72%|███████▏  | 139437/192509 [00:57<00:14, 3618.53it/s]\u001b[A\n",
      "cord19/trec-covid documents:  73%|███████▎  | 139882/192509 [00:57<00:14, 3704.43it/s]\u001b[A\n",
      "cord19/trec-covid documents:  73%|███████▎  | 140254/192509 [00:58<00:18, 2824.00it/s]\u001b[A\n",
      "cord19/trec-covid documents:  73%|███████▎  | 140621/192509 [00:58<00:17, 3033.80it/s]\u001b[A\n",
      "cord19/trec-covid documents:  73%|███████▎  | 140953/192509 [00:58<00:17, 2943.81it/s]\u001b[A\n",
      "cord19/trec-covid documents:  73%|███████▎  | 141371/192509 [00:58<00:16, 3145.50it/s]\u001b[A\n",
      "cord19/trec-covid documents:  74%|███████▎  | 141703/192509 [00:58<00:16, 3146.57it/s]\u001b[A\n",
      "cord19/trec-covid documents:  74%|███████▍  | 142103/192509 [00:58<00:15, 3228.97it/s]\u001b[A\n",
      "cord19/trec-covid documents:  74%|███████▍  | 142435/192509 [00:58<00:16, 3094.55it/s]\u001b[A\n",
      "cord19/trec-covid documents:  74%|███████▍  | 142843/192509 [00:58<00:15, 3204.68it/s]\u001b[A\n",
      "cord19/trec-covid documents:  74%|███████▍  | 143261/192509 [00:59<00:14, 3351.13it/s]\u001b[A\n",
      "cord19/trec-covid documents:  75%|███████▍  | 143700/192509 [00:59<00:14, 3456.67it/s]\u001b[A\n",
      "cord19/trec-covid documents:  75%|███████▍  | 144051/192509 [00:59<00:14, 3431.13it/s]\u001b[A\n",
      "cord19/trec-covid documents:  75%|███████▌  | 144398/192509 [00:59<00:24, 1925.99it/s]\u001b[A\n",
      "cord19/trec-covid documents:  75%|███████▌  | 144763/192509 [00:59<00:21, 2181.69it/s]\u001b[A\n",
      "cord19/trec-covid documents:  75%|███████▌  | 145159/192509 [00:59<00:19, 2468.43it/s]\u001b[A\n",
      "cord19/trec-covid documents:  76%|███████▌  | 145466/192509 [00:59<00:18, 2563.04it/s]\u001b[A\n",
      "cord19/trec-covid documents:  76%|███████▌  | 145871/192509 [01:00<00:16, 2787.34it/s]\u001b[A\n",
      "cord19/trec-covid documents:  76%|███████▌  | 146290/192509 [01:00<00:15, 3018.76it/s]\u001b[A\n",
      "cord19/trec-covid documents:  76%|███████▌  | 146719/192509 [01:00<00:14, 3187.06it/s]\u001b[A\n",
      "cord19/trec-covid documents:  76%|███████▋  | 147062/192509 [01:00<00:14, 3151.86it/s]\u001b[A\n",
      "cord19/trec-covid documents:  77%|███████▋  | 147416/192509 [01:00<00:14, 3116.15it/s]\u001b[A\n",
      "cord19/trec-covid documents:  77%|███████▋  | 147831/192509 [01:00<00:13, 3298.09it/s]\u001b[A\n",
      "cord19/trec-covid documents:  77%|███████▋  | 148237/192509 [01:00<00:12, 3410.78it/s]\u001b[A\n",
      "cord19/trec-covid documents:  77%|███████▋  | 148640/192509 [01:00<00:12, 3407.17it/s]\u001b[A\n",
      "cord19/trec-covid documents:  77%|███████▋  | 149076/192509 [01:01<00:12, 3498.49it/s]\u001b[A\n",
      "cord19/trec-covid documents:  78%|███████▊  | 149512/192509 [01:01<00:12, 3546.14it/s]\u001b[A\n",
      "cord19/trec-covid documents:  78%|███████▊  | 149934/192509 [01:01<00:11, 3627.48it/s]\u001b[A\n",
      "cord19/trec-covid documents:  78%|███████▊  | 150300/192509 [01:01<00:11, 3635.09it/s]\u001b[A\n",
      "cord19/trec-covid documents:  78%|███████▊  | 150666/192509 [01:01<00:11, 3493.05it/s]\u001b[A\n",
      "cord19/trec-covid documents:  78%|███████▊  | 151081/192509 [01:01<00:11, 3546.56it/s]\u001b[A\n",
      "cord19/trec-covid documents:  79%|███████▊  | 151519/192509 [01:01<00:11, 3620.87it/s]\u001b[A\n",
      "cord19/trec-covid documents:  79%|███████▉  | 151883/192509 [01:01<00:11, 3617.68it/s]\u001b[A\n",
      "cord19/trec-covid documents:  79%|███████▉  | 152258/192509 [01:01<00:11, 3548.66it/s]\u001b[A\n",
      "cord19/trec-covid documents:  79%|███████▉  | 152685/192509 [01:01<00:11, 3612.21it/s]\u001b[A\n",
      "cord19/trec-covid documents:  80%|███████▉  | 153129/192509 [01:02<00:10, 3693.38it/s]\u001b[A\n",
      "cord19/trec-covid documents:  80%|███████▉  | 153500/192509 [01:02<00:10, 3647.70it/s]\u001b[A\n",
      "cord19/trec-covid documents:  80%|███████▉  | 153868/192509 [01:02<00:10, 3553.71it/s]\u001b[A\n",
      "cord19/trec-covid documents:  80%|████████  | 154284/192509 [01:02<00:10, 3602.75it/s]\u001b[A\n",
      "cord19/trec-covid documents:  80%|████████  | 154702/192509 [01:02<00:10, 3601.49it/s]\u001b[A\n",
      "cord19/trec-covid documents:  81%|████████  | 155104/192509 [01:02<00:10, 3717.19it/s]\u001b[A\n",
      "cord19/trec-covid documents:  81%|████████  | 155478/192509 [01:02<00:10, 3497.33it/s]\u001b[A\n",
      "cord19/trec-covid documents:  81%|████████  | 155832/192509 [01:02<00:10, 3496.11it/s]\u001b[A\n",
      "cord19/trec-covid documents:  81%|████████  | 156185/192509 [01:02<00:10, 3454.43it/s]\u001b[A\n",
      "cord19/trec-covid documents:  81%|████████▏ | 156533/192509 [01:03<00:10, 3272.15it/s]\u001b[A\n",
      "cord19/trec-covid documents:  82%|████████▏ | 156924/192509 [01:03<00:10, 3279.12it/s]\u001b[A\n",
      "cord19/trec-covid documents:  82%|████████▏ | 157366/192509 [01:03<00:10, 3416.30it/s]\u001b[A\n",
      "cord19/trec-covid documents:  82%|████████▏ | 157711/192509 [01:03<00:10, 3404.20it/s]\u001b[A\n",
      "cord19/trec-covid documents:  82%|████████▏ | 158054/192509 [01:03<00:10, 3145.73it/s]\u001b[A\n",
      "cord19/trec-covid documents:  82%|████████▏ | 158419/192509 [01:03<00:10, 3115.69it/s]\u001b[A\n",
      "cord19/trec-covid documents:  83%|████████▎ | 158839/192509 [01:03<00:10, 3254.11it/s]\u001b[A\n",
      "cord19/trec-covid documents:  83%|████████▎ | 159257/192509 [01:03<00:09, 3352.76it/s]\u001b[A\n",
      "cord19/trec-covid documents:  83%|████████▎ | 159665/192509 [01:04<00:09, 3369.63it/s]\u001b[A\n",
      "cord19/trec-covid documents:  83%|████████▎ | 160095/192509 [01:04<00:09, 3493.79it/s]\u001b[A\n",
      "cord19/trec-covid documents:  83%|████████▎ | 160448/192509 [01:04<00:11, 2772.38it/s]\u001b[A\n",
      "cord19/trec-covid documents:  84%|████████▎ | 160840/192509 [01:04<00:10, 2909.14it/s]\u001b[A\n",
      "cord19/trec-covid documents:  84%|████████▎ | 161164/192509 [01:04<00:10, 3000.95it/s]\u001b[A\n",
      "cord19/trec-covid documents:  84%|████████▍ | 161592/192509 [01:04<00:09, 3219.55it/s]\u001b[A\n",
      "cord19/trec-covid documents:  84%|████████▍ | 161929/192509 [01:04<00:09, 3256.02it/s]\u001b[A\n",
      "cord19/trec-covid documents:  84%|████████▍ | 162265/192509 [01:04<00:12, 2411.22it/s]\u001b[A\n",
      "cord19/trec-covid documents:  84%|████████▍ | 162658/192509 [01:05<00:11, 2675.32it/s]\u001b[A\n",
      "cord19/trec-covid documents:  85%|████████▍ | 162962/192509 [01:05<00:10, 2756.98it/s]\u001b[A\n",
      "cord19/trec-covid documents:  85%|████████▍ | 163297/192509 [01:05<00:10, 2896.53it/s]\u001b[A\n",
      "cord19/trec-covid documents:  85%|████████▌ | 163739/192509 [01:05<00:09, 3114.93it/s]\u001b[A\n",
      "cord19/trec-covid documents:  85%|████████▌ | 164167/192509 [01:05<00:08, 3228.80it/s]\u001b[A\n",
      "cord19/trec-covid documents:  85%|████████▌ | 164505/192509 [01:05<00:08, 3246.79it/s]\u001b[A\n",
      "cord19/trec-covid documents:  86%|████████▌ | 164911/192509 [01:05<00:08, 3355.25it/s]\u001b[A\n",
      "cord19/trec-covid documents:  86%|████████▌ | 165318/192509 [01:05<00:07, 3541.78it/s]\u001b[A\n",
      "cord19/trec-covid documents:  86%|████████▌ | 165681/192509 [01:05<00:08, 3295.91it/s]\u001b[A\n",
      "cord19/trec-covid documents:  86%|████████▌ | 166020/192509 [01:06<00:08, 3268.26it/s]\u001b[A\n",
      "cord19/trec-covid documents:  86%|████████▋ | 166410/192509 [01:06<00:07, 3316.42it/s]\u001b[A\n",
      "cord19/trec-covid documents:  87%|████████▋ | 166825/192509 [01:06<00:07, 3417.46it/s]\u001b[A\n",
      "cord19/trec-covid documents:  87%|████████▋ | 167248/192509 [01:06<00:07, 3462.91it/s]\u001b[A\n",
      "cord19/trec-covid documents:  87%|████████▋ | 167598/192509 [01:06<00:07, 3464.68it/s]\u001b[A\n",
      "cord19/trec-covid documents:  87%|████████▋ | 167962/192509 [01:06<00:07, 3334.86it/s]\u001b[A\n",
      "cord19/trec-covid documents:  87%|████████▋ | 168376/192509 [01:06<00:07, 3403.78it/s]\u001b[A\n",
      "cord19/trec-covid documents:  88%|████████▊ | 168802/192509 [01:06<00:06, 3439.13it/s]\u001b[A\n",
      "cord19/trec-covid documents:  88%|████████▊ | 169186/192509 [01:06<00:06, 3550.23it/s]\u001b[A\n"
     ]
    },
    {
     "name": "stderr",
     "output_type": "stream",
     "text": [
      "cord19/trec-covid documents:  88%|████████▊ | 169569/192509 [01:07<00:06, 3512.09it/s]\u001b[A\n",
      "cord19/trec-covid documents:  88%|████████▊ | 169922/192509 [01:07<00:06, 3514.21it/s]\u001b[A\n",
      "cord19/trec-covid documents:  88%|████████▊ | 170295/192509 [01:07<00:06, 3458.91it/s]\u001b[A\n",
      "cord19/trec-covid documents:  89%|████████▊ | 170718/192509 [01:07<00:06, 3439.00it/s]\u001b[A\n",
      "cord19/trec-covid documents:  89%|████████▉ | 171149/192509 [01:07<00:06, 3557.91it/s]\u001b[A\n",
      "cord19/trec-covid documents:  89%|████████▉ | 171552/192509 [01:07<00:05, 3567.66it/s]\u001b[A\n",
      "cord19/trec-covid documents:  89%|████████▉ | 171980/192509 [01:07<00:05, 3613.32it/s]\u001b[A\n",
      "cord19/trec-covid documents:  90%|████████▉ | 172343/192509 [01:07<00:05, 3607.42it/s]\u001b[A\n",
      "cord19/trec-covid documents:  90%|████████▉ | 172735/192509 [01:07<00:05, 3554.00it/s]\u001b[A\n",
      "cord19/trec-covid documents:  90%|████████▉ | 173179/192509 [01:08<00:05, 3649.65it/s]\u001b[A\n",
      "cord19/trec-covid documents:  90%|█████████ | 173596/192509 [01:08<00:05, 3683.85it/s]\u001b[A\n",
      "cord19/trec-covid documents:  90%|█████████ | 173966/192509 [01:08<00:05, 3635.99it/s]\u001b[A\n",
      "cord19/trec-covid documents:  91%|█████████ | 174353/192509 [01:08<00:05, 3578.26it/s]\u001b[A\n",
      "cord19/trec-covid documents:  91%|█████████ | 174779/192509 [01:08<00:04, 3653.72it/s]\u001b[A\n",
      "cord19/trec-covid documents:  91%|█████████ | 175213/192509 [01:08<00:04, 3709.18it/s]\u001b[A\n",
      "cord19/trec-covid documents:  91%|█████████ | 175585/192509 [01:08<00:04, 3679.97it/s]\u001b[A\n",
      "cord19/trec-covid documents:  91%|█████████▏| 175954/192509 [01:08<00:04, 3572.14it/s]\u001b[A\n",
      "cord19/trec-covid documents:  92%|█████████▏| 176397/192509 [01:08<00:04, 3644.97it/s]\u001b[A\n",
      "cord19/trec-covid documents:  92%|█████████▏| 176807/192509 [01:09<00:04, 3655.79it/s]\u001b[A\n",
      "cord19/trec-covid documents:  92%|█████████▏| 177174/192509 [01:09<00:04, 3654.46it/s]\u001b[A\n",
      "cord19/trec-covid documents:  92%|█████████▏| 177582/192509 [01:09<00:04, 3664.07it/s]\u001b[A\n",
      "cord19/trec-covid documents:  92%|█████████▏| 178025/192509 [01:09<00:03, 3698.43it/s]\u001b[A\n",
      "cord19/trec-covid documents:  93%|█████████▎| 178438/192509 [01:09<00:03, 3690.96it/s]\u001b[A\n",
      "cord19/trec-covid documents:  93%|█████████▎| 178854/192509 [01:09<00:03, 3609.01it/s]\u001b[A\n",
      "cord19/trec-covid documents:  93%|█████████▎| 179301/192509 [01:09<00:03, 3670.25it/s]\u001b[A\n",
      "cord19/trec-covid documents:  93%|█████████▎| 179718/192509 [01:09<00:03, 3692.13it/s]\u001b[A\n",
      "cord19/trec-covid documents:  94%|█████████▎| 180160/192509 [01:10<00:03, 3727.61it/s]\u001b[A\n",
      "cord19/trec-covid documents:  94%|█████████▍| 180534/192509 [01:10<00:03, 2994.97it/s]\u001b[A\n",
      "cord19/trec-covid documents:  94%|█████████▍| 180858/192509 [01:10<00:03, 2982.78it/s]\u001b[A\n",
      "cord19/trec-covid documents:  94%|█████████▍| 181219/192509 [01:10<00:03, 3035.35it/s]\u001b[A\n",
      "cord19/trec-covid documents:  94%|█████████▍| 181668/192509 [01:10<00:03, 3256.91it/s]\u001b[A\n",
      "cord19/trec-covid documents:  95%|█████████▍| 182007/192509 [01:10<00:03, 3111.55it/s]\u001b[A\n",
      "cord19/trec-covid documents:  95%|█████████▍| 182402/192509 [01:10<00:03, 3234.12it/s]\u001b[A\n",
      "cord19/trec-covid documents:  95%|█████████▍| 182811/192509 [01:10<00:02, 3318.99it/s]\u001b[A\n",
      "cord19/trec-covid documents:  95%|█████████▌| 183250/192509 [01:10<00:02, 3459.39it/s]\u001b[A\n",
      "cord19/trec-covid documents:  95%|█████████▌| 183602/192509 [01:11<00:02, 3408.78it/s]\u001b[A\n",
      "cord19/trec-covid documents:  96%|█████████▌| 183990/192509 [01:11<00:02, 3377.69it/s]\u001b[A\n",
      "cord19/trec-covid documents:  96%|█████████▌| 184427/192509 [01:11<00:02, 3514.37it/s]\u001b[A\n",
      "cord19/trec-covid documents:  96%|█████████▌| 184857/192509 [01:11<00:02, 3539.05it/s]\u001b[A\n",
      "cord19/trec-covid documents:  96%|█████████▌| 185214/192509 [01:11<00:02, 3516.17it/s]\u001b[A\n",
      "cord19/trec-covid documents:  96%|█████████▋| 185582/192509 [01:11<00:02, 3452.33it/s]\u001b[A\n",
      "cord19/trec-covid documents:  97%|█████████▋| 186016/192509 [01:11<00:01, 3530.01it/s]\u001b[A\n",
      "cord19/trec-covid documents:  97%|█████████▋| 186432/192509 [01:11<00:01, 3591.20it/s]\u001b[A\n",
      "cord19/trec-covid documents:  97%|█████████▋| 186801/192509 [01:11<00:01, 3620.04it/s]\u001b[A\n",
      "cord19/trec-covid documents:  97%|█████████▋| 187183/192509 [01:12<00:01, 3501.12it/s]\u001b[A\n",
      "cord19/trec-covid documents:  97%|█████████▋| 187598/192509 [01:12<00:01, 3518.25it/s]\u001b[A\n",
      "cord19/trec-covid documents:  98%|█████████▊| 188015/192509 [01:12<00:01, 3554.95it/s]\u001b[A\n",
      "cord19/trec-covid documents:  98%|█████████▊| 188372/192509 [01:12<00:01, 3532.28it/s]\u001b[A\n",
      "cord19/trec-covid documents:  98%|█████████▊| 188726/192509 [01:12<00:01, 3430.96it/s]\u001b[A\n",
      "cord19/trec-covid documents:  98%|█████████▊| 189172/192509 [01:12<00:00, 3552.42it/s]\u001b[A\n",
      "cord19/trec-covid documents:  98%|█████████▊| 189597/192509 [01:12<00:00, 3610.06it/s]\u001b[A\n",
      "cord19/trec-covid documents:  99%|█████████▊| 189960/192509 [01:12<00:00, 3535.92it/s]\u001b[A\n",
      "cord19/trec-covid documents:  99%|█████████▉| 190377/192509 [01:12<00:00, 3583.55it/s]\u001b[A\n",
      "cord19/trec-covid documents:  99%|█████████▉| 190791/192509 [01:13<00:00, 3622.98it/s]\u001b[A\n",
      "cord19/trec-covid documents:  99%|█████████▉| 191203/192509 [01:13<00:00, 3637.64it/s]\u001b[A\n",
      "cord19/trec-covid documents: 100%|█████████▉| 191568/192509 [01:13<00:00, 3629.59it/s]\u001b[A\n",
      "cord19/trec-covid documents: 100%|█████████▉| 191957/192509 [01:13<00:00, 3505.66it/s]\u001b[A\n",
      "cord19/trec-covid documents: 100%|██████████| 192509/192509 [01:13<00:00, 2616.96it/s]\u001b[A"
     ]
    },
    {
     "name": "stdout",
     "output_type": "stream",
     "text": [
      "22:36:50.241 [ForkJoinPool-1-worker-3] WARN org.terrier.structures.indexing.Indexer - Indexed 54937 empty documents\n"
     ]
    },
    {
     "name": "stderr",
     "output_type": "stream",
     "text": [
      "\n"
     ]
    },
    {
     "name": "stdout",
     "output_type": "stream",
     "text": [
      "22:36:50.411 [ForkJoinPool-1-worker-3] ERROR org.terrier.structures.indexing.Indexer - Could not finish MetaIndexBuilder: \n",
      "java.io.IOException: Key 8lqzfj2e is not unique: 37597,11755\n",
      "For MetaIndex, to suppress, set metaindex.compressed.reverse.allow.duplicates=true\n",
      "\tat org.terrier.structures.collections.FSOrderedMapFile$MultiFSOMapWriter.mergeTwo(FSOrderedMapFile.java:1374)\n",
      "\tat org.terrier.structures.collections.FSOrderedMapFile$MultiFSOMapWriter.close(FSOrderedMapFile.java:1308)\n",
      "\tat org.terrier.structures.indexing.BaseMetaIndexBuilder.close(BaseMetaIndexBuilder.java:321)\n",
      "\tat org.terrier.structures.indexing.classical.BasicIndexer.createDirectIndex(BasicIndexer.java:346)\n",
      "\tat org.terrier.structures.indexing.Indexer.index(Indexer.java:369)\n",
      "\tat org.terrier.python.ParallelIndexer$1.apply(ParallelIndexer.java:63)\n",
      "\tat org.terrier.python.ParallelIndexer$1.apply(ParallelIndexer.java:52)\n",
      "\tat java.base/java.util.stream.ReferencePipeline$3$1.accept(ReferencePipeline.java:195)\n",
      "\tat java.base/java.util.Spliterators$ArraySpliterator.forEachRemaining(Spliterators.java:948)\n",
      "\tat java.base/java.util.stream.AbstractPipeline.copyInto(AbstractPipeline.java:484)\n",
      "\tat java.base/java.util.stream.AbstractPipeline.wrapAndCopyInto(AbstractPipeline.java:474)\n",
      "\tat java.base/java.util.stream.ReduceOps$ReduceTask.doLeaf(ReduceOps.java:952)\n",
      "\tat java.base/java.util.stream.ReduceOps$ReduceTask.doLeaf(ReduceOps.java:926)\n",
      "\tat java.base/java.util.stream.AbstractTask.compute(AbstractTask.java:327)\n",
      "\tat java.base/java.util.concurrent.CountedCompleter.exec(CountedCompleter.java:746)\n",
      "\tat java.base/java.util.concurrent.ForkJoinTask.doExec(ForkJoinTask.java:290)\n",
      "\tat java.base/java.util.concurrent.ForkJoinTask.doInvoke(ForkJoinTask.java:408)\n",
      "\tat java.base/java.util.concurrent.ForkJoinTask.invoke(ForkJoinTask.java:736)\n",
      "\tat java.base/java.util.stream.ReduceOps$ReduceOp.evaluateParallel(ReduceOps.java:919)\n",
      "\tat java.base/java.util.stream.AbstractPipeline.evaluate(AbstractPipeline.java:233)\n",
      "\tat java.base/java.util.stream.ReferencePipeline.reduce(ReferencePipeline.java:558)\n",
      "\tat org.terrier.python.ParallelIndexer$3.call(ParallelIndexer.java:133)\n",
      "\tat org.terrier.python.ParallelIndexer$3.call(ParallelIndexer.java:130)\n",
      "\tat java.base/java.util.concurrent.ForkJoinTask$AdaptedCallable.exec(ForkJoinTask.java:1448)\n",
      "\tat java.base/java.util.concurrent.ForkJoinTask.doExec(ForkJoinTask.java:290)\n",
      "\tat java.base/java.util.concurrent.ForkJoinPool$WorkQueue.topLevelExec(ForkJoinPool.java:1020)\n",
      "\tat java.base/java.util.concurrent.ForkJoinPool.scan(ForkJoinPool.java:1656)\n",
      "\tat java.base/java.util.concurrent.ForkJoinPool.runWorker(ForkJoinPool.java:1594)\n",
      "\tat java.base/java.util.concurrent.ForkJoinWorkerThread.run(ForkJoinWorkerThread.java:183)\n"
     ]
    }
   ],
   "source": [
    "cord19 = pt.datasets.get_dataset('irds:cord19/trec-covid')\n",
    "pt_index_path = './terrier_trec_covid'\n",
    "\n",
    "if not os.path.exists(pt_index_path + \"/data.properties\"):\n",
    "\n",
    "    # create the index, using the IterDictIndexer indexer \n",
    "    indexer = pt.IterDictIndexer(pt_index_path)\n",
    "\n",
    "    # we give the dataset get_corpus_iter() directly to the indexer\n",
    "    # while specifying the fields to index and the metadata to record\n",
    "    index_ref = indexer.index(cord19.get_corpus_iter(), fields=('abstract',), meta=('docno',))\n",
    "    \n",
    "else:\n",
    "    # if you already have the index, create an IndexRef from the data in pt_index_path\n",
    "    # that we can use to load using the IndexFactory\n",
    "    index_ref = pt.IndexRef.of(pt_index_path + \"/data.properties\")\n",
    "    \n",
    "index = pt.IndexFactory.of(index_ref)"
   ]
  },
  {
   "cell_type": "markdown",
   "metadata": {
    "id": "y7GK9uANRt8w"
   },
   "source": [
    "### Task 2: 3 points\n",
    "- Print out the statistics of the index"
   ]
  },
  {
   "cell_type": "code",
   "execution_count": 19,
   "metadata": {
    "id": "bNAVqf9uRr2p"
   },
   "outputs": [
    {
     "name": "stdout",
     "output_type": "stream",
     "text": [
      "Number of documents: 192509\n",
      "Number of terms: 151235\n",
      "Number of postings: 11554033\n",
      "Number of fields: 1\n",
      "Number of tokens: 17728468\n",
      "Field names: [abstract]\n",
      "Positions:   false\n",
      "\n"
     ]
    }
   ],
   "source": [
    "print(index.getCollectionStatistics().toString())"
   ]
  },
  {
   "cell_type": "markdown",
   "metadata": {
    "id": "tQD9Q8CqSirN"
   },
   "source": [
    "As a curated collection, CORD19 has a corresponding set of queries, referred to as _topics_, and the relevance assessments for each query (i.e., topic), referred to as _qrels_. We use these to evaluate as a *test collection*. PyTerrier allows us to easily access the topics (queries) and qrels from the dataset. Like much of the inputs and outputs, these are expressed as dataframes as well:"
   ]
  },
  {
   "cell_type": "code",
   "execution_count": 20,
   "metadata": {
    "colab": {
     "base_uri": "https://localhost:8080/",
     "height": 275
    },
    "executionInfo": {
     "elapsed": 961,
     "status": "ok",
     "timestamp": 1615972942774,
     "user": {
      "displayName": "Nicola Tonellotto",
      "photoUrl": "https://lh3.googleusercontent.com/a-/AOh14Gga8BaxLsPFWvzzBzSximki7T2Jsnf0EEARTd_h=s64",
      "userId": "17533833776178224794"
     },
     "user_tz": -60
    },
    "id": "8n7oY-YYS_-A",
    "outputId": "6ff6f437-725f-4b92-bfab-787e18386941"
   },
   "outputs": [
    {
     "name": "stderr",
     "output_type": "stream",
     "text": [
      "[INFO] [starting] https://ir.nist.gov/covidSubmit/data/topics-rnd5.xml \n",
      "cord19/trec-covid documents:   0%|          | 0/192509 [26:30<?, ?it/s]\n",
      "                                                                       [00:00<?, ?B/s]\u001b[A\n",
      "\u001b[A                                                                                   [INFO] [finished] https://ir.nist.gov/covidSubmit/data/topics-rnd5.xml: [00:00] [18.7kB] [3.00MB/s]\n",
      "cord19/trec-covid documents:   0%|          | 0/192509 [26:30<?, ?it/s]\n",
      "https://ir.nist.gov/covidSubmit/data/topics-rnd5.xml: [00:00] [18.7kB] [1.49MB/s]\u001b[A\n",
      "                                                                                 \u001b[A/Users/xuruge/opt/anaconda3/lib/python3.8/site-packages/pyterrier/datasets.py:430: FutureWarning: In a future version of pandas all arguments of DataFrame.drop except for the argument 'labels' will be keyword-only\n",
      "  df.drop(df.columns.difference(['qid','query']), 1, inplace=True)\n"
     ]
    },
    {
     "data": {
      "text/html": [
       "<div>\n",
       "<style scoped>\n",
       "    .dataframe tbody tr th:only-of-type {\n",
       "        vertical-align: middle;\n",
       "    }\n",
       "\n",
       "    .dataframe tbody tr th {\n",
       "        vertical-align: top;\n",
       "    }\n",
       "\n",
       "    .dataframe thead th {\n",
       "        text-align: right;\n",
       "    }\n",
       "</style>\n",
       "<table border=\"1\" class=\"dataframe\">\n",
       "  <thead>\n",
       "    <tr style=\"text-align: right;\">\n",
       "      <th></th>\n",
       "      <th>qid</th>\n",
       "      <th>query</th>\n",
       "    </tr>\n",
       "  </thead>\n",
       "  <tbody>\n",
       "    <tr>\n",
       "      <th>0</th>\n",
       "      <td>1</td>\n",
       "      <td>coronavirus origin</td>\n",
       "    </tr>\n",
       "    <tr>\n",
       "      <th>1</th>\n",
       "      <td>2</td>\n",
       "      <td>coronavirus response to weather changes</td>\n",
       "    </tr>\n",
       "    <tr>\n",
       "      <th>2</th>\n",
       "      <td>3</td>\n",
       "      <td>coronavirus immunity</td>\n",
       "    </tr>\n",
       "    <tr>\n",
       "      <th>3</th>\n",
       "      <td>4</td>\n",
       "      <td>how do people die from the coronavirus</td>\n",
       "    </tr>\n",
       "    <tr>\n",
       "      <th>4</th>\n",
       "      <td>5</td>\n",
       "      <td>animal models of covid 19</td>\n",
       "    </tr>\n",
       "  </tbody>\n",
       "</table>\n",
       "</div>"
      ],
      "text/plain": [
       "  qid                                    query\n",
       "0   1                       coronavirus origin\n",
       "1   2  coronavirus response to weather changes\n",
       "2   3                     coronavirus immunity\n",
       "3   4   how do people die from the coronavirus\n",
       "4   5                animal models of covid 19"
      ]
     },
     "execution_count": 20,
     "metadata": {},
     "output_type": "execute_result"
    }
   ],
   "source": [
    "cord19.get_topics(variant='title').head(5)"
   ]
  },
  {
   "cell_type": "code",
   "execution_count": 21,
   "metadata": {
    "colab": {
     "base_uri": "https://localhost:8080/",
     "height": 275
    },
    "executionInfo": {
     "elapsed": 1704,
     "status": "ok",
     "timestamp": 1615972945620,
     "user": {
      "displayName": "Nicola Tonellotto",
      "photoUrl": "https://lh3.googleusercontent.com/a-/AOh14Gga8BaxLsPFWvzzBzSximki7T2Jsnf0EEARTd_h=s64",
      "userId": "17533833776178224794"
     },
     "user_tz": -60
    },
    "id": "-rYxqvhJTGNX",
    "outputId": "e4db9772-f10f-4133-bc25-aee1a6f5a0ba"
   },
   "outputs": [
    {
     "name": "stderr",
     "output_type": "stream",
     "text": [
      "[INFO] [starting] https://ir.nist.gov/covidSubmit/data/qrels-covid_d5_j0.5-5.txt\n",
      "cord19/trec-covid documents:   0%|          | 0/192509 [26:59<?, ?it/s]\n",
      "https://ir.nist.gov/covidSubmit/data/qrels-covid_d5_j0.5-5.txt: 0.0%| 0.00/? [00:00<?, ?B/s]\u001b[A\n",
      "                                                                       43k/? [00:00<00:00, 7.27MB/s]\u001b[A\n",
      "\u001b[A                                                                                                 [INFO] [finished] https://ir.nist.gov/covidSubmit/data/qrels-covid_d5_j0.5-5.txt: [00:00] [1.14MB] [6.74MB/s]\n",
      "cord19/trec-covid documents:   0%|          | 0/192509 [27:00<?, ?it/s]\n",
      "https://ir.nist.gov/covidSubmit/data/qrels-covid_d5_j0.5-5.txt: [00:00] [1.14MB] [6.52MB/s]\u001b[A\n",
      "                                                                                           \u001b[A"
     ]
    },
    {
     "data": {
      "text/html": [
       "<div>\n",
       "<style scoped>\n",
       "    .dataframe tbody tr th:only-of-type {\n",
       "        vertical-align: middle;\n",
       "    }\n",
       "\n",
       "    .dataframe tbody tr th {\n",
       "        vertical-align: top;\n",
       "    }\n",
       "\n",
       "    .dataframe thead th {\n",
       "        text-align: right;\n",
       "    }\n",
       "</style>\n",
       "<table border=\"1\" class=\"dataframe\">\n",
       "  <thead>\n",
       "    <tr style=\"text-align: right;\">\n",
       "      <th></th>\n",
       "      <th>qid</th>\n",
       "      <th>docno</th>\n",
       "      <th>label</th>\n",
       "      <th>iteration</th>\n",
       "    </tr>\n",
       "  </thead>\n",
       "  <tbody>\n",
       "    <tr>\n",
       "      <th>0</th>\n",
       "      <td>1</td>\n",
       "      <td>005b2j4b</td>\n",
       "      <td>2</td>\n",
       "      <td>4.5</td>\n",
       "    </tr>\n",
       "    <tr>\n",
       "      <th>1</th>\n",
       "      <td>1</td>\n",
       "      <td>00fmeepz</td>\n",
       "      <td>1</td>\n",
       "      <td>4</td>\n",
       "    </tr>\n",
       "    <tr>\n",
       "      <th>2</th>\n",
       "      <td>1</td>\n",
       "      <td>010vptx3</td>\n",
       "      <td>2</td>\n",
       "      <td>0.5</td>\n",
       "    </tr>\n",
       "    <tr>\n",
       "      <th>3</th>\n",
       "      <td>1</td>\n",
       "      <td>0194oljo</td>\n",
       "      <td>1</td>\n",
       "      <td>2.5</td>\n",
       "    </tr>\n",
       "    <tr>\n",
       "      <th>4</th>\n",
       "      <td>1</td>\n",
       "      <td>021q9884</td>\n",
       "      <td>1</td>\n",
       "      <td>4</td>\n",
       "    </tr>\n",
       "  </tbody>\n",
       "</table>\n",
       "</div>"
      ],
      "text/plain": [
       "  qid     docno  label iteration\n",
       "0   1  005b2j4b      2       4.5\n",
       "1   1  00fmeepz      1         4\n",
       "2   1  010vptx3      2       0.5\n",
       "3   1  0194oljo      1       2.5\n",
       "4   1  021q9884      1         4"
      ]
     },
     "execution_count": 21,
     "metadata": {},
     "output_type": "execute_result"
    }
   ],
   "source": [
    "cord19.get_qrels().head(5)"
   ]
  },
  {
   "cell_type": "markdown",
   "metadata": {
    "id": "2Gop4-jVbIIu"
   },
   "source": [
    "### Weighting Models\n",
    "\n",
    "In the earlier example, we used the simple \"`Tf`\" as our ranking function for document retrieval in BatchRetrieve. However, we can use other models such as `\"TF_IDF\"` by simply changing the `wmodel=\"Tf\"` keyword argument in the constructor of `BatchRetrieve`:"
   ]
  },
  {
   "cell_type": "code",
   "execution_count": 22,
   "metadata": {
    "colab": {
     "base_uri": "https://localhost:8080/",
     "height": 419
    },
    "executionInfo": {
     "elapsed": 945,
     "status": "ok",
     "timestamp": 1615973062514,
     "user": {
      "displayName": "Nicola Tonellotto",
      "photoUrl": "https://lh3.googleusercontent.com/a-/AOh14Gga8BaxLsPFWvzzBzSximki7T2Jsnf0EEARTd_h=s64",
      "userId": "17533833776178224794"
     },
     "user_tz": -60
    },
    "id": "Cg8AGzCibdPG",
    "outputId": "bc353f41-1c33-468c-a834-37a93f1d0ced"
   },
   "outputs": [
    {
     "data": {
      "text/html": [
       "<div>\n",
       "<style scoped>\n",
       "    .dataframe tbody tr th:only-of-type {\n",
       "        vertical-align: middle;\n",
       "    }\n",
       "\n",
       "    .dataframe tbody tr th {\n",
       "        vertical-align: top;\n",
       "    }\n",
       "\n",
       "    .dataframe thead th {\n",
       "        text-align: right;\n",
       "    }\n",
       "</style>\n",
       "<table border=\"1\" class=\"dataframe\">\n",
       "  <thead>\n",
       "    <tr style=\"text-align: right;\">\n",
       "      <th></th>\n",
       "      <th>qid</th>\n",
       "      <th>docid</th>\n",
       "      <th>docno</th>\n",
       "      <th>rank</th>\n",
       "      <th>score</th>\n",
       "      <th>query</th>\n",
       "    </tr>\n",
       "  </thead>\n",
       "  <tbody>\n",
       "    <tr>\n",
       "      <th>0</th>\n",
       "      <td>1</td>\n",
       "      <td>18717</td>\n",
       "      <td>iavwkdpr</td>\n",
       "      <td>0</td>\n",
       "      <td>11.035982</td>\n",
       "      <td>chemical reactions</td>\n",
       "    </tr>\n",
       "    <tr>\n",
       "      <th>1</th>\n",
       "      <td>1</td>\n",
       "      <td>171636</td>\n",
       "      <td>v3blnh02</td>\n",
       "      <td>1</td>\n",
       "      <td>10.329726</td>\n",
       "      <td>chemical reactions</td>\n",
       "    </tr>\n",
       "    <tr>\n",
       "      <th>2</th>\n",
       "      <td>1</td>\n",
       "      <td>147193</td>\n",
       "      <td>ei4rb8fr</td>\n",
       "      <td>2</td>\n",
       "      <td>10.317138</td>\n",
       "      <td>chemical reactions</td>\n",
       "    </tr>\n",
       "    <tr>\n",
       "      <th>3</th>\n",
       "      <td>1</td>\n",
       "      <td>121217</td>\n",
       "      <td>msdycum2</td>\n",
       "      <td>3</td>\n",
       "      <td>9.653734</td>\n",
       "      <td>chemical reactions</td>\n",
       "    </tr>\n",
       "    <tr>\n",
       "      <th>4</th>\n",
       "      <td>1</td>\n",
       "      <td>170863</td>\n",
       "      <td>sj8i9ss2</td>\n",
       "      <td>4</td>\n",
       "      <td>9.500211</td>\n",
       "      <td>chemical reactions</td>\n",
       "    </tr>\n",
       "    <tr>\n",
       "      <th>...</th>\n",
       "      <td>...</td>\n",
       "      <td>...</td>\n",
       "      <td>...</td>\n",
       "      <td>...</td>\n",
       "      <td>...</td>\n",
       "      <td>...</td>\n",
       "    </tr>\n",
       "    <tr>\n",
       "      <th>995</th>\n",
       "      <td>1</td>\n",
       "      <td>2428</td>\n",
       "      <td>38aabxh1</td>\n",
       "      <td>995</td>\n",
       "      <td>3.790183</td>\n",
       "      <td>chemical reactions</td>\n",
       "    </tr>\n",
       "    <tr>\n",
       "      <th>996</th>\n",
       "      <td>1</td>\n",
       "      <td>14752</td>\n",
       "      <td>u709r8ss</td>\n",
       "      <td>996</td>\n",
       "      <td>3.790183</td>\n",
       "      <td>chemical reactions</td>\n",
       "    </tr>\n",
       "    <tr>\n",
       "      <th>997</th>\n",
       "      <td>1</td>\n",
       "      <td>20074</td>\n",
       "      <td>wxi1xsbo</td>\n",
       "      <td>997</td>\n",
       "      <td>3.790183</td>\n",
       "      <td>chemical reactions</td>\n",
       "    </tr>\n",
       "    <tr>\n",
       "      <th>998</th>\n",
       "      <td>1</td>\n",
       "      <td>117156</td>\n",
       "      <td>ts3obwts</td>\n",
       "      <td>998</td>\n",
       "      <td>3.790183</td>\n",
       "      <td>chemical reactions</td>\n",
       "    </tr>\n",
       "    <tr>\n",
       "      <th>999</th>\n",
       "      <td>1</td>\n",
       "      <td>149517</td>\n",
       "      <td>6i3x49p8</td>\n",
       "      <td>999</td>\n",
       "      <td>3.790183</td>\n",
       "      <td>chemical reactions</td>\n",
       "    </tr>\n",
       "  </tbody>\n",
       "</table>\n",
       "<p>1000 rows × 6 columns</p>\n",
       "</div>"
      ],
      "text/plain": [
       "    qid   docid     docno  rank      score               query\n",
       "0     1   18717  iavwkdpr     0  11.035982  chemical reactions\n",
       "1     1  171636  v3blnh02     1  10.329726  chemical reactions\n",
       "2     1  147193  ei4rb8fr     2  10.317138  chemical reactions\n",
       "3     1  121217  msdycum2     3   9.653734  chemical reactions\n",
       "4     1  170863  sj8i9ss2     4   9.500211  chemical reactions\n",
       "..   ..     ...       ...   ...        ...                 ...\n",
       "995   1    2428  38aabxh1   995   3.790183  chemical reactions\n",
       "996   1   14752  u709r8ss   996   3.790183  chemical reactions\n",
       "997   1   20074  wxi1xsbo   997   3.790183  chemical reactions\n",
       "998   1  117156  ts3obwts   998   3.790183  chemical reactions\n",
       "999   1  149517  6i3x49p8   999   3.790183  chemical reactions\n",
       "\n",
       "[1000 rows x 6 columns]"
      ]
     },
     "execution_count": 22,
     "metadata": {},
     "output_type": "execute_result"
    }
   ],
   "source": [
    "tfidf = pt.BatchRetrieve(index, wmodel=\"TF_IDF\")\n",
    "tfidf.search(\"chemical reactions\")"
   ]
  },
  {
   "cell_type": "markdown",
   "metadata": {
    "id": "m6aZGX9sbdmc"
   },
   "source": [
    "Note that, as expected, because we switched the ranking, the scores of documents ranked by `TF_IDF` are no longer integers. You can see the exact TF-IDF formula used by Terrier from [the Github repo](https://github.com/terrier-org/terrier-core/blob/5.x/modules/core/src/main/java/org/terrier/matching/models/TF_IDF.java#L79)--sometimes helpful to know since there are multiple ways of defining TF-IDF! Terrier supports many weighting models and the documentation contains [a list of supported models](http://terrier.org/docs/current/javadoc/org/terrier/matching/models/package-summary.html)."
   ]
  },
  {
   "cell_type": "markdown",
   "metadata": {
    "id": "YQ0j9lFfx-gO"
   },
   "source": [
    "## Evaluating and Comparing IR Models\n",
    "\n",
    "How do we know which of the models we've made so far are good IR models? PyTerrier provides a robust and extensive framework to help us automate the evaluation of IR models once we've defined them.\n",
    "\n",
    "As a first pass, let's take a look at the relevance scores in the dataset. To do this, we'll merge (`join`) the `qrels` with the results of our ranker to produce a dataframe that has both the ranking model's predictions (`\"score\"`) and the actual relevance score (`\"label\"`). "
   ]
  },
  {
   "cell_type": "code",
   "execution_count": 23,
   "metadata": {
    "colab": {
     "base_uri": "https://localhost:8080/",
     "height": 419
    },
    "executionInfo": {
     "elapsed": 794,
     "status": "ok",
     "timestamp": 1615973109097,
     "user": {
      "displayName": "Nicola Tonellotto",
      "photoUrl": "https://lh3.googleusercontent.com/a-/AOh14Gga8BaxLsPFWvzzBzSximki7T2Jsnf0EEARTd_h=s64",
      "userId": "17533833776178224794"
     },
     "user_tz": -60
    },
    "id": "iyShZYpwwNSx",
    "outputId": "91f1ae8b-8f3a-4547-ae37-d9d808c970ce"
   },
   "outputs": [
    {
     "name": "stderr",
     "output_type": "stream",
     "text": [
      "/Users/xuruge/opt/anaconda3/lib/python3.8/site-packages/pyterrier/datasets.py:430: FutureWarning: In a future version of pandas all arguments of DataFrame.drop except for the argument 'labels' will be keyword-only\n",
      "  df.drop(df.columns.difference(['qid','query']), 1, inplace=True)\n"
     ]
    },
    {
     "data": {
      "text/html": [
       "<div>\n",
       "<style scoped>\n",
       "    .dataframe tbody tr th:only-of-type {\n",
       "        vertical-align: middle;\n",
       "    }\n",
       "\n",
       "    .dataframe tbody tr th {\n",
       "        vertical-align: top;\n",
       "    }\n",
       "\n",
       "    .dataframe thead th {\n",
       "        text-align: right;\n",
       "    }\n",
       "</style>\n",
       "<table border=\"1\" class=\"dataframe\">\n",
       "  <thead>\n",
       "    <tr style=\"text-align: right;\">\n",
       "      <th></th>\n",
       "      <th>qid</th>\n",
       "      <th>docid</th>\n",
       "      <th>docno</th>\n",
       "      <th>rank</th>\n",
       "      <th>score</th>\n",
       "      <th>query</th>\n",
       "      <th>label</th>\n",
       "      <th>iteration</th>\n",
       "    </tr>\n",
       "  </thead>\n",
       "  <tbody>\n",
       "    <tr>\n",
       "      <th>0</th>\n",
       "      <td>1</td>\n",
       "      <td>175892</td>\n",
       "      <td>zy8qjaai</td>\n",
       "      <td>0</td>\n",
       "      <td>7.080599</td>\n",
       "      <td>coronavirus origin</td>\n",
       "      <td>1.0</td>\n",
       "      <td>1</td>\n",
       "    </tr>\n",
       "    <tr>\n",
       "      <th>1</th>\n",
       "      <td>1</td>\n",
       "      <td>82224</td>\n",
       "      <td>8ccl9aui</td>\n",
       "      <td>1</td>\n",
       "      <td>6.775667</td>\n",
       "      <td>coronavirus origin</td>\n",
       "      <td>2.0</td>\n",
       "      <td>1</td>\n",
       "    </tr>\n",
       "    <tr>\n",
       "      <th>2</th>\n",
       "      <td>1</td>\n",
       "      <td>135326</td>\n",
       "      <td>ne5r4d4b</td>\n",
       "      <td>2</td>\n",
       "      <td>6.683114</td>\n",
       "      <td>coronavirus origin</td>\n",
       "      <td>0.0</td>\n",
       "      <td>1.5</td>\n",
       "    </tr>\n",
       "    <tr>\n",
       "      <th>3</th>\n",
       "      <td>1</td>\n",
       "      <td>122804</td>\n",
       "      <td>75773gwg</td>\n",
       "      <td>3</td>\n",
       "      <td>6.590340</td>\n",
       "      <td>coronavirus origin</td>\n",
       "      <td>2.0</td>\n",
       "      <td>5</td>\n",
       "    </tr>\n",
       "    <tr>\n",
       "      <th>4</th>\n",
       "      <td>1</td>\n",
       "      <td>122805</td>\n",
       "      <td>kn2z7lho</td>\n",
       "      <td>4</td>\n",
       "      <td>6.590340</td>\n",
       "      <td>coronavirus origin</td>\n",
       "      <td>2.0</td>\n",
       "      <td>3</td>\n",
       "    </tr>\n",
       "    <tr>\n",
       "      <th>...</th>\n",
       "      <td>...</td>\n",
       "      <td>...</td>\n",
       "      <td>...</td>\n",
       "      <td>...</td>\n",
       "      <td>...</td>\n",
       "      <td>...</td>\n",
       "      <td>...</td>\n",
       "      <td>...</td>\n",
       "    </tr>\n",
       "    <tr>\n",
       "      <th>995</th>\n",
       "      <td>1</td>\n",
       "      <td>180809</td>\n",
       "      <td>0y0hau9l</td>\n",
       "      <td>995</td>\n",
       "      <td>4.214228</td>\n",
       "      <td>coronavirus origin</td>\n",
       "      <td>0.0</td>\n",
       "      <td>0</td>\n",
       "    </tr>\n",
       "    <tr>\n",
       "      <th>996</th>\n",
       "      <td>1</td>\n",
       "      <td>148967</td>\n",
       "      <td>f8vbflx6</td>\n",
       "      <td>996</td>\n",
       "      <td>4.212887</td>\n",
       "      <td>coronavirus origin</td>\n",
       "      <td>0.0</td>\n",
       "      <td>0</td>\n",
       "    </tr>\n",
       "    <tr>\n",
       "      <th>997</th>\n",
       "      <td>1</td>\n",
       "      <td>183189</td>\n",
       "      <td>uadfehr6</td>\n",
       "      <td>997</td>\n",
       "      <td>4.210201</td>\n",
       "      <td>coronavirus origin</td>\n",
       "      <td>2.0</td>\n",
       "      <td>1.5</td>\n",
       "    </tr>\n",
       "    <tr>\n",
       "      <th>998</th>\n",
       "      <td>1</td>\n",
       "      <td>67321</td>\n",
       "      <td>n5hnx2c3</td>\n",
       "      <td>998</td>\n",
       "      <td>4.202319</td>\n",
       "      <td>coronavirus origin</td>\n",
       "      <td>0.0</td>\n",
       "      <td>0</td>\n",
       "    </tr>\n",
       "    <tr>\n",
       "      <th>999</th>\n",
       "      <td>1</td>\n",
       "      <td>98706</td>\n",
       "      <td>ad6ztoba</td>\n",
       "      <td>999</td>\n",
       "      <td>4.202319</td>\n",
       "      <td>coronavirus origin</td>\n",
       "      <td>0.0</td>\n",
       "      <td>0</td>\n",
       "    </tr>\n",
       "  </tbody>\n",
       "</table>\n",
       "<p>1000 rows × 8 columns</p>\n",
       "</div>"
      ],
      "text/plain": [
       "    qid   docid     docno  rank     score               query  label iteration\n",
       "0     1  175892  zy8qjaai     0  7.080599  coronavirus origin    1.0         1\n",
       "1     1   82224  8ccl9aui     1  6.775667  coronavirus origin    2.0         1\n",
       "2     1  135326  ne5r4d4b     2  6.683114  coronavirus origin    0.0       1.5\n",
       "3     1  122804  75773gwg     3  6.590340  coronavirus origin    2.0         5\n",
       "4     1  122805  kn2z7lho     4  6.590340  coronavirus origin    2.0         3\n",
       "..   ..     ...       ...   ...       ...                 ...    ...       ...\n",
       "995   1  180809  0y0hau9l   995  4.214228  coronavirus origin    0.0         0\n",
       "996   1  148967  f8vbflx6   996  4.212887  coronavirus origin    0.0         0\n",
       "997   1  183189  uadfehr6   997  4.210201  coronavirus origin    2.0       1.5\n",
       "998   1   67321  n5hnx2c3   998  4.202319  coronavirus origin    0.0         0\n",
       "999   1   98706  ad6ztoba   999  4.202319  coronavirus origin    0.0         0\n",
       "\n",
       "[1000 rows x 8 columns]"
      ]
     },
     "execution_count": 23,
     "metadata": {},
     "output_type": "execute_result"
    }
   ],
   "source": [
    "qrels = cord19.get_qrels()\n",
    "\n",
    "def get_res_with_labels(ranker, df):\n",
    "    # get the results for the query or queries\n",
    "    results = ranker( df )\n",
    "    # left outer join with the qrels\n",
    "    with_labels = results.merge(qrels, on=[\"qid\", \"docno\"], how=\"left\").fillna(0)\n",
    "    return with_labels\n",
    "\n",
    "# lets get the Tf results for the first query\n",
    "get_res_with_labels(tfidf, cord19.get_topics(variant='title').head(1))"
   ]
  },
  {
   "cell_type": "markdown",
   "metadata": {},
   "source": [
    "### Running an Experiment\n",
    "\n",
    "We don't actually need to produce that dataframe to do our evaluation though! PyTerrier lets us run different results with an [Experiment](https://pyterrier.readthedocs.io/en/latest/experiments.html) object, which will compare models according to the evaluation metrics we specify. Here, let's run an experiment to evaluate our `tfidf` model that we created earlier:"
   ]
  },
  {
   "cell_type": "code",
   "execution_count": 24,
   "metadata": {
    "colab": {
     "base_uri": "https://localhost:8080/",
     "height": 80
    },
    "executionInfo": {
     "elapsed": 3826,
     "status": "ok",
     "timestamp": 1615973119937,
     "user": {
      "displayName": "Nicola Tonellotto",
      "photoUrl": "https://lh3.googleusercontent.com/a-/AOh14Gga8BaxLsPFWvzzBzSximki7T2Jsnf0EEARTd_h=s64",
      "userId": "17533833776178224794"
     },
     "user_tz": -60
    },
    "id": "OFUmiFSobUDg",
    "outputId": "db01e114-e6e7-4ff4-9447-ecf5e3d8ea54"
   },
   "outputs": [
    {
     "name": "stderr",
     "output_type": "stream",
     "text": [
      "/Users/xuruge/opt/anaconda3/lib/python3.8/site-packages/pyterrier/datasets.py:430: FutureWarning: In a future version of pandas all arguments of DataFrame.drop except for the argument 'labels' will be keyword-only\n",
      "  df.drop(df.columns.difference(['qid','query']), 1, inplace=True)\n"
     ]
    },
    {
     "data": {
      "text/html": [
       "<div>\n",
       "<style scoped>\n",
       "    .dataframe tbody tr th:only-of-type {\n",
       "        vertical-align: middle;\n",
       "    }\n",
       "\n",
       "    .dataframe tbody tr th {\n",
       "        vertical-align: top;\n",
       "    }\n",
       "\n",
       "    .dataframe thead th {\n",
       "        text-align: right;\n",
       "    }\n",
       "</style>\n",
       "<table border=\"1\" class=\"dataframe\">\n",
       "  <thead>\n",
       "    <tr style=\"text-align: right;\">\n",
       "      <th></th>\n",
       "      <th>name</th>\n",
       "      <th>map</th>\n",
       "      <th>ndcg</th>\n",
       "    </tr>\n",
       "  </thead>\n",
       "  <tbody>\n",
       "    <tr>\n",
       "      <th>0</th>\n",
       "      <td>BR(TF_IDF)</td>\n",
       "      <td>0.180002</td>\n",
       "      <td>0.370767</td>\n",
       "    </tr>\n",
       "  </tbody>\n",
       "</table>\n",
       "</div>"
      ],
      "text/plain": [
       "         name       map      ndcg\n",
       "0  BR(TF_IDF)  0.180002  0.370767"
      ]
     },
     "execution_count": 24,
     "metadata": {},
     "output_type": "execute_result"
    }
   ],
   "source": [
    "pt.Experiment(\n",
    "    [tfidf],\n",
    "    cord19.get_topics(variant='title'),\n",
    "    cord19.get_qrels(),\n",
    "    eval_metrics=[\"map\", \"ndcg\"])"
   ]
  },
  {
   "cell_type": "markdown",
   "metadata": {
    "id": "Mt0iPhRw2J-S"
   },
   "source": [
    "## Task 3: Define new models and evaluate them in an Experiment (28 points)\n",
    "\n",
    "Now comes the fun part! Your task is to define **three** new [`BatchRetrieve`](https://pyterrier.readthedocs.io/en/latest/terrier-retrieval.html#batchretrieve) objects with different word ranking methods. You are welcome to set the hyperparameters but all models should be sufficiently different. You are definitely welcome (encouraged, even!) to compare _more_ than three models too.\n",
    "\n",
    "Once you have defined your three `BatchRetrieve` objects, conduct an `Experiment` using all of them _at once_ (not three separate `Experiment` runs!) to evaluate the results.  Your experiment should include the two metrics used above, as well as NDCG for the top-5 and top-10 results. You are welcome to include other metrics as well\n",
    "\n",
    "Print the results of the Experiment and then write 2-3 sentences (or more) about what you see in the performance. Is there a clear better model? Would you expect better performance with some hyperparameter tuning?"
   ]
  },
  {
   "cell_type": "code",
   "execution_count": 28,
   "metadata": {
    "id": "mRjyEZ5_aTvM"
   },
   "outputs": [
    {
     "data": {
      "text/html": [
       "<div>\n",
       "<style scoped>\n",
       "    .dataframe tbody tr th:only-of-type {\n",
       "        vertical-align: middle;\n",
       "    }\n",
       "\n",
       "    .dataframe tbody tr th {\n",
       "        vertical-align: top;\n",
       "    }\n",
       "\n",
       "    .dataframe thead th {\n",
       "        text-align: right;\n",
       "    }\n",
       "</style>\n",
       "<table border=\"1\" class=\"dataframe\">\n",
       "  <thead>\n",
       "    <tr style=\"text-align: right;\">\n",
       "      <th></th>\n",
       "      <th>name</th>\n",
       "      <th>map</th>\n",
       "      <th>recip_rank</th>\n",
       "      <th>ndcg</th>\n",
       "      <th>ndcg_cut_5</th>\n",
       "      <th>ndcg_cut_10</th>\n",
       "      <th>P_5</th>\n",
       "      <th>P_10</th>\n",
       "    </tr>\n",
       "  </thead>\n",
       "  <tbody>\n",
       "    <tr>\n",
       "      <th>0</th>\n",
       "      <td>BR(BM25)</td>\n",
       "      <td>0.181478</td>\n",
       "      <td>0.808759</td>\n",
       "      <td>0.373328</td>\n",
       "      <td>0.611724</td>\n",
       "      <td>0.583665</td>\n",
       "      <td>0.700</td>\n",
       "      <td>0.652</td>\n",
       "    </tr>\n",
       "    <tr>\n",
       "      <th>1</th>\n",
       "      <td>BR(DPH)</td>\n",
       "      <td>0.177567</td>\n",
       "      <td>0.767259</td>\n",
       "      <td>0.367698</td>\n",
       "      <td>0.603074</td>\n",
       "      <td>0.584309</td>\n",
       "      <td>0.684</td>\n",
       "      <td>0.656</td>\n",
       "    </tr>\n",
       "    <tr>\n",
       "      <th>2</th>\n",
       "      <td>BR(PL2)</td>\n",
       "      <td>0.169525</td>\n",
       "      <td>0.785992</td>\n",
       "      <td>0.358597</td>\n",
       "      <td>0.583850</td>\n",
       "      <td>0.554204</td>\n",
       "      <td>0.668</td>\n",
       "      <td>0.620</td>\n",
       "    </tr>\n",
       "    <tr>\n",
       "      <th>3</th>\n",
       "      <td>BR(Hiemstra_LM)</td>\n",
       "      <td>0.151881</td>\n",
       "      <td>0.623883</td>\n",
       "      <td>0.342010</td>\n",
       "      <td>0.427316</td>\n",
       "      <td>0.421561</td>\n",
       "      <td>0.500</td>\n",
       "      <td>0.482</td>\n",
       "    </tr>\n",
       "  </tbody>\n",
       "</table>\n",
       "</div>"
      ],
      "text/plain": [
       "              name       map  recip_rank      ndcg  ndcg_cut_5  ndcg_cut_10  \\\n",
       "0         BR(BM25)  0.181478    0.808759  0.373328    0.611724     0.583665   \n",
       "1          BR(DPH)  0.177567    0.767259  0.367698    0.603074     0.584309   \n",
       "2          BR(PL2)  0.169525    0.785992  0.358597    0.583850     0.554204   \n",
       "3  BR(Hiemstra_LM)  0.151881    0.623883  0.342010    0.427316     0.421561   \n",
       "\n",
       "     P_5   P_10  \n",
       "0  0.700  0.652  \n",
       "1  0.684  0.656  \n",
       "2  0.668  0.620  \n",
       "3  0.500  0.482  "
      ]
     },
     "execution_count": 28,
     "metadata": {},
     "output_type": "execute_result"
    }
   ],
   "source": [
    "bm25 = pt.BatchRetrieve(index, wmodel=\"BM25\")\n",
    "dph = pt.BatchRetrieve(index, wmodel=\"DPH\")\n",
    "pl2 = pt.BatchRetrieve(index, wmodel=\"PL2\")\n",
    "hiemstra_lm = pt.BatchRetrieve(index, wmodel=\"Hiemstra_LM\")\n",
    "\n",
    "pt.Experiment(\n",
    "    [bm25, dph, pl2, hiemstra_lm],\n",
    "    cord19.get_topics(variant='title'),\n",
    "    cord19.get_qrels(),\n",
    "    eval_metrics=[\"map\", \"recip_rank\", \"ndcg\", \"ndcg_cut_5\", \"ndcg_cut_10\", \"P_5\", \"P_10\"])"
   ]
  },
  {
   "cell_type": "markdown",
   "metadata": {},
   "source": [
    "It seems that the performance of several models is relatively similar, and it is difficult to find an absolutely best one.<br/>\n",
    "The BM25 model performs better in the overall performance and in the first 5 retrieved documents. However, the DPH model performs a little better than BM25 in the first 10 retrieved documents.<br/>\n",
    "With some hyperparameter tuning, the performance of the models may be a little better."
   ]
  }
 ],
 "metadata": {
  "colab": {
   "collapsed_sections": [],
   "name": "ECIR 2021 Tutorial Notebook - Part 1.ipynb",
   "provenance": [
    {
     "file_id": "1kWCNf3QlQ4bX5YCM9OJBaaLikoTFCd5A",
     "timestamp": 1615914442515
    },
    {
     "file_id": "17Pihqt_C8DFzqlomTUks-5stNzNFjrAn",
     "timestamp": 1611078807322
    },
    {
     "file_id": "121AtOADdFd2VVAX5hcJX0WNBNt2_QHDu",
     "timestamp": 1609952873856
    },
    {
     "file_id": "1o4RTKOutf_FlMyPdEPkRyutnbY26JXMf",
     "timestamp": 1571324862553
    }
   ],
   "toc_visible": true
  },
  "kernelspec": {
   "display_name": "Python 3",
   "language": "python",
   "name": "python3"
  },
  "language_info": {
   "codemirror_mode": {
    "name": "ipython",
    "version": 3
   },
   "file_extension": ".py",
   "mimetype": "text/x-python",
   "name": "python",
   "nbconvert_exporter": "python",
   "pygments_lexer": "ipython3",
   "version": "3.8.5"
  }
 },
 "nbformat": 4,
 "nbformat_minor": 1
}
