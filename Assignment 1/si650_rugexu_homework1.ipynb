{
 "cells": [
  {
   "cell_type": "markdown",
   "metadata": {},
   "source": [
    "# SI 650 / EECS 549: Homework 1"
   ]
  },
  {
   "cell_type": "markdown",
   "metadata": {},
   "source": [
    "## Probabilities, Text, and Ranking"
   ]
  },
  {
   "cell_type": "markdown",
   "metadata": {},
   "source": [
    "Name: Ruge Xu\n",
    "\n",
    "Uniqname: rugexu\n",
    "\n",
    "Student ID: 11022581"
   ]
  },
  {
   "cell_type": "code",
   "execution_count": 1,
   "metadata": {},
   "outputs": [],
   "source": [
    "from IPython.display import Latex"
   ]
  },
  {
   "cell_type": "markdown",
   "metadata": {},
   "source": [
    "### Problem 1"
   ]
  },
  {
   "cell_type": "markdown",
   "metadata": {},
   "source": [
    "#### a) "
   ]
  },
  {
   "cell_type": "markdown",
   "metadata": {},
   "source": [
    "|  S   | P(B=1\\|S) | P(U=1\\|S) | P(E=1\\|S) | prior P(S) |\n",
    "| :--: | :-------: | :-------: | :-------: | :--------: |\n",
    "|  1   |  0.71428  |  0.71428  |  0.42857  |  0.58333   |\n",
    "|  0   |  0.40000  |  0.60000  |  0.40000  |  0.41667   |"
   ]
  },
  {
   "cell_type": "markdown",
   "metadata": {},
   "source": [
    "#### b)"
   ]
  },
  {
   "cell_type": "markdown",
   "metadata": {},
   "source": [
    "$$\n",
    "\\begin{aligned}\n",
    "P(S=1|B=0,U=1,E=0)&=\\frac{P(B=0,U=1,E=0|S=1)*P(S=1)}{P(B=0,U=1,E=0)}\\\\\n",
    "&=\\frac{P(B=0|S=1)P(U=1|S=1)P(E=0|S=1)*P(S=1)}{P(B=0,U=1,E=0)}\\\\\n",
    "&=\\frac{\\frac{2}{7}\\times\\frac{5}{7}\\times\\frac{4}{7}\\times \\frac{7}{12}}{P(B=0,U=1,E=0)}\\\\\n",
    "&= \\frac{10}{147}k\n",
    "\\end{aligned}\n",
    "$$"
   ]
  },
  {
   "cell_type": "markdown",
   "metadata": {},
   "source": [
    "$$\n",
    "\\begin{aligned}\n",
    "P(S=0|B=0,U=1,E=0)&=\\frac{P(B=0,U=1,E=0|S=0)*P(S=0)}{P(B=0,U=1,E=0)}\\\\\n",
    "&=\\frac{P(B=0|S=0)P(U=1|S=0)P(E=0|S=0)*P(S=0)}{P(B=0,U=1,E=0)}\\\\\n",
    "&=\\frac{\\frac{3}{5}\\times\\frac{3}{5}\\times\\frac{3}{5}\\times \\frac{5}{12}}{P(B=0,U=1,E=0)}\\\\\n",
    "&=\\frac{9}{100}k\n",
    "\\end{aligned}\n",
    "$$"
   ]
  },
  {
   "cell_type": "markdown",
   "metadata": {},
   "source": [
    "As we know, $P(S=1|B=0,U=1,E=0) + P(S=0|B=0,U=1,E=0)=1$,"
   ]
  },
  {
   "cell_type": "markdown",
   "metadata": {},
   "source": [
    "Therefore,"
   ]
  },
  {
   "cell_type": "markdown",
   "metadata": {},
   "source": [
    "$$\n",
    "\\begin{aligned}\n",
    "P(S=1|B=0,U=1,E=0)&=0.43048\\\\\n",
    "P(S=0|B=0,U=1,E=0)&=0.56952\n",
    "\\end{aligned}\n",
    "$$"
   ]
  },
  {
   "cell_type": "markdown",
   "metadata": {},
   "source": [
    "We can find that "
   ]
  },
  {
   "cell_type": "markdown",
   "metadata": {},
   "source": [
    "$$\n",
    "P(S=1|B=0,U=1,E=0)<P(S = 0|B = 0,U = 1,E = 0)\n",
    "$$"
   ]
  },
  {
   "cell_type": "markdown",
   "metadata": {},
   "source": [
    "Thus account $a$ is not a spam."
   ]
  },
  {
   "cell_type": "markdown",
   "metadata": {},
   "source": [
    "#### c)"
   ]
  },
  {
   "cell_type": "markdown",
   "metadata": {},
   "source": [
    "$$\n",
    "P(S = 1|B = 0,U = 1,E = 0)=1\\\\\n",
    "P(S = 0|B = 0,U = 1,E = 0)=0\\\\\n",
    "$$"
   ]
  },
  {
   "cell_type": "markdown",
   "metadata": {},
   "source": [
    "The result is different from the previous.\n",
    "\n",
    "This is because the number of samples is too small. There's only one sample condition that B=0, U=1, E=0. The result is not representative."
   ]
  },
  {
   "cell_type": "markdown",
   "metadata": {},
   "source": [
    "#### d)"
   ]
  },
  {
   "cell_type": "markdown",
   "metadata": {},
   "source": [
    "There is one constraint on the values:"
   ]
  },
  {
   "cell_type": "markdown",
   "metadata": {},
   "source": [
    "$$\n",
    "P(S=1)+P(S=0)=1\n",
    "$$"
   ]
  },
  {
   "cell_type": "markdown",
   "metadata": {},
   "source": [
    "#### e)"
   ]
  },
  {
   "cell_type": "markdown",
   "metadata": {},
   "source": [
    "I can change the value E of the 4th sample. Then Table 2 becomes:"
   ]
  },
  {
   "cell_type": "markdown",
   "metadata": {},
   "source": [
    "|  S   | P(B=1\\|S) | P(U=1\\|S) | P(E=1\\|S) | prior P(S) |\n",
    "| :--: | :-------: | :-------: | :-------: | :--------: |\n",
    "|  1   |  0.71428  |  0.71428  |  0.42857  |  0.58333   |\n",
    "|  0   |  0.40000  |  0.60000  |  0.60000  |  0.41667   |"
   ]
  },
  {
   "cell_type": "markdown",
   "metadata": {},
   "source": [
    "And the probability $P(S=0 | B=0, U=1, E=0)$ become:"
   ]
  },
  {
   "cell_type": "markdown",
   "metadata": {},
   "source": [
    "$$\n",
    "\\begin{aligned}\n",
    "P(S=0|B=0,U=1,E=0)&=\\frac{P(B=0,U=1,E=0|S=0)*P(S=0)}{P(B=0,U=1,E=0)}\\\\\n",
    "&=\\frac{P(B=0|S=0)P(U=1|S=0)P(E=0|S=0)*P(S=0)}{P(B=0,U=1,E=0)}\\\\\n",
    "&=\\frac{\\frac{3}{5}\\times\\frac{3}{5}\\times\\frac{2}{5}\\times \\frac{5}{12}}{P(B=0,U=1,E=0)}\\\\\n",
    "&=\\frac{3}{50}k\n",
    "\\end{aligned}\n",
    "$$"
   ]
  },
  {
   "cell_type": "markdown",
   "metadata": {},
   "source": [
    "Therefore,"
   ]
  },
  {
   "cell_type": "markdown",
   "metadata": {},
   "source": [
    "$$\n",
    "\\begin{aligned}\n",
    "P(S=1|B=0,U=1,E=0)&=0.53135\\\\\n",
    "P(S=0|B=0,U=1,E=0)&=0.46865\n",
    "\\end{aligned}\n",
    "$$"
   ]
  },
  {
   "cell_type": "markdown",
   "metadata": {},
   "source": [
    "As $P(S=1|B=0,U=1,E=0)>P(S = 0|B = 0,U = 1,E = 0)$, the account $a$ is a spam."
   ]
  },
  {
   "cell_type": "markdown",
   "metadata": {},
   "source": [
    "#### f)"
   ]
  },
  {
   "cell_type": "markdown",
   "metadata": {},
   "source": [
    "In reality, even if the status whether a account is a spam is known, the values of B, U, and E may still be dependent on each other. For example, if an account uses a URL, he/she may be less likely to use emoji."
   ]
  },
  {
   "cell_type": "markdown",
   "metadata": {},
   "source": [
    "### Problem 2"
   ]
  },
  {
   "cell_type": "markdown",
   "metadata": {},
   "source": [
    "#### 1."
   ]
  },
  {
   "cell_type": "code",
   "execution_count": 2,
   "metadata": {},
   "outputs": [],
   "source": [
    "import spacy\n",
    "from collections import Counter\n",
    "import matplotlib.pyplot as plt"
   ]
  },
  {
   "cell_type": "code",
   "execution_count": 3,
   "metadata": {
    "scrolled": true
   },
   "outputs": [],
   "source": [
    "nlp = spacy.load('en_core_web_sm')"
   ]
  },
  {
   "cell_type": "code",
   "execution_count": 4,
   "metadata": {},
   "outputs": [],
   "source": [
    "stop_words = open(\"stoplist.txt\").read()"
   ]
  },
  {
   "cell_type": "code",
   "execution_count": 5,
   "metadata": {},
   "outputs": [],
   "source": [
    "stop_words = nlp(stop_words)"
   ]
  },
  {
   "cell_type": "code",
   "execution_count": 6,
   "metadata": {},
   "outputs": [],
   "source": [
    "nlp.Defaults.stop_words = stop_words"
   ]
  },
  {
   "cell_type": "code",
   "execution_count": 7,
   "metadata": {},
   "outputs": [],
   "source": [
    "def is_word(token):\n",
    "    if token.is_stop != True and token.pos_ != \"PUNCT\" and token.pos_ != \"SYM\" and token.pos_!=\"NUM\" and token.is_punct != True and token.like_url != True and token.like_num != True and token.like_email != True:\n",
    "        return True\n",
    "    else:\n",
    "        return False"
   ]
  },
  {
   "cell_type": "code",
   "execution_count": 8,
   "metadata": {},
   "outputs": [],
   "source": [
    "def count_words(file):\n",
    "    word_freq = Counter([])\n",
    "    while 1:\n",
    "        line = file.readline()\n",
    "        if not line:\n",
    "            break\n",
    "        line = line.replace('\\n', '')\n",
    "        line = nlp(line)\n",
    "        words = [token.text for token in line if is_word(token)]\n",
    "        word_freq += Counter(words)\n",
    "    return word_freq.most_common()"
   ]
  },
  {
   "cell_type": "code",
   "execution_count": 9,
   "metadata": {},
   "outputs": [],
   "source": [
    "def count_base_words(file):\n",
    "    word_freq = Counter([])\n",
    "    while 1:\n",
    "        line = file.readline()\n",
    "        if not line:\n",
    "            break\n",
    "        line = line.replace('\\n', '')\n",
    "        line = nlp(line)\n",
    "        words = [token.lemma_ for token in line if is_word(token)]\n",
    "        word_freq += Counter(words)\n",
    "    return word_freq.most_common()"
   ]
  },
  {
   "cell_type": "markdown",
   "metadata": {},
   "source": [
    "The frequency distribution of words in Reddit questions after the removal of the stopwords:\n",
    "\n",
    "(The tokens that are numbers, urls, emails, symbols and punctuations are also removed.)"
   ]
  },
  {
   "cell_type": "code",
   "execution_count": 10,
   "metadata": {},
   "outputs": [],
   "source": [
    "questions = open(\"si650-f21-reddit-questions.txt\")\n",
    "question_word_freq = count_words(questions)\n",
    "questions.close()"
   ]
  },
  {
   "cell_type": "markdown",
   "metadata": {},
   "source": [
    "The frequency distribution of base words with no inflectional suffixes in Reddit questions after the removal of the stopwords:\n",
    "\n",
    "(The tokens that are numbers, urls, emails, symbols and punctuations are also removed.)"
   ]
  },
  {
   "cell_type": "code",
   "execution_count": 11,
   "metadata": {},
   "outputs": [],
   "source": [
    "questions = open(\"si650-f21-reddit-questions.txt\")\n",
    "question_base_word_freq = count_base_words(questions)\n",
    "questions.close()"
   ]
  },
  {
   "cell_type": "markdown",
   "metadata": {},
   "source": [
    "The first 20 most-frequent base words in Reddit questions:"
   ]
  },
  {
   "cell_type": "code",
   "execution_count": 12,
   "metadata": {
    "scrolled": false
   },
   "outputs": [
    {
     "data": {
      "image/png": "[encoded data removed]",
      "text/plain": [
       "<Figure size 1440x720 with 1 Axes>"
      ]
     },
     "metadata": {
      "needs_background": "light"
     },
     "output_type": "display_data"
    }
   ],
   "source": [
    "words = [word[0] for word in question_base_word_freq]\n",
    "freqs = [word[1] for word in question_base_word_freq]\n",
    "plt.figure(figsize=(20,10))\n",
    "plt.bar(range(1, 20), height = freqs[0:19], tick_label = words[0:19], width = 0.3, log = True)\n",
    "plt.show()"
   ]
  },
  {
   "cell_type": "markdown",
   "metadata": {},
   "source": [
    "The frequency distribution of base words in Reddit questions:"
   ]
  },
  {
   "cell_type": "code",
   "execution_count": 13,
   "metadata": {
    "scrolled": false
   },
   "outputs": [
    {
     "data": {
      "image/png": "[encoded data removed]",
      "text/plain": [
       "<Figure size 1440x720 with 1 Axes>"
      ]
     },
     "metadata": {
      "needs_background": "light"
     },
     "output_type": "display_data"
    }
   ],
   "source": [
    "freqs = [word[1] for word in question_base_word_freq]\n",
    "plt.figure(figsize=(20,10))\n",
    "plt.plot(range(1, len(freqs)+1), freqs)\n",
    "plt.xscale('log')\n",
    "plt.yscale('log')\n",
    "plt.show()"
   ]
  },
  {
   "cell_type": "markdown",
   "metadata": {},
   "source": [
    "The frequency distribution of words in Wiki bios after the removal of the stopwords:\n",
    "\n",
    "(The tokens that are numbers, urls, emails, symbols and punctuations are also removed.)"
   ]
  },
  {
   "cell_type": "code",
   "execution_count": 14,
   "metadata": {},
   "outputs": [],
   "source": [
    "bios = open(\"si650.f21.wiki-bios.10k.txt\")\n",
    "bio_word_freq = count_words(bios)\n",
    "bios.close()"
   ]
  },
  {
   "cell_type": "markdown",
   "metadata": {},
   "source": [
    "The frequency distribution of base words with no inflectional suffixes in Wiki bios after the removal of the stopwords:\n",
    "\n",
    "(The tokens that are numbers, urls, emails, symbols and punctuations are also removed.)"
   ]
  },
  {
   "cell_type": "code",
   "execution_count": 15,
   "metadata": {},
   "outputs": [],
   "source": [
    "bios = open(\"si650.f21.wiki-bios.10k.txt\")\n",
    "bio_base_word_freq = count_base_words(bios)\n",
    "bios.close()"
   ]
  },
  {
   "cell_type": "markdown",
   "metadata": {},
   "source": [
    "The first 20 most-frequent base words in Wiki bios:"
   ]
  },
  {
   "cell_type": "code",
   "execution_count": 16,
   "metadata": {
    "scrolled": false
   },
   "outputs": [
    {
     "data": {
      "image/png": "[encoded data removed]",
      "text/plain": [
       "<Figure size 1440x720 with 1 Axes>"
      ]
     },
     "metadata": {
      "needs_background": "light"
     },
     "output_type": "display_data"
    }
   ],
   "source": [
    "words = [word[0] for word in bio_base_word_freq]\n",
    "freqs = [word[1] for word in bio_base_word_freq]\n",
    "plt.figure(figsize=(20,10))\n",
    "plt.bar(range(1, 20), height = freqs[0:19], tick_label = words[0:19], width = 0.3, log = True)\n",
    "plt.show()"
   ]
  },
  {
   "cell_type": "markdown",
   "metadata": {},
   "source": [
    "The frequency distribution of base words in Wiki bios:"
   ]
  },
  {
   "cell_type": "code",
   "execution_count": 17,
   "metadata": {},
   "outputs": [
    {
     "data": {
      "image/png": "[encoded data removed]",
      "text/plain": [
       "<Figure size 1440x720 with 1 Axes>"
      ]
     },
     "metadata": {
      "needs_background": "light"
     },
     "output_type": "display_data"
    }
   ],
   "source": [
    "freqs = [word[1] for word in bio_base_word_freq]\n",
    "plt.figure(figsize=(20,10))\n",
    "plt.plot(range(1, len(freqs)+1), freqs)\n",
    "plt.xscale('log')\n",
    "plt.yscale('log')\n",
    "plt.show()"
   ]
  },
  {
   "cell_type": "markdown",
   "metadata": {},
   "source": [
    "The two distributions all look like a power-law distribution. They have very similar shapes."
   ]
  },
  {
   "cell_type": "markdown",
   "metadata": {},
   "source": [
    "#### 2."
   ]
  },
  {
   "cell_type": "markdown",
   "metadata": {},
   "source": [
    "##### a)"
   ]
  },
  {
   "cell_type": "code",
   "execution_count": 18,
   "metadata": {},
   "outputs": [],
   "source": [
    "def count_stopwords(file):\n",
    "    stopword_freq = Counter([])\n",
    "    while 1:\n",
    "        line = file.readline()\n",
    "        if not line:\n",
    "            break\n",
    "        line = line.replace('\\n', '')\n",
    "        line = nlp(line)\n",
    "        stopwords = [token.text for token in line if token.is_stop == True]\n",
    "        stopword_freq += Counter(stopwords)\n",
    "    return stopword_freq.most_common()"
   ]
  },
  {
   "cell_type": "markdown",
   "metadata": {},
   "source": [
    "The number of stopwords in Reddit questions:"
   ]
  },
  {
   "cell_type": "code",
   "execution_count": 19,
   "metadata": {},
   "outputs": [],
   "source": [
    "questions = open(\"si650-f21-reddit-questions.txt\")\n",
    "question_stopword_freq = count_stopwords(questions)\n",
    "questions.close()"
   ]
  },
  {
   "cell_type": "code",
   "execution_count": 20,
   "metadata": {},
   "outputs": [
    {
     "data": {
      "text/plain": [
       "184806"
      ]
     },
     "execution_count": 20,
     "metadata": {},
     "output_type": "execute_result"
    }
   ],
   "source": [
    "freqs = [word[1] for word in question_stopword_freq]\n",
    "stopword_num = sum(freqs)\n",
    "stopword_num"
   ]
  },
  {
   "cell_type": "markdown",
   "metadata": {},
   "source": [
    "The number of non-stop words in Reddit questions:"
   ]
  },
  {
   "cell_type": "code",
   "execution_count": 21,
   "metadata": {},
   "outputs": [
    {
     "data": {
      "text/plain": [
       "121272"
      ]
     },
     "execution_count": 21,
     "metadata": {},
     "output_type": "execute_result"
    }
   ],
   "source": [
    "freqs = [word[1] for word in question_word_freq]\n",
    "word_num = sum(freqs)\n",
    "word_num"
   ]
  },
  {
   "cell_type": "markdown",
   "metadata": {},
   "source": [
    "The frequency of stopwords in Reddit questions:"
   ]
  },
  {
   "cell_type": "code",
   "execution_count": 22,
   "metadata": {
    "scrolled": true
   },
   "outputs": [
    {
     "data": {
      "text/plain": [
       "0.6037872699115912"
      ]
     },
     "execution_count": 22,
     "metadata": {},
     "output_type": "execute_result"
    }
   ],
   "source": [
    "stopword_num / (stopword_num + word_num)"
   ]
  },
  {
   "cell_type": "markdown",
   "metadata": {},
   "source": [
    "The number of stopwords in Wiki bios:"
   ]
  },
  {
   "cell_type": "code",
   "execution_count": 23,
   "metadata": {},
   "outputs": [],
   "source": [
    "bios = open(\"si650.f21.wiki-bios.10k.txt\")\n",
    "bio_stopword_freq = count_stopwords(bios)\n",
    "bios.close()"
   ]
  },
  {
   "cell_type": "code",
   "execution_count": 24,
   "metadata": {},
   "outputs": [
    {
     "data": {
      "text/plain": [
       "932821"
      ]
     },
     "execution_count": 24,
     "metadata": {},
     "output_type": "execute_result"
    }
   ],
   "source": [
    "freqs = [word[1] for word in bio_stopword_freq]\n",
    "stopword_num = sum(freqs)\n",
    "stopword_num"
   ]
  },
  {
   "cell_type": "markdown",
   "metadata": {},
   "source": [
    "The number of non-stop words in Wiki bios:"
   ]
  },
  {
   "cell_type": "code",
   "execution_count": 25,
   "metadata": {},
   "outputs": [
    {
     "data": {
      "text/plain": [
       "1170144"
      ]
     },
     "execution_count": 25,
     "metadata": {},
     "output_type": "execute_result"
    }
   ],
   "source": [
    "freqs = [word[1] for word in bio_word_freq]\n",
    "word_num = sum(freqs)\n",
    "word_num"
   ]
  },
  {
   "cell_type": "markdown",
   "metadata": {},
   "source": [
    "The frequency of stopwords in Wiki bios:"
   ]
  },
  {
   "cell_type": "code",
   "execution_count": 26,
   "metadata": {},
   "outputs": [
    {
     "data": {
      "text/plain": [
       "0.4435741916769894"
      ]
     },
     "execution_count": 26,
     "metadata": {},
     "output_type": "execute_result"
    }
   ],
   "source": [
    "stopword_num / (stopword_num + word_num)"
   ]
  },
  {
   "cell_type": "markdown",
   "metadata": {},
   "source": [
    "These two frequencies are different. This is probability because the Reddit questions are more mundane, while the Wiki bios are more written. Thus the Wiki bios' frequency of stopwords is lower than that of the Reddit questions."
   ]
  },
  {
   "cell_type": "markdown",
   "metadata": {},
   "source": [
    "##### b)"
   ]
  },
  {
   "cell_type": "code",
   "execution_count": 27,
   "metadata": {},
   "outputs": [],
   "source": [
    "def count_capital_helper(word):\n",
    "    count = 0\n",
    "    for i in word:\n",
    "        if i.isupper():\n",
    "            count += 1\n",
    "    return count"
   ]
  },
  {
   "cell_type": "code",
   "execution_count": 28,
   "metadata": {},
   "outputs": [],
   "source": [
    "def count_capital(word_freq):\n",
    "    count = 0\n",
    "    for word, freq in word_freq:\n",
    "        count += freq * count_capital_helper(word)\n",
    "    return count"
   ]
  },
  {
   "cell_type": "code",
   "execution_count": 29,
   "metadata": {},
   "outputs": [],
   "source": [
    "def count_letter_helper(word):\n",
    "    count = 0\n",
    "    for i in word:\n",
    "        if i.isalpha():\n",
    "            count += 1\n",
    "    return count"
   ]
  },
  {
   "cell_type": "code",
   "execution_count": 30,
   "metadata": {},
   "outputs": [],
   "source": [
    "def count_letter(word_freq):\n",
    "    count = 0\n",
    "    for word, freq in word_freq:\n",
    "        count += freq * count_letter_helper(word)\n",
    "    return count"
   ]
  },
  {
   "cell_type": "markdown",
   "metadata": {},
   "source": [
    "The percentage of capital letters in the Reddit questions:"
   ]
  },
  {
   "cell_type": "code",
   "execution_count": 31,
   "metadata": {},
   "outputs": [
    {
     "data": {
      "text/plain": [
       "37326"
      ]
     },
     "execution_count": 31,
     "metadata": {},
     "output_type": "execute_result"
    }
   ],
   "source": [
    "question_captical_count = count_capital(question_word_freq) + count_capital(question_stopword_freq)\n",
    "question_captical_count"
   ]
  },
  {
   "cell_type": "code",
   "execution_count": 32,
   "metadata": {},
   "outputs": [
    {
     "data": {
      "text/plain": [
       "1276642"
      ]
     },
     "execution_count": 32,
     "metadata": {},
     "output_type": "execute_result"
    }
   ],
   "source": [
    "question_letter_count = count_letter(question_word_freq) + count_letter(question_stopword_freq)\n",
    "question_letter_count"
   ]
  },
  {
   "cell_type": "code",
   "execution_count": 33,
   "metadata": {},
   "outputs": [
    {
     "data": {
      "text/plain": [
       "0.029237640622821432"
      ]
     },
     "execution_count": 33,
     "metadata": {},
     "output_type": "execute_result"
    }
   ],
   "source": [
    "question_captical_count / question_letter_count"
   ]
  },
  {
   "cell_type": "markdown",
   "metadata": {},
   "source": [
    "The percentage of capital letters in the Wiki bios:"
   ]
  },
  {
   "cell_type": "code",
   "execution_count": 34,
   "metadata": {},
   "outputs": [
    {
     "data": {
      "text/plain": [
       "685829"
      ]
     },
     "execution_count": 34,
     "metadata": {},
     "output_type": "execute_result"
    }
   ],
   "source": [
    "bio_captical_count = count_capital(bio_word_freq) + count_capital(bio_stopword_freq)\n",
    "bio_captical_count"
   ]
  },
  {
   "cell_type": "code",
   "execution_count": 35,
   "metadata": {},
   "outputs": [
    {
     "data": {
      "text/plain": [
       "10190482"
      ]
     },
     "execution_count": 35,
     "metadata": {},
     "output_type": "execute_result"
    }
   ],
   "source": [
    "bio_letter_count = count_letter(bio_word_freq) + count_letter(bio_stopword_freq)\n",
    "bio_letter_count"
   ]
  },
  {
   "cell_type": "code",
   "execution_count": 36,
   "metadata": {},
   "outputs": [
    {
     "data": {
      "text/plain": [
       "0.0673009382676894"
      ]
     },
     "execution_count": 36,
     "metadata": {},
     "output_type": "execute_result"
    }
   ],
   "source": [
    "bio_captical_count / bio_letter_count"
   ]
  },
  {
   "cell_type": "markdown",
   "metadata": {},
   "source": [
    "We can see that the Wiki bios have a higher percentage of capital letter than the Reddit questions. This may be due to the fact that the Wiki bios contains a large number of names."
   ]
  },
  {
   "cell_type": "markdown",
   "metadata": {},
   "source": [
    "##### c)"
   ]
  },
  {
   "cell_type": "markdown",
   "metadata": {},
   "source": [
    "The number of characters in the Reddit questions is:"
   ]
  },
  {
   "cell_type": "code",
   "execution_count": 37,
   "metadata": {},
   "outputs": [
    {
     "data": {
      "text/plain": [
       "1276642"
      ]
     },
     "execution_count": 37,
     "metadata": {},
     "output_type": "execute_result"
    }
   ],
   "source": [
    "question_letter_count"
   ]
  },
  {
   "cell_type": "markdown",
   "metadata": {},
   "source": [
    "The number of words in the Reddit questions is:"
   ]
  },
  {
   "cell_type": "code",
   "execution_count": 38,
   "metadata": {},
   "outputs": [
    {
     "data": {
      "text/plain": [
       "306078"
      ]
     },
     "execution_count": 38,
     "metadata": {},
     "output_type": "execute_result"
    }
   ],
   "source": [
    "word_freqs = [word[1] for word in question_word_freq]\n",
    "question_word_num = sum(word_freqs)\n",
    "stopword_freqs = [word[1] for word in question_stopword_freq]\n",
    "question_word_num += sum(stopword_freqs)\n",
    "question_word_num"
   ]
  },
  {
   "cell_type": "markdown",
   "metadata": {},
   "source": [
    "The average number of characters per word in the Reddit questions is:"
   ]
  },
  {
   "cell_type": "code",
   "execution_count": 39,
   "metadata": {},
   "outputs": [
    {
     "data": {
      "text/plain": [
       "4.170969491436823"
      ]
     },
     "execution_count": 39,
     "metadata": {},
     "output_type": "execute_result"
    }
   ],
   "source": [
    "question_letter_count / question_word_num"
   ]
  },
  {
   "cell_type": "markdown",
   "metadata": {},
   "source": [
    "The number of characters in the Wiki bios is:"
   ]
  },
  {
   "cell_type": "code",
   "execution_count": 40,
   "metadata": {},
   "outputs": [
    {
     "data": {
      "text/plain": [
       "10190482"
      ]
     },
     "execution_count": 40,
     "metadata": {},
     "output_type": "execute_result"
    }
   ],
   "source": [
    "bio_letter_count"
   ]
  },
  {
   "cell_type": "markdown",
   "metadata": {},
   "source": [
    "The number of words in the Wiki bios is:"
   ]
  },
  {
   "cell_type": "code",
   "execution_count": 41,
   "metadata": {},
   "outputs": [
    {
     "data": {
      "text/plain": [
       "2102965"
      ]
     },
     "execution_count": 41,
     "metadata": {},
     "output_type": "execute_result"
    }
   ],
   "source": [
    "word_freqs = [word[1] for word in bio_word_freq]\n",
    "bio_word_num = sum(word_freqs)\n",
    "stopword_freqs = [word[1] for word in bio_stopword_freq]\n",
    "bio_word_num += sum(stopword_freqs)\n",
    "bio_word_num"
   ]
  },
  {
   "cell_type": "markdown",
   "metadata": {},
   "source": [
    "The average number of characters per word in the Wiki bios is:"
   ]
  },
  {
   "cell_type": "code",
   "execution_count": 42,
   "metadata": {},
   "outputs": [
    {
     "data": {
      "text/plain": [
       "4.845768712270532"
      ]
     },
     "execution_count": 42,
     "metadata": {},
     "output_type": "execute_result"
    }
   ],
   "source": [
    "bio_letter_count / bio_word_num"
   ]
  },
  {
   "cell_type": "markdown",
   "metadata": {},
   "source": [
    "The Wiki bios has a bit higher average number of characters per word than the Reddit questions. This may also because the Wiki bios contains more names."
   ]
  },
  {
   "cell_type": "markdown",
   "metadata": {},
   "source": [
    "##### d)"
   ]
  },
  {
   "cell_type": "markdown",
   "metadata": {},
   "source": [
    "The nouns, adjectives, verbs, adverbs, and pronouns in the Reddit questions:"
   ]
  },
  {
   "cell_type": "code",
   "execution_count": 43,
   "metadata": {},
   "outputs": [],
   "source": [
    "def classify_word(file):\n",
    "    word_dict = {'NOUN': Counter([]), 'ADJ': Counter([]), 'VERB': Counter([]), 'ADV': Counter([]), 'PRON': Counter([])}\n",
    "    while 1:\n",
    "        line = file.readline()\n",
    "        if not line:\n",
    "            break\n",
    "        line = line.replace('\\n', '')\n",
    "        line = nlp(line)\n",
    "        for token in line:\n",
    "            if token.pos_ == 'NOUN':\n",
    "                word_dict['NOUN'] += Counter([token.lemma_])\n",
    "            elif token.pos_ == 'ADJ':\n",
    "                word_dict['ADJ'] += Counter([token.lemma_])\n",
    "            elif token.pos_ == 'VERB':\n",
    "                word_dict['VERB'] += Counter([token.lemma_])\n",
    "            elif token.pos_ == 'ADV':\n",
    "                word_dict['ADV'] += Counter([token.lemma_])\n",
    "            elif token.pos_ == 'PRON':\n",
    "                word_dict['PRON'] += Counter([token.lemma_])\n",
    "    return word_dict"
   ]
  },
  {
   "cell_type": "code",
   "execution_count": 44,
   "metadata": {},
   "outputs": [],
   "source": [
    "questions = open(\"si650-f21-reddit-questions.txt\")\n",
    "question_word_dict = classify_word(questions)\n",
    "questions.close()"
   ]
  },
  {
   "cell_type": "markdown",
   "metadata": {},
   "source": [
    "The nouns count in the Reddit questions:"
   ]
  },
  {
   "cell_type": "code",
   "execution_count": 45,
   "metadata": {},
   "outputs": [
    {
     "data": {
      "text/plain": [
       "58862"
      ]
     },
     "execution_count": 45,
     "metadata": {},
     "output_type": "execute_result"
    }
   ],
   "source": [
    "noun_word_freq = question_word_dict['NOUN'].most_common()\n",
    "word_freqs = [word[1] for word in noun_word_freq]\n",
    "question_noun_num = sum(word_freqs)\n",
    "question_noun_num"
   ]
  },
  {
   "cell_type": "markdown",
   "metadata": {},
   "source": [
    "The adjectives count in the Reddit questions:"
   ]
  },
  {
   "cell_type": "code",
   "execution_count": 46,
   "metadata": {},
   "outputs": [
    {
     "data": {
      "text/plain": [
       "21398"
      ]
     },
     "execution_count": 46,
     "metadata": {},
     "output_type": "execute_result"
    }
   ],
   "source": [
    "adj_word_freq = question_word_dict['ADJ'].most_common()\n",
    "word_freqs = [word[1] for word in adj_word_freq]\n",
    "question_adj_num = sum(word_freqs)\n",
    "question_adj_num"
   ]
  },
  {
   "cell_type": "markdown",
   "metadata": {},
   "source": [
    "The verbs count in the Reddit questions:"
   ]
  },
  {
   "cell_type": "code",
   "execution_count": 47,
   "metadata": {},
   "outputs": [
    {
     "data": {
      "text/plain": [
       "44044"
      ]
     },
     "execution_count": 47,
     "metadata": {},
     "output_type": "execute_result"
    }
   ],
   "source": [
    "verb_word_freq = question_word_dict['VERB'].most_common()\n",
    "word_freqs = [word[1] for word in verb_word_freq]\n",
    "question_verb_num = sum(word_freqs)\n",
    "question_verb_num"
   ]
  },
  {
   "cell_type": "markdown",
   "metadata": {},
   "source": [
    "The adverbs count in the Reddit questions:"
   ]
  },
  {
   "cell_type": "code",
   "execution_count": 48,
   "metadata": {},
   "outputs": [
    {
     "data": {
      "text/plain": [
       "18863"
      ]
     },
     "execution_count": 48,
     "metadata": {},
     "output_type": "execute_result"
    }
   ],
   "source": [
    "adverb_word_freq = question_word_dict['ADV'].most_common()\n",
    "word_freqs = [word[1] for word in adverb_word_freq]\n",
    "question_adverb_num = sum(word_freqs)\n",
    "question_adverb_num"
   ]
  },
  {
   "cell_type": "markdown",
   "metadata": {},
   "source": [
    "The pronouns count in the Reddit questions:"
   ]
  },
  {
   "cell_type": "code",
   "execution_count": 49,
   "metadata": {},
   "outputs": [
    {
     "data": {
      "text/plain": [
       "43519"
      ]
     },
     "execution_count": 49,
     "metadata": {},
     "output_type": "execute_result"
    }
   ],
   "source": [
    "pronoun_word_freq = question_word_dict['PRON'].most_common()\n",
    "word_freqs = [word[1] for word in pronoun_word_freq]\n",
    "question_pronoun_num = sum(word_freqs)\n",
    "question_pronoun_num"
   ]
  },
  {
   "cell_type": "markdown",
   "metadata": {},
   "source": [
    "The total word count in the Reddit questions:"
   ]
  },
  {
   "cell_type": "code",
   "execution_count": 50,
   "metadata": {},
   "outputs": [
    {
     "data": {
      "text/plain": [
       "306078"
      ]
     },
     "execution_count": 50,
     "metadata": {},
     "output_type": "execute_result"
    }
   ],
   "source": [
    "question_total_num = question_word_num\n",
    "question_total_num"
   ]
  },
  {
   "cell_type": "code",
   "execution_count": 51,
   "metadata": {},
   "outputs": [
    {
     "data": {
      "text/plain": [
       "0.1923104568116624"
      ]
     },
     "execution_count": 51,
     "metadata": {},
     "output_type": "execute_result"
    }
   ],
   "source": [
    "question_noun_num / question_total_num"
   ]
  },
  {
   "cell_type": "code",
   "execution_count": 52,
   "metadata": {},
   "outputs": [
    {
     "data": {
      "text/plain": [
       "0.06991028430661465"
      ]
     },
     "execution_count": 52,
     "metadata": {},
     "output_type": "execute_result"
    }
   ],
   "source": [
    "question_adj_num / question_total_num"
   ]
  },
  {
   "cell_type": "code",
   "execution_count": 53,
   "metadata": {},
   "outputs": [
    {
     "data": {
      "text/plain": [
       "0.14389796065055313"
      ]
     },
     "execution_count": 53,
     "metadata": {},
     "output_type": "execute_result"
    }
   ],
   "source": [
    "question_verb_num / question_total_num"
   ]
  },
  {
   "cell_type": "code",
   "execution_count": 54,
   "metadata": {},
   "outputs": [
    {
     "data": {
      "text/plain": [
       "0.06162808173080064"
      ]
     },
     "execution_count": 54,
     "metadata": {},
     "output_type": "execute_result"
    }
   ],
   "source": [
    "question_adverb_num / question_total_num"
   ]
  },
  {
   "cell_type": "code",
   "execution_count": 55,
   "metadata": {},
   "outputs": [
    {
     "data": {
      "text/plain": [
       "0.14218271159639045"
      ]
     },
     "execution_count": 55,
     "metadata": {},
     "output_type": "execute_result"
    }
   ],
   "source": [
    "question_pronoun_num / question_total_num"
   ]
  },
  {
   "cell_type": "code",
   "execution_count": 56,
   "metadata": {},
   "outputs": [],
   "source": [
    "bios = open(\"si650.f21.wiki-bios.10k.txt\")\n",
    "bio_word_dict = classify_word(bios)\n",
    "bios.close()"
   ]
  },
  {
   "cell_type": "markdown",
   "metadata": {},
   "source": [
    "The nouns count in the Wiki bios:"
   ]
  },
  {
   "cell_type": "code",
   "execution_count": 57,
   "metadata": {},
   "outputs": [
    {
     "data": {
      "text/plain": [
       "358568"
      ]
     },
     "execution_count": 57,
     "metadata": {},
     "output_type": "execute_result"
    }
   ],
   "source": [
    "noun_word_freq = bio_word_dict['NOUN'].most_common()\n",
    "word_freqs = [word[1] for word in noun_word_freq]\n",
    "bio_noun_num = sum(word_freqs)\n",
    "bio_noun_num"
   ]
  },
  {
   "cell_type": "markdown",
   "metadata": {},
   "source": [
    "The adjectives count in the Wiki bios:"
   ]
  },
  {
   "cell_type": "code",
   "execution_count": 58,
   "metadata": {},
   "outputs": [
    {
     "data": {
      "text/plain": [
       "120410"
      ]
     },
     "execution_count": 58,
     "metadata": {},
     "output_type": "execute_result"
    }
   ],
   "source": [
    "adj_word_freq = bio_word_dict['ADJ'].most_common()\n",
    "word_freqs = [word[1] for word in adj_word_freq]\n",
    "bio_adj_num = sum(word_freqs)\n",
    "bio_adj_num"
   ]
  },
  {
   "cell_type": "markdown",
   "metadata": {},
   "source": [
    "The verbs count in the Wiki bios:"
   ]
  },
  {
   "cell_type": "code",
   "execution_count": 59,
   "metadata": {},
   "outputs": [
    {
     "data": {
      "text/plain": [
       "206864"
      ]
     },
     "execution_count": 59,
     "metadata": {},
     "output_type": "execute_result"
    }
   ],
   "source": [
    "verb_word_freq = bio_word_dict['VERB'].most_common()\n",
    "word_freqs = [word[1] for word in verb_word_freq]\n",
    "bio_verb_num = sum(word_freqs)\n",
    "bio_verb_num"
   ]
  },
  {
   "cell_type": "markdown",
   "metadata": {},
   "source": [
    "The adverbs count in the Wiki bios:"
   ]
  },
  {
   "cell_type": "code",
   "execution_count": 60,
   "metadata": {},
   "outputs": [
    {
     "data": {
      "text/plain": [
       "55799"
      ]
     },
     "execution_count": 60,
     "metadata": {},
     "output_type": "execute_result"
    }
   ],
   "source": [
    "adverb_word_freq = bio_word_dict['ADV'].most_common()\n",
    "word_freqs = [word[1] for word in adverb_word_freq]\n",
    "bio_adverb_num = sum(word_freqs)\n",
    "bio_adverb_num"
   ]
  },
  {
   "cell_type": "markdown",
   "metadata": {},
   "source": [
    "The pronouns count in the Wiki bios:"
   ]
  },
  {
   "cell_type": "code",
   "execution_count": 61,
   "metadata": {},
   "outputs": [
    {
     "data": {
      "text/plain": [
       "72369"
      ]
     },
     "execution_count": 61,
     "metadata": {},
     "output_type": "execute_result"
    }
   ],
   "source": [
    "pronoun_word_freq = bio_word_dict['PRON'].most_common()\n",
    "word_freqs = [word[1] for word in pronoun_word_freq]\n",
    "bio_pronoun_num = sum(word_freqs)\n",
    "bio_pronoun_num"
   ]
  },
  {
   "cell_type": "markdown",
   "metadata": {},
   "source": [
    "The total word count in the Wiki bios:"
   ]
  },
  {
   "cell_type": "code",
   "execution_count": 62,
   "metadata": {},
   "outputs": [
    {
     "data": {
      "text/plain": [
       "2102965"
      ]
     },
     "execution_count": 62,
     "metadata": {},
     "output_type": "execute_result"
    }
   ],
   "source": [
    "bio_total_num = bio_word_num\n",
    "bio_total_num"
   ]
  },
  {
   "cell_type": "code",
   "execution_count": 63,
   "metadata": {},
   "outputs": [
    {
     "data": {
      "text/plain": [
       "0.17050592853423618"
      ]
     },
     "execution_count": 63,
     "metadata": {},
     "output_type": "execute_result"
    }
   ],
   "source": [
    "bio_noun_num / bio_total_num"
   ]
  },
  {
   "cell_type": "code",
   "execution_count": 64,
   "metadata": {},
   "outputs": [
    {
     "data": {
      "text/plain": [
       "0.05725725344929659"
      ]
     },
     "execution_count": 64,
     "metadata": {},
     "output_type": "execute_result"
    }
   ],
   "source": [
    "bio_adj_num / bio_total_num"
   ]
  },
  {
   "cell_type": "code",
   "execution_count": 65,
   "metadata": {},
   "outputs": [
    {
     "data": {
      "text/plain": [
       "0.0983677807286379"
      ]
     },
     "execution_count": 65,
     "metadata": {},
     "output_type": "execute_result"
    }
   ],
   "source": [
    "bio_verb_num / bio_total_num"
   ]
  },
  {
   "cell_type": "code",
   "execution_count": 66,
   "metadata": {},
   "outputs": [
    {
     "data": {
      "text/plain": [
       "0.026533489620607094"
      ]
     },
     "execution_count": 66,
     "metadata": {},
     "output_type": "execute_result"
    }
   ],
   "source": [
    "bio_adverb_num / bio_total_num"
   ]
  },
  {
   "cell_type": "code",
   "execution_count": 67,
   "metadata": {
    "scrolled": true
   },
   "outputs": [
    {
     "data": {
      "text/plain": [
       "0.034412840917466526"
      ]
     },
     "execution_count": 67,
     "metadata": {},
     "output_type": "execute_result"
    }
   ],
   "source": [
    "bio_pronoun_num / bio_total_num"
   ]
  },
  {
   "cell_type": "markdown",
   "metadata": {},
   "source": [
    "##### e)"
   ]
  },
  {
   "cell_type": "markdown",
   "metadata": {},
   "source": [
    "The top 10 nouns in the Reddit questions:"
   ]
  },
  {
   "cell_type": "code",
   "execution_count": 68,
   "metadata": {},
   "outputs": [
    {
     "data": {
      "text/plain": [
       "[('food', 4948),\n",
       " ('love', 1888),\n",
       " ('thing', 1623),\n",
       " ('college', 1574),\n",
       " ('people', 1186),\n",
       " ('People', 1030),\n",
       " ('reddit', 971),\n",
       " ('life', 912),\n",
       " ('time', 681),\n",
       " ('story', 576)]"
      ]
     },
     "execution_count": 68,
     "metadata": {},
     "output_type": "execute_result"
    }
   ],
   "source": [
    "question_word_dict['NOUN'].most_common(10)"
   ]
  },
  {
   "cell_type": "markdown",
   "metadata": {},
   "source": [
    "The top 10 verbs in the Reddit questions:"
   ]
  },
  {
   "cell_type": "code",
   "execution_count": 69,
   "metadata": {},
   "outputs": [
    {
     "data": {
      "text/plain": [
       "[('love', 3927),\n",
       " ('would', 2260),\n",
       " ('make', 1363),\n",
       " ('’', 1327),\n",
       " ('can', 1169),\n",
       " ('eat', 993),\n",
       " ('have', 840),\n",
       " ('know', 817),\n",
       " ('go', 815),\n",
       " ('think', 800)]"
      ]
     },
     "execution_count": 69,
     "metadata": {},
     "output_type": "execute_result"
    }
   ],
   "source": [
    "question_word_dict['VERB'].most_common(10)"
   ]
  },
  {
   "cell_type": "markdown",
   "metadata": {},
   "source": [
    "The top 10 adjectives in the Reddit questions:"
   ]
  },
  {
   "cell_type": "code",
   "execution_count": 70,
   "metadata": {},
   "outputs": [
    {
     "data": {
      "text/plain": [
       "[('good', 1373),\n",
       " ('bad', 782),\n",
       " ('fast', 697),\n",
       " ('weird', 628),\n",
       " ('favorite', 545),\n",
       " ('serious', 504),\n",
       " ('other', 462),\n",
       " ('first', 383),\n",
       " ('most', 338),\n",
       " ('high', 214)]"
      ]
     },
     "execution_count": 70,
     "metadata": {},
     "output_type": "execute_result"
    }
   ],
   "source": [
    "question_word_dict['ADJ'].most_common(10)"
   ]
  },
  {
   "cell_type": "markdown",
   "metadata": {},
   "source": [
    "The top 10 nouns in the Wiki bios:"
   ]
  },
  {
   "cell_type": "code",
   "execution_count": 71,
   "metadata": {},
   "outputs": [
    {
     "data": {
      "text/plain": [
       "[('year', 6501),\n",
       " ('career', 5672),\n",
       " ('season', 4846),\n",
       " ('life', 4050),\n",
       " ('time', 3912),\n",
       " ('team', 3537),\n",
       " ('game', 2765),\n",
       " ('member', 2412),\n",
       " ('club', 2198),\n",
       " ('goal', 2145)]"
      ]
     },
     "execution_count": 71,
     "metadata": {},
     "output_type": "execute_result"
    }
   ],
   "source": [
    "bio_word_dict['NOUN'].most_common(10)"
   ]
  },
  {
   "cell_type": "markdown",
   "metadata": {},
   "source": [
    "The top 10 verbs in the Wiki bios:"
   ]
  },
  {
   "cell_type": "code",
   "execution_count": 72,
   "metadata": {},
   "outputs": [
    {
     "data": {
      "text/plain": [
       "[('bear', 5566),\n",
       " ('play', 5214),\n",
       " ('become', 4147),\n",
       " ('make', 4081),\n",
       " ('win', 3442),\n",
       " ('work', 3041),\n",
       " ('include', 2710),\n",
       " ('serve', 2652),\n",
       " ('die', 2392),\n",
       " ('take', 2339)]"
      ]
     },
     "execution_count": 72,
     "metadata": {},
     "output_type": "execute_result"
    }
   ],
   "source": [
    "bio_word_dict['VERB'].most_common(10)"
   ]
  },
  {
   "cell_type": "markdown",
   "metadata": {},
   "source": [
    "The top 10 adjectives in the Wiki bios:"
   ]
  },
  {
   "cell_type": "code",
   "execution_count": 73,
   "metadata": {},
   "outputs": [
    {
     "data": {
      "text/plain": [
       "[('first', 6048),\n",
       " ('early', 3054),\n",
       " ('second', 1894),\n",
       " ('other', 1669),\n",
       " ('new', 1427),\n",
       " ('former', 1362),\n",
       " ('several', 1303),\n",
       " ('personal', 1287),\n",
       " ('high', 1278),\n",
       " ('-', 1204)]"
      ]
     },
     "execution_count": 73,
     "metadata": {},
     "output_type": "execute_result"
    }
   ],
   "source": [
    "bio_word_dict['ADJ'].most_common(10)"
   ]
  },
  {
   "cell_type": "markdown",
   "metadata": {},
   "source": [
    "#### 3."
   ]
  },
  {
   "cell_type": "markdown",
   "metadata": {},
   "source": [
    "First find the document frequency of each term $t$ in the collection:"
   ]
  },
  {
   "cell_type": "code",
   "execution_count": 74,
   "metadata": {},
   "outputs": [],
   "source": [
    "import math\n",
    "import heapq"
   ]
  },
  {
   "cell_type": "code",
   "execution_count": 75,
   "metadata": {},
   "outputs": [],
   "source": [
    "def is_stopword_or_word(token):\n",
    "    if token.pos_ != \"PUNCT\" and token.pos_ != \"SYM\" and token.pos_!=\"NUM\" and token.is_punct != True and token.like_url != True and token.like_num != True and token.like_email != True:\n",
    "        return True\n",
    "    else:\n",
    "        return False"
   ]
  },
  {
   "cell_type": "code",
   "execution_count": 76,
   "metadata": {},
   "outputs": [],
   "source": [
    "def find_doc_freq(file):\n",
    "    word_freq = Counter([])\n",
    "    while 1:\n",
    "        line = file.readline()\n",
    "        if not line:\n",
    "            break\n",
    "        line = line.replace('\\n', '')\n",
    "        line = nlp(line)\n",
    "        words = [token.lemma_ for token in line if is_stopword_or_word(token)]\n",
    "        word_freq += Counter(set(words))\n",
    "    return word_freq.most_common()"
   ]
  },
  {
   "cell_type": "code",
   "execution_count": 77,
   "metadata": {},
   "outputs": [],
   "source": [
    "bios = open(\"si650.f21.wiki-bios.10k.txt\")\n",
    "bio_doc_freq = find_doc_freq(bios)\n",
    "bios.close()"
   ]
  },
  {
   "cell_type": "markdown",
   "metadata": {},
   "source": [
    "Then find the total number of documents in the collection:"
   ]
  },
  {
   "cell_type": "code",
   "execution_count": 78,
   "metadata": {
    "scrolled": true
   },
   "outputs": [
    {
     "data": {
      "text/plain": [
       "10000"
      ]
     },
     "execution_count": 78,
     "metadata": {},
     "output_type": "execute_result"
    }
   ],
   "source": [
    "N = 0\n",
    "bios = open(\"si650.f21.wiki-bios.10k.txt\")\n",
    "while 1:\n",
    "    line = bios.readline()\n",
    "    if not line:\n",
    "        break\n",
    "    N += 1\n",
    "bios.close()\n",
    "N"
   ]
  },
  {
   "cell_type": "markdown",
   "metadata": {},
   "source": [
    "Then find the frequency count of term $t$ in doc $d$ and the final score of term $t$:"
   ]
  },
  {
   "cell_type": "code",
   "execution_count": 79,
   "metadata": {},
   "outputs": [],
   "source": [
    "def find_doc_freq(token,doc_freq):\n",
    "    for word, freq in doc_freq:\n",
    "        if token == word:\n",
    "            return freq\n",
    "    return 0"
   ]
  },
  {
   "cell_type": "code",
   "execution_count": 80,
   "metadata": {
    "scrolled": true
   },
   "outputs": [
    {
     "name": "stdout",
     "output_type": "stream",
     "text": [
      "The 5 words that have the highest TF-IDF weights in bio 1:\n",
      "1: Redenti\n",
      "2: Fischietto\n",
      "3: Correggio\n",
      "4: caricature\n",
      "5: Francesco\n",
      "The 5 words that have the highest TF-IDF weights in bio 2:\n",
      "1: Deacon\n",
      "2: ice\n",
      "3: Bearcats\n",
      "4: Winter\n",
      "5: hockey\n",
      "The 5 words that have the highest TF-IDF weights in bio 3:\n",
      "1: Watlington\n",
      "2: Windglider\n",
      "3: bermudian\n",
      "4: windsurfer\n",
      "5: Hugh\n",
      "The 5 words that have the highest TF-IDF weights in bio 4:\n",
      "1: Ershad\n",
      "2: Jatiya\n",
      "3: Awami\n",
      "4: Khaleda\n",
      "5: Hasina\n",
      "The 5 words that have the highest TF-IDF weights in bio 5:\n",
      "1: 임상조\n",
      "2: jo\n",
      "3: Sang\n",
      "4: cyclist\n",
      "5: korean\n",
      "The 5 words that have the highest TF-IDF weights in bio 6:\n",
      "1: Fawzi\n",
      "2: Najjar\n",
      "3: Strategist\n",
      "4: Husayn\n",
      "5: islamic\n",
      "The 5 words that have the highest TF-IDF weights in bio 7:\n",
      "1: Notre\n",
      "2: Parseghian\n",
      "3: Dame\n",
      "4: collin\n",
      "5: Ara\n",
      "The 5 words that have the highest TF-IDF weights in bio 8:\n",
      "1: Reed\n",
      "2: Glacier\n",
      "3: photograph\n",
      "4: Ortonville\n",
      "5: Montana\n",
      "The 5 words that have the highest TF-IDF weights in bio 9:\n",
      "1: rugby\n",
      "2: code\n",
      "3: Bridgend\n",
      "4: union\n",
      "5: RFC\n",
      "The 5 words that have the highest TF-IDF weights in bio 10:\n",
      "1: Evrenos\n",
      "2: Giannitsa\n",
      "3: Tomb\n",
      "4: restoration\n",
      "5: Greece\n"
     ]
    }
   ],
   "source": [
    "bios = open(\"si650.f21.wiki-bios.10k.txt\")\n",
    "for i in range(1,11):\n",
    "    line = bios.readline()\n",
    "    line = line.replace('\\n', '')\n",
    "    line = nlp(line)\n",
    "    words = [token.lemma_ for token in line if is_stopword_or_word(token)]\n",
    "    freq_count = Counter(words).most_common()\n",
    "    words = [word[0] for word in freq_count]\n",
    "    TF = [math.log(word[1] + 1) for word in freq_count]\n",
    "    IDF = [1 + math.log(N/find_doc_freq(word[0],bio_doc_freq)) for word in freq_count]\n",
    "    score = list(map(lambda x,y:x*y,TF,IDF))\n",
    "    word_score = list(map(lambda x,y:(x,y),words,score))\n",
    "    word_score.sort(key=lambda x:x[1], reverse=True)\n",
    "    print(\"The 5 words that have the highest TF-IDF weights in bio %d:\" %(i))\n",
    "    for j in range(0,5):\n",
    "        print(\"%d: %s\" %(j+1, word_score[j][0]))\n",
    "bios.close()"
   ]
  },
  {
   "cell_type": "markdown",
   "metadata": {},
   "source": [
    "I find that the words that have the highest TF-IDF weights are alomost names. This is not a good summary of the documents, as I can't guess what the document is from those names."
   ]
  },
  {
   "cell_type": "markdown",
   "metadata": {},
   "source": [
    "#### 4."
   ]
  },
  {
   "cell_type": "markdown",
   "metadata": {},
   "source": [
    "I'm thinking of a weighting method that combines the user search data. \n",
    "\n",
    "When we use TF-IDF weighting method, we may retrieve words that do not have a special meaning. But we can take into account the query used by the users to search for the document. For example, if a user enter a query \"university\" and click into one document showed by the search engine, then this document is very possibly related with \"university\". The resulting words will make more sense.\n",
    "\n",
    "This can be used as a self-correcting weighting algorithm."
   ]
  },
  {
   "cell_type": "markdown",
   "metadata": {},
   "source": [
    "### Problem 3"
   ]
  },
  {
   "cell_type": "markdown",
   "metadata": {},
   "source": [
    "#### 1."
   ]
  },
  {
   "cell_type": "markdown",
   "metadata": {},
   "source": [
    "$$\n",
    "\\text{Precision}=\\frac{\\text{Relevant Retrieved}}{\\text{Retrieved}}=\\frac{12}{20}=60\\%\n",
    "$$"
   ]
  },
  {
   "cell_type": "markdown",
   "metadata": {},
   "source": [
    "$$\n",
    "\\text{Recall}=\\frac{\\text{Relevant Retrieved}}{\\text{Relevant}}=\\frac{12}{20}=60\\%\n",
    "$$"
   ]
  },
  {
   "cell_type": "markdown",
   "metadata": {},
   "source": [
    "$$\n",
    "\\text{F1}=\\frac{\\text{2PR}}{\\text{P+R}}=\\frac{2\\times60\\%\\times60\\%}{60\\%+60\\%}=60\\%\n",
    "$$"
   ]
  },
  {
   "cell_type": "markdown",
   "metadata": {},
   "source": [
    "The precisions of the 20 relevant documents are:"
   ]
  },
  {
   "cell_type": "markdown",
   "metadata": {},
   "source": [
    "$$\n",
    "p(1)=1,p(2)=\\frac{2}{3},p(3)=\\frac{3}{4},p(4)=\\frac{2}{3}\\\\\n",
    "p(5)=\\frac{5}{8},p(6)=\\frac{2}{3},p(7)=\\frac{7}{12},p(8)=\\frac{8}{13}\\\\\n",
    "p(9)=\\frac{9}{16},p(10)=\\frac{10}{17},p(11)=\\frac{11}{18},p(12)=\\frac{12}{19}\\\\\n",
    "p(i)=0\\text{ for }i=13,\\dots,20\n",
    "$$"
   ]
  },
  {
   "cell_type": "markdown",
   "metadata": {},
   "source": [
    "$$\n",
    "\\text{MAP}=\\frac{1}{20}\\sum_{i=1}^{20} p(i)=0.39836\n",
    "$$"
   ]
  },
  {
   "cell_type": "markdown",
   "metadata": {},
   "source": [
    "#### 2."
   ]
  },
  {
   "cell_type": "markdown",
   "metadata": {},
   "source": [
    "$$\n",
    "CG_{10}=r_1+\\dots+r_{10}=2+0+1+2+0+1+0+2+1+0=9\n",
    "$$"
   ]
  },
  {
   "cell_type": "markdown",
   "metadata": {},
   "source": [
    "$$\n",
    "DCG_{10}=r_1+\\frac{r_2}{\\log_2(2)}+\\dots+\\frac{r_{10}}{\\log_2(10)}=2+0+\\frac{1}{\\log_2(3)}+\\frac{2}{\\log_2(4)}+0+\\frac{1}{\\log_2(6)}+0+\\frac{2}{\\log_2(8)}+\\frac{1}{\\log_2(9)}+0=4.9999\n",
    "$$"
   ]
  },
  {
   "cell_type": "markdown",
   "metadata": {},
   "source": [
    "The DCG value at rank n of the ideal ranking is:"
   ]
  },
  {
   "cell_type": "markdown",
   "metadata": {},
   "source": [
    "$$\n",
    "IDCG_{10}=2+\\frac{2}{\\log_2(2)}+\\frac{2}{\\log_2(3)}+\\frac{2}{\\log_2(4)}+\\frac{2}{\\log_2(5)}+\\frac{1}{\\log_2(6)}+\\frac{1}{\\log_2(7)}+\\dots + \\frac{1}{\\log_2(10)}=8.8161\n",
    "$$"
   ]
  },
  {
   "cell_type": "markdown",
   "metadata": {},
   "source": [
    "$$\n",
    "NDCG_{10}=\\frac{DCG_{10}}{IDCG_{10}}=0.5671\n",
    "$$"
   ]
  },
  {
   "cell_type": "markdown",
   "metadata": {},
   "source": [
    "### Problem 4"
   ]
  },
  {
   "cell_type": "markdown",
   "metadata": {},
   "source": [
    "#### 1."
   ]
  },
  {
   "cell_type": "code",
   "execution_count": 81,
   "metadata": {
    "scrolled": false
   },
   "outputs": [],
   "source": [
    "from sklearn.feature_extraction.text import CountVectorizer\n",
    "import numpy as np"
   ]
  },
  {
   "cell_type": "code",
   "execution_count": 82,
   "metadata": {},
   "outputs": [],
   "source": [
    "questions = open(\"si650-f21-reddit-questions.txt\")\n",
    "corpus = []\n",
    "while 1:\n",
    "    line = questions.readline()\n",
    "    if not line:\n",
    "        break\n",
    "    line = line.replace('\\n', '')\n",
    "    corpus.append(line)\n",
    "questions.close()"
   ]
  },
  {
   "cell_type": "code",
   "execution_count": 83,
   "metadata": {},
   "outputs": [],
   "source": [
    "stop_words = open(\"stoplist.txt\").read()\n",
    "stop_words = stop_words.split('\\n')\n",
    "vectorizer = CountVectorizer(stop_words=stop_words)"
   ]
  },
  {
   "cell_type": "code",
   "execution_count": 84,
   "metadata": {},
   "outputs": [],
   "source": [
    "def cosine_similarity(x, y): \n",
    "    zero_list = [0] * len(x)\n",
    "    if all(x == zero_list) or all(y == zero_list):\n",
    "        return float(1) if all(x == y) else float(0)\n",
    "    \n",
    "    res = np.array([[x[i] * y[i], x[i] * x[i], y[i] * y[i]] for i in range(len(x))])\n",
    "    cos = sum(res[:, 0]) / (np.sqrt(sum(res[:, 1])) * np.sqrt(sum(res[:, 2])))\n",
    "    return cos"
   ]
  },
  {
   "cell_type": "code",
   "execution_count": 85,
   "metadata": {
    "scrolled": true
   },
   "outputs": [],
   "source": [
    "def find_similar_question(query, k=10):\n",
    "    distances =[]\n",
    "    similar_questions = []\n",
    "    for i in range(0, len(corpus)):\n",
    "        X = vectorizer.fit_transform([query, corpus[i]])\n",
    "        distances.append((i, cosine_similarity(X.toarray()[0], X.toarray()[1])))\n",
    "    distances.sort(key=lambda x:x[1], reverse=True)\n",
    "    for i in range(0, k):\n",
    "        similar_questions.append(corpus[distances[i][0]])\n",
    "    return similar_questions"
   ]
  },
  {
   "cell_type": "markdown",
   "metadata": {},
   "source": [
    "#### 2."
   ]
  },
  {
   "cell_type": "markdown",
   "metadata": {},
   "source": [
    "Query: \"programming\""
   ]
  },
  {
   "cell_type": "code",
   "execution_count": 86,
   "metadata": {
    "scrolled": true
   },
   "outputs": [
    {
     "name": "stderr",
     "output_type": "stream",
     "text": [
      "/Users/xuruge/opt/anaconda3/lib/python3.8/site-packages/sklearn/feature_extraction/text.py:388: UserWarning: Your stop_words may be inconsistent with your preprocessing. Tokenizing the stop words generated tokens ['doesn'] not in stop_words.\n",
      "  warnings.warn('Your stop_words may be inconsistent with '\n"
     ]
    },
    {
     "data": {
      "text/plain": [
       "['How to start programming? What are important things i have to learn in programming?',\n",
       " 'Programmers, what do you like about programming?',\n",
       " 'Do you like your programming job? If not, why?',\n",
       " 'I like programming, what other hobbies may I like?',\n",
       " 'How to start programming?',\n",
       " 'Which language programming do you prefer?',\n",
       " 'What is your favorite programming language and why?',\n",
       " 'What is your best quotes about programming?',\n",
       " 'Where can i find programming podcast?',\n",
       " 'Other than programming, what other hobbies may programmers like?']"
      ]
     },
     "execution_count": 86,
     "metadata": {},
     "output_type": "execute_result"
    }
   ],
   "source": [
    "find_similar_question(\"programming\")"
   ]
  },
  {
   "cell_type": "markdown",
   "metadata": {},
   "source": [
    "$$\n",
    "\\begin{aligned}\n",
    "DCG_{10}&=r_1+\\frac{r_2}{\\log_2(2)}+\\dots+\\frac{r_{10}}{\\log_2(10)}\\\\\n",
    "&=2+\\frac{2}{\\log_2(2)}+\\frac{2}{\\log_2(3)}+\\frac{0}{\\log_2(4)}+\\frac{2}{\\log_2(5)}+\\frac{2}{\\log_2(6)}+\\frac{1}{\\log_2(7)}+\\frac{1}{\\log_2(8)}+\\frac{1}{\\log_2(9)}+\\frac{0}{\\log_2(10)}\\\\\n",
    "&=7.9019\n",
    "\\end{aligned}\n",
    "$$"
   ]
  },
  {
   "cell_type": "markdown",
   "metadata": {},
   "source": [
    "$$\n",
    "\\begin{aligned}\n",
    "IDCG_{10}&=2+\\frac{2}{\\log_2(2)}+\\frac{2}{\\log_2(3)}+\\frac{2}{\\log_2(4)}+\\frac{2}{\\log_2(5)}+\\frac{1}{\\log_2(6)}+\\frac{1}{\\log_2(7)}+\\frac{1}{\\log_2(8)}+\\frac{1}{\\log_2(9)}+\\frac{1}{\\log_2(10)}\\\\\n",
    "&=8.8161\n",
    "\\end{aligned}\n",
    "$$"
   ]
  },
  {
   "cell_type": "markdown",
   "metadata": {},
   "source": [
    "$$\n",
    "NDCG_{10}=\\frac{DCG_{10}}{IDCG_{10}}=0.89630\n",
    "$$"
   ]
  },
  {
   "cell_type": "markdown",
   "metadata": {},
   "source": [
    "Query: \"pets\""
   ]
  },
  {
   "cell_type": "code",
   "execution_count": 87,
   "metadata": {
    "scrolled": false
   },
   "outputs": [
    {
     "data": {
      "text/plain": [
       "['Do you have any pets? If so, what are they like?',\n",
       " 'What pets do you have? What are they like?',\n",
       " 'How would it go for you if you woke up as one of your pets, and all your pets became human?',\n",
       " 'How many pets can you own before it gets to the point where you have too many pets?',\n",
       " 'If there was a dating app for pets, what would your pets ‘Tell Us About Yourself’ be?',\n",
       " 'What kind of pets do you dance with?',\n",
       " 'How many pets have you had? what kind of animals where they?',\n",
       " 'What are the cleanest pets?',\n",
       " \"What's your pets name?\",\n",
       " 'May I see a photo of your pets?']"
      ]
     },
     "execution_count": 87,
     "metadata": {},
     "output_type": "execute_result"
    }
   ],
   "source": [
    "find_similar_question(\"pets\")"
   ]
  },
  {
   "cell_type": "markdown",
   "metadata": {},
   "source": [
    "$$\n",
    "\\begin{aligned}\n",
    "DCG_{10}&=r_1+\\frac{r_2}{\\log_2(2)}+\\dots+\\frac{r_{10}}{\\log_2(10)}\\\\\n",
    "&=2+\\frac{2}{\\log_2(2)}+\\frac{0}{\\log_2(3)}+\\frac{1}{\\log_2(4)}+\\frac{0}{\\log_2(5)}+\\frac{0}{\\log_2(6)}+\\frac{2}{\\log_2(7)}+\\frac{2}{\\log_2(8)}+\\frac{1}{\\log_2(9)}+\\frac{1}{\\log_2(10)}\\\\\n",
    "&=6.4955\n",
    "\\end{aligned}\n",
    "$$"
   ]
  },
  {
   "cell_type": "markdown",
   "metadata": {},
   "source": [
    "$$\n",
    "\\begin{aligned}\n",
    "IDCG_{10}&=2+\\frac{2}{\\log_2(2)}+\\frac{2}{\\log_2(3)}+\\frac{2}{\\log_2(4)}+\\frac{1}{\\log_2(5)}+\\frac{1}{\\log_2(6)}+\\frac{1}{\\log_2(7)}+\\frac{1}{\\log_2(8)}+\\frac{1}{\\log_2(9)}+\\frac{1}{\\log_2(10)}\\\\\n",
    "&=8.3854\n",
    "\\end{aligned}\n",
    "$$"
   ]
  },
  {
   "cell_type": "markdown",
   "metadata": {},
   "source": [
    "$$\n",
    "NDCG_{10}=\\frac{DCG_{10}}{IDCG_{10}}=0.77462\n",
    "$$"
   ]
  },
  {
   "cell_type": "markdown",
   "metadata": {},
   "source": [
    "Query: \"college\""
   ]
  },
  {
   "cell_type": "code",
   "execution_count": 88,
   "metadata": {
    "scrolled": false
   },
   "outputs": [
    {
     "data": {
      "text/plain": [
       "['For those with a college degree; do you regret going to college? Why or why not?',\n",
       " 'College students, how many hours a day do you spend at college?',\n",
       " 'College graduates, where do you store all your materials after college?',\n",
       " 'Current college students or college grads: What is (was) your favorite thing about going to college and being on campus?',\n",
       " 'College attending folks, or those that have attended college, what do you wish someone would have told you prior to starting college?',\n",
       " \"I'm starting college in a few days and I'm super nervous. What are some do's and dont's at college? Would love some general college advice!\",\n",
       " \"I'm starting college in a few days and I'm super nervous. What are some do's and dont's at college? Would love some general college advice!\",\n",
       " 'College graduates of the 2010s- where are you now? Would you say college was worth it? Why or why not?',\n",
       " 'How can I finish college?',\n",
       " 'What got you through college?']"
      ]
     },
     "execution_count": 88,
     "metadata": {},
     "output_type": "execute_result"
    }
   ],
   "source": [
    "find_similar_question(\"college\")"
   ]
  },
  {
   "cell_type": "markdown",
   "metadata": {},
   "source": [
    "$$\n",
    "\\begin{aligned}\n",
    "DCG_{10}&=r_1+\\frac{r_2}{\\log_2(2)}+\\dots+\\frac{r_{10}}{\\log_2(10)}\\\\\n",
    "&=1+\\frac{2}{\\log_2(2)}+\\frac{0}{\\log_2(3)}+\\frac{1}{\\log_2(4)}+\\frac{2}{\\log_2(5)}+\\frac{2}{\\log_2(6)}+\\frac{2}{\\log_2(7)}+\\frac{1}{\\log_2(8)}+\\frac{1}{\\log_2(9)}+\\frac{2}{\\log_2(10)}\\\\\n",
    "&=6.7649\n",
    "\\end{aligned}\n",
    "$$"
   ]
  },
  {
   "cell_type": "markdown",
   "metadata": {},
   "source": [
    "$$\n",
    "\\begin{aligned}\n",
    "IDCG_{10}&=2+\\frac{2}{\\log_2(2)}+\\frac{2}{\\log_2(3)}+\\frac{2}{\\log_2(4)}+\\frac{2}{\\log_2(5)}+\\frac{1}{\\log_2(6)}+\\frac{1}{\\log_2(7)}+\\frac{1}{\\log_2(8)}+\\frac{1}{\\log_2(9)}+\\frac{1}{\\log_2(10)}\\\\\n",
    "&=8.8161\n",
    "\\end{aligned}\n",
    "$$"
   ]
  },
  {
   "cell_type": "markdown",
   "metadata": {},
   "source": [
    "$$\n",
    "NDCG_{10}=\\frac{DCG_{10}}{IDCG_{10}}=0.76734\n",
    "$$"
   ]
  },
  {
   "cell_type": "markdown",
   "metadata": {},
   "source": [
    "Query: \"love\""
   ]
  },
  {
   "cell_type": "code",
   "execution_count": 89,
   "metadata": {
    "scrolled": true
   },
   "outputs": [
    {
     "data": {
      "text/plain": [
       "['Never been in love',\n",
       " 'What do you love most about yourself?',\n",
       " 'What do you love most about your SO?',\n",
       " 'What do you love most about yourself?',\n",
       " 'Why do you love me so much?',\n",
       " 'What do u love to do?',\n",
       " 'What is love?',\n",
       " 'What is love to you?',\n",
       " 'what do you love?',\n",
       " 'What is love and what is not love?']"
      ]
     },
     "execution_count": 89,
     "metadata": {},
     "output_type": "execute_result"
    }
   ],
   "source": [
    "find_similar_question(\"love\")"
   ]
  },
  {
   "cell_type": "markdown",
   "metadata": {},
   "source": [
    "$$\n",
    "\\begin{aligned}\n",
    "DCG_{10}&=r_1+\\frac{r_2}{\\log_2(2)}+\\dots+\\frac{r_{10}}{\\log_2(10)}\\\\\n",
    "&=1+\\frac{2}{\\log_2(2)}+\\frac{2}{\\log_2(3)}+\\frac{2}{\\log_2(4)}+\\frac{1}{\\log_2(5)}+\\frac{1}{\\log_2(6)}+\\frac{2}{\\log_2(7)}+\\frac{2}{\\log_2(8)}+\\frac{1}{\\log_2(9)}+\\frac{2}{\\log_2(10)}\\\\\n",
    "&=8.3759\n",
    "\\end{aligned}\n",
    "$$"
   ]
  },
  {
   "cell_type": "markdown",
   "metadata": {},
   "source": [
    "$$\n",
    "\\begin{aligned}\n",
    "IDCG_{10}&=2+\\frac{2}{\\log_2(2)}+\\frac{2}{\\log_2(3)}+\\frac{2}{\\log_2(4)}+\\frac{2}{\\log_2(5)}+\\frac{2}{\\log_2(6)}+\\frac{1}{\\log_2(7)}+\\frac{1}{\\log_2(8)}+\\frac{1}{\\log_2(9)}+\\frac{1}{\\log_2(10)}\\\\\n",
    "&=9.2029\n",
    "\\end{aligned}\n",
    "$$"
   ]
  },
  {
   "cell_type": "markdown",
   "metadata": {},
   "source": [
    "$$\n",
    "NDCG_{10}=\\frac{DCG_{10}}{IDCG_{10}}=0.91014\n",
    "$$"
   ]
  },
  {
   "cell_type": "markdown",
   "metadata": {},
   "source": [
    "Query: \"food\""
   ]
  },
  {
   "cell_type": "code",
   "execution_count": 90,
   "metadata": {
    "scrolled": true
   },
   "outputs": [
    {
     "data": {
      "text/plain": [
       "['If you were a food, what would you be?',\n",
       " 'What food can you never get enough of? Why is that?',\n",
       " 'People in food service or food prep, have you ever spit in someone’s food?',\n",
       " 'What would be too much food for a day? (Give food examples)',\n",
       " 'If you could eat only one type of food what food would that be and why?',\n",
       " 'What is your “I love this food so much a could eat it all” food?',\n",
       " 'What is your “I love this food so much a could eat it all” food?',\n",
       " 'What are some food vs food debates? Also which side are you on?',\n",
       " 'Food Now tastes as it smells, what food would you have first and why?',\n",
       " 'What food would you buy if it was the only food you could ever eat?']"
      ]
     },
     "execution_count": 90,
     "metadata": {},
     "output_type": "execute_result"
    }
   ],
   "source": [
    "find_similar_question(\"food\")"
   ]
  },
  {
   "cell_type": "markdown",
   "metadata": {},
   "source": [
    "$$\n",
    "\\begin{aligned}\n",
    "DCG_{10}&=r_1+\\frac{r_2}{\\log_2(2)}+\\dots+\\frac{r_{10}}{\\log_2(10)}\\\\\n",
    "&=0+\\frac{2}{\\log_2(2)}+\\frac{1}{\\log_2(3)}+\\frac{1}{\\log_2(4)}+\\frac{2}{\\log_2(5)}+\\frac{2}{\\log_2(6)}+\\frac{2}{\\log_2(7)}+\\frac{1}{\\log_2(8)}+\\frac{1}{\\log_2(9)}+\\frac{2}{\\log_2(10)}\\\\\n",
    "&=6.7292\n",
    "\\end{aligned}\n",
    "$$"
   ]
  },
  {
   "cell_type": "markdown",
   "metadata": {},
   "source": [
    "$$\n",
    "\\begin{aligned}\n",
    "IDCG_{10}&=2+\\frac{2}{\\log_2(2)}+\\frac{2}{\\log_2(3)}+\\frac{2}{\\log_2(4)}+\\frac{2}{\\log_2(5)}+\\frac{1}{\\log_2(6)}+\\frac{1}{\\log_2(7)}+\\frac{1}{\\log_2(8)}+\\frac{1}{\\log_2(9)}+\\frac{1}{\\log_2(10)}\\\\\n",
    "&=8.8161\n",
    "\\end{aligned}\n",
    "$$"
   ]
  },
  {
   "cell_type": "markdown",
   "metadata": {},
   "source": [
    "$$\n",
    "NDCG_{10}=\\frac{DCG_{10}}{IDCG_{10}}=0.76329\n",
    "$$"
   ]
  },
  {
   "cell_type": "markdown",
   "metadata": {},
   "source": [
    "#### 3."
   ]
  },
  {
   "cell_type": "markdown",
   "metadata": {},
   "source": [
    "First of all, I feel that my search engine is not fast enough and it takes a lot of time to calculate when a query is entered.\n",
    "\n",
    "Also, I find that when the query is short, it is easy to have irrelevant documents. For example, when the query is \"programming\", my search engine will give a relevant document \"I like programming, what other hobbies may I like?\", which has almost nothing to do with “programming” itself but contains the keyword programming."
   ]
  },
  {
   "cell_type": "markdown",
   "metadata": {},
   "source": [
    "#### 4."
   ]
  },
  {
   "cell_type": "code",
   "execution_count": 91,
   "metadata": {},
   "outputs": [],
   "source": [
    "def count_terms(corpus, n):\n",
    "    X = vectorizer.fit_transform(corpus[0:n])\n",
    "    return len(vectorizer.get_feature_names())"
   ]
  },
  {
   "cell_type": "code",
   "execution_count": 92,
   "metadata": {},
   "outputs": [
    {
     "data": {
      "text/plain": [
       "[1473, 2325, 6163, 8871, 12568]"
      ]
     },
     "execution_count": 92,
     "metadata": {},
     "output_type": "execute_result"
    }
   ],
   "source": [
    "count = []\n",
    "count.append(count_terms(corpus, 500))\n",
    "count.append(count_terms(corpus, 1000))\n",
    "count.append(count_terms(corpus, 5000))\n",
    "count.append(count_terms(corpus, 10000))\n",
    "count.append(count_terms(corpus, 20000))\n",
    "count"
   ]
  },
  {
   "cell_type": "code",
   "execution_count": 93,
   "metadata": {},
   "outputs": [],
   "source": [
    "import seaborn as sns\n",
    "import pandas as pd"
   ]
  },
  {
   "cell_type": "code",
   "execution_count": 94,
   "metadata": {},
   "outputs": [
    {
     "data": {
      "text/plain": [
       "<AxesSubplot:xlabel='question', ylabel='vocabulary'>"
      ]
     },
     "execution_count": 94,
     "metadata": {},
     "output_type": "execute_result"
    },
    {
     "data": {
      "image/png": "[encoded data removed]",
      "text/plain": [
       "<Figure size 432x288 with 1 Axes>"
      ]
     },
     "metadata": {
      "needs_background": "light"
     },
     "output_type": "display_data"
    }
   ],
   "source": [
    "dict = {'question': [500,1000,5000,10000,20000], 'vocabulary': count}\n",
    "sns.lineplot(x='question', y='vocabulary', data=pd.DataFrame(dict))"
   ]
  },
  {
   "cell_type": "markdown",
   "metadata": {},
   "source": [
    "From the plot we that the more documents we get, the slower the size of vocabulary rises. We can infer that when the number of documents increases to a certain extent, the upward speed of vocabulary size tends to be flat. As a result, the size of vocabulary is likely to eventually stabilize at a number."
   ]
  }
 ],
 "metadata": {
  "kernelspec": {
   "display_name": "Python 3",
   "language": "python",
   "name": "python3"
  },
  "language_info": {
   "codemirror_mode": {
    "name": "ipython",
    "version": 3
   },
   "file_extension": ".py",
   "mimetype": "text/x-python",
   "name": "python",
   "nbconvert_exporter": "python",
   "pygments_lexer": "ipython3",
   "version": "3.8.5"
  }
 },
 "nbformat": 4,
 "nbformat_minor": 4
}
